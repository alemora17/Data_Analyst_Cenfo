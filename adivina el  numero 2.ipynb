{
 "cells": [
  {
   "cell_type": "markdown",
   "metadata": {},
   "source": [
    "# Vamos a Programar un juego"
   ]
  },
  {
   "cell_type": "markdown",
   "metadata": {},
   "source": [
    "**Instrucciones:**\n",
    "\n",
    "Crear un programa que selecciona un número del 1 al 100 y le pide al jugador que adivine el número. \n",
    "\n",
    "Reglas del juego:\n",
    "    1. Si el jugador ingresa un número superior a 100 o menor a 1, se debe imprimr una advertencia\n",
    "    2. Si en el primer turno el jugador adivina y está a 10 numeros de distancia de la respuesta debe indicarle al jugador que está cerca. Sino debe indicarle que está lejos.\n",
    "    3. Si el jugador adivina y se acerca al número debe indicarse \"te estas acercando\" de lo contrario \"te estas alejando\"\n",
    "    4. Si el jugador adivina el número se le debe indicar que acertó y se le debe decir en cuántos turnos logró el resultado.\n",
    "    5. El juego debe iniciar con una introducción al juego y con las instrucciones"
   ]
  },
  {
   "cell_type": "markdown",
   "metadata": {},
   "source": [
    "** pasos **\n",
    "\n",
    "1. Importar random \n",
    "2. Que el sistema seleccione un numero \n",
    "3. Asignarlo a una variable \n",
    "4. Crear una variable que guarde los intentos \n",
    "5. Validador si el numero cumple los requisitor \n",
    "6. Pedirle al usuario una prediccion \n",
    "7. Revisar si adivino \n",
    "8. Sino repetir hasta que adivine\n",
    "9. Guardar los predcciones anterior para saber si esta mas cerca o mas lejos"
   ]
  },
  {
   "cell_type": "code",
   "execution_count": 4,
   "metadata": {},
   "outputs": [
    {
     "name": "stdout",
     "output_type": "stream",
     "text": [
      "Bienvenido al juego\n",
      "Voy a pensar en un numero del 1 al 100 y despues vas a adivinarlo\n"
     ]
    }
   ],
   "source": [
    "#1.:\n",
    "\n",
    "from random import randint \n",
    "\n",
    "print (\"Bienvenido al juego\")\n",
    "print (\"Voy a pensar en un numero del 1 al 100 y despues vas a adivinarlo\")"
   ]
  },
  {
   "cell_type": "code",
   "execution_count": null,
   "metadata": {},
   "outputs": [],
   "source": [
    "# 2\n",
    "\n",
    "#numero = randint(1,100)  #porque es es el numero que selecciona la computadora\n",
    "\n",
    "numero = 10\n",
    "# 4 \n",
    "intentos = 0\n",
    "prediccion_pasada = None \n",
    "\n",
    "#5\n",
    "#hay que meterlo en un ciclo, porque si mete una produccion y no pega, el juego ahi se va a acabar.\n",
    "\n",
    "while True:\n",
    "    prediccion = int(input(\"Cual numero es el tuyo? \"))\n",
    "    # Todas las validaciones: si es un entero, que este dentro del rango, que no sea una letra, etc.\n",
    "    if prediccion < 1 or prediccion > 100:\n",
    "        print(\"El numero tiene que estar entre 1 y 100\")\n",
    "        continue\n",
    "        \n",
    "    if prediccion == numero:\n",
    "        intentos += 1\n",
    "        print(\"Adivinaste! y solo tomo {}  intentos\".format(intentos))\n",
    "        break\n",
    "    \n",
    "    intentos += 1\n",
    "    if prediccion_pasada: \n",
    "        if abs(numero-prediccion) < abs (numero-prediccion_pasada):\n",
    "            print(\"Te estas acercando!\")\n",
    "            prediccion_pasada = preddicion #mi prediccion nueva la que voy a utilizar par la siguiente evaluacion. \n",
    "        else:\n",
    "            print(\"Te estas alejando: \")\n",
    "            prediccion_pasada = prediccion\n",
    "    else: \n",
    "         if abs(numero - preddiccion) <= 10: \n",
    "                print(\"Uy! en el poste, casi casi\")\n",
    "                 prediccion_pasada = prediccion\n",
    "        else \n",
    "            print(\"Que va, muy lejos\")\n",
    "            prediccion_pasada = prediccion\n",
    "            \n",
    "            "
   ]
  },
  {
   "cell_type": "markdown",
   "metadata": {},
   "source": [
    "# Soluciones Aproximadas\n"
   ]
  },
  {
   "cell_type": "code",
   "execution_count": null,
   "metadata": {},
   "outputs": [],
   "source": [
    "# Biseccion "
   ]
  },
  {
   "cell_type": "code",
   "execution_count": null,
   "metadata": {},
   "outputs": [],
   "source": [
    "# Neton Raphson \n",
    "\n",
    "# para estimar las raices de los polinomios \n",
    "\n"
   ]
  },
  {
   "cell_type": "markdown",
   "metadata": {},
   "source": [
    "# Funciones"
   ]
  },
  {
   "cell_type": "code",
   "execution_count": null,
   "metadata": {},
   "outputs": [],
   "source": []
  },
  {
   "cell_type": "code",
   "execution_count": null,
   "metadata": {},
   "outputs": [],
   "source": []
  },
  {
   "cell_type": "code",
   "execution_count": null,
   "metadata": {},
   "outputs": [],
   "source": []
  },
  {
   "cell_type": "code",
   "execution_count": null,
   "metadata": {},
   "outputs": [],
   "source": []
  },
  {
   "cell_type": "code",
   "execution_count": null,
   "metadata": {},
   "outputs": [],
   "source": []
  },
  {
   "cell_type": "code",
   "execution_count": null,
   "metadata": {},
   "outputs": [],
   "source": []
  },
  {
   "cell_type": "code",
   "execution_count": null,
   "metadata": {},
   "outputs": [],
   "source": []
  },
  {
   "cell_type": "code",
   "execution_count": null,
   "metadata": {},
   "outputs": [],
   "source": []
  },
  {
   "cell_type": "code",
   "execution_count": null,
   "metadata": {},
   "outputs": [],
   "source": []
  }
 ],
 "metadata": {
  "kernelspec": {
   "display_name": "Python 3",
   "language": "python",
   "name": "python3"
  },
  "language_info": {
   "codemirror_mode": {
    "name": "ipython",
    "version": 3
   },
   "file_extension": ".py",
   "mimetype": "text/x-python",
   "name": "python",
   "nbconvert_exporter": "python",
   "pygments_lexer": "ipython3",
   "version": "3.7.0"
  }
 },
 "nbformat": 4,
 "nbformat_minor": 2
}
