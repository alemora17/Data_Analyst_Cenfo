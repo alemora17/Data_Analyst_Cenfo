{
 "cells": [
  {
   "cell_type": "markdown",
   "metadata": {},
   "source": [
    "# Parte 3: Clases\n",
    "\n",
    "Resuelva los siguientes problemas de acuerdo con lo que se vio en clase"
   ]
  },
  {
   "cell_type": "markdown",
   "metadata": {},
   "source": [
    "##### Ejercicio 1: Clase circulo\n",
    "\n",
    "Cree una clase que se llame círculo que tenga como atribuot el radio del círculo y además el valor de pi. Además debe tener un método que calcule el área del círculo y la circunferencia"
   ]
  },
  {
   "cell_type": "code",
   "execution_count": 1,
   "metadata": {},
   "outputs": [],
   "source": [
    "class circulo:\n",
    "    def __init__(self, radio):\n",
    "        self.radio = radio\n",
    "        self.pi = 3.1416\n",
    "    \n",
    "    def radio (self):\n",
    "        return radio  \n",
    "    \n",
    "    def pi (self):\n",
    "        return pi\n",
    "    \n",
    "    def area(self):\n",
    "        return (self.radio**2) * self.pi\n",
    "    \n",
    "    def circ(self): \n",
    "        calc = 2*self.pi*self.radio\n",
    "        return \"%.3f\" % calc"
   ]
  },
  {
   "cell_type": "code",
   "execution_count": 2,
   "metadata": {},
   "outputs": [
    {
     "name": "stdout",
     "output_type": "stream",
     "text": [
      "Radio: 5\n",
      "Pi: 3.1416\n",
      "Area: 78.53999999999999\n",
      "Circunferencia:  31.416\n"
     ]
    }
   ],
   "source": [
    "# Resultado Esperado\n",
    "c = circulo(5)\n",
    "print(\"Radio:\", c.radio)\n",
    "print(\"Pi:\", c.pi)\n",
    "print(\"Area:\", c.area()) \n",
    "print(\"Circunferencia: \", c.circ())"
   ]
  },
  {
   "cell_type": "markdown",
   "metadata": {},
   "source": [
    "#### Ejercicio 2: Clase linea\n",
    "\n",
    "Cree una clase que se llame linea que reciba el punto inicial (x, y) el punto final (x2, y2) y los guarde como atributos y que tenga un método que calcule la longitud de la línea y otro la pendiente de la línea.   "
   ]
  },
  {
   "cell_type": "code",
   "execution_count": 3,
   "metadata": {},
   "outputs": [],
   "source": [
    "class Linea:\n",
    "    def __init__(self, t1,t2):\n",
    "        self.x1 = t1[0]\n",
    "        self.y1 = t1[1]\n",
    "        self.x2 = t2[0]\n",
    "        self.y2 = t2[1]\n",
    "    \n",
    "    def distancia(self):\n",
    "        dif1 = (self.x2 - self.x1)**2\n",
    "        dif2 = (self.y2 - self.y1)**2\n",
    "        return  (dif1 + dif2)**(1/2)\n",
    "        \n",
    "    def pendiente(self):\n",
    "        dif1 = self.y2 - self.y1\n",
    "        dif2 = self.x2 - self.x1\n",
    "        return \"%.1f\" % (dif1/dif2)\n",
    "        \n",
    "    "
   ]
  },
  {
   "cell_type": "code",
   "execution_count": 4,
   "metadata": {},
   "outputs": [
    {
     "name": "stdout",
     "output_type": "stream",
     "text": [
      "5.385164807134504\n",
      "-0.4\n"
     ]
    }
   ],
   "source": [
    "# Resultado Esperado\n",
    "l = Linea((1,3),(-4,5))\n",
    "print(l.distancia())\n",
    "print(l.pendiente())"
   ]
  },
  {
   "cell_type": "markdown",
   "metadata": {},
   "source": [
    "#### Ejercicio 3: Clase Animal\n",
    "\n",
    "Cree una clase que se llame Animal que defina los atributos que usted considere que tienen que tener un animal. Dentro de esta clase debe existir un método llamado \"hablar\" que devuelva algun texto. \n",
    "\n",
    "Cree una clsae que se llame Perro y otra que se llame Gato y que ambas hereden propiedades de la clase animal y que cada una tenga su propio método \"hablar\" que diga algo diferente a Animal. \n",
    "\n",
    "Explique en una celda de Markdown qué es lo que está pasando."
   ]
  },
  {
   "cell_type": "code",
   "execution_count": 5,
   "metadata": {},
   "outputs": [],
   "source": [
    "class Animal:\n",
    "    \n",
    "    def __init__(self, nombre, tipo, especie, edad): # preguntar cuando es necesario ponerlas en los () y cuando no\n",
    "        self.nombre = nombre \n",
    "        self.tipo = tipo\n",
    "        self.especie = especie\n",
    "        self.edad = edad\n",
    "        print(\"Se creó un Animal\")\n",
    "    \n",
    "    def hablar(self):\n",
    "        print(\"Soy un {} {} y tengo {} años\".format(self.tipo, self.especie, self.edad))\n",
    "\n"
   ]
  },
  {
   "cell_type": "code",
   "execution_count": 6,
   "metadata": {},
   "outputs": [
    {
     "name": "stdout",
     "output_type": "stream",
     "text": [
      "Se creó un Animal\n",
      "Soy un Animal Mamifero y tengo 2 años\n"
     ]
    }
   ],
   "source": [
    "a = Animal(\"manuel\",\"Animal\", \"Mamifero\", 2)\n",
    "a.hablar()  ### revisar con John"
   ]
  },
  {
   "cell_type": "code",
   "execution_count": 7,
   "metadata": {},
   "outputs": [],
   "source": [
    "class Perro(Animal):\n",
    "    def __init__(self, nombre, tipo, especie, edad, raza):\n",
    "        super().__init__(nombre, tipo, especie, edad)\n",
    "        self.raza = raza\n",
    "         \n",
    "    def hablar(self):\n",
    "        print(\"Soy un Perro, me llamo {} tengo {} años y soy un {}\".format(self.nombre, self.edad, self.raza))\n",
    "        \n",
    "class Gato(Animal):\n",
    "    def __init__(self, nombre, tipo, especie, edad, raza):\n",
    "        super().__init__(nombre, tipo, especie, edad)\n",
    "        self.raza = raza\n",
    "\n",
    "    def hablar(self):\n",
    "        print(\"Soy un Gato, me llamo {} tengo {} años y soy un {}\".format(self.nombre, self.edad, self.raza))"
   ]
  },
  {
   "cell_type": "code",
   "execution_count": 8,
   "metadata": {},
   "outputs": [
    {
     "name": "stdout",
     "output_type": "stream",
     "text": [
      "Se creó un Animal\n",
      "Soy un Perro, me llamo Polly tengo 12 años y soy un schnauzer\n",
      "Se creó un Animal\n",
      "Soy un Gato, me llamo Mani tengo 2 años y soy un Persa\n"
     ]
    }
   ],
   "source": [
    "## Ver con John la Parte de heredar los atributos para ponerle\n",
    "## al perro y al gato un nuevo nombre\n",
    "p = Perro('Polly', 'Animal de cuatro patas', 'Mamifero', 12, 'schnauzer')\n",
    "p.hablar()\n",
    "\n",
    "g = Gato(\"Mani\", \"Felino\", \"Mamifero\", 2, \"Persa\")\n",
    "g.hablar()"
   ]
  },
  {
   "cell_type": "markdown",
   "metadata": {},
   "source": [
    "#### Ejercicio 4: Cuenta de Banco\n",
    "Cree una clase que corresponda a una cuenta de banco. La cuenta de banco va a tener dos atributos:\n",
    "\n",
    "* dueño\n",
    "* balance (saldo)\n",
    "* clave\n",
    "\n",
    "y dos métodos:\n",
    "\n",
    "* depositar\n",
    "* retirar\n",
    "* validar clave\n",
    "\n",
    "Requerimientos: \n",
    "\n",
    "    - Se debe crear una clave cuando se crea la cuenta y se tiene que hacer un método que valide que la clave es segura: Debe tener por lo menos 8 caracteres y tener letras, números y al menos un caracter especial (*/!+-)\n",
    "    - No se puede retirar montos que hagan que la cuenta quede en menos de 0, en otras palabras se tiene que tener saldo para poder hacer un retiro. \n",
    "    - Cada vez que se usa un método se tiene que ingresar la clave y se tiene que validar. \n",
    "    - Cuando se usa el método print() se debe imprimir un texto que describa la cuenta. \n",
    "    - Se debe lanzar mensajes que indiquen al usuario qué es lo que está pasando. \n",
    "   "
   ]
  },
  {
   "cell_type": "code",
   "execution_count": 10,
   "metadata": {},
   "outputs": [],
   "source": [
    "class CuentaBancaria:\n",
    "    \n",
    "    def __init__(self, duenho, balance):\n",
    "        assert balance >= 0, \"El balance no puede estar en negativo.\\n\"\n",
    "        self.duenho = duenho\n",
    "        self.balance = balance\n",
    "        self.clave = None\n",
    "        \n",
    "    def menu(self):\n",
    "        menuOpciones = {1 : self.crearClave, 2: self.depositar, 3: self.retirar}\n",
    "        opcion = int(input(\"Hola {} ¿Que operación desea realizar?\\n1. Crear Clave\\n2. Depositar\\n3. Retirar\\n4. Salir\\n\".format(self.duenho)))\n",
    "        \n",
    "        if opcion != 4:\n",
    "            f = menuOpciones[opcion]\n",
    "            f()\n",
    "            self.menu()\n",
    "        else:\n",
    "            print(\"Gracias!\\n\")\n",
    "               \n",
    "        \n",
    "    def crearClave(self):\n",
    "        caracteresEsp = [\"*\", \"/\", \"!\", \"+\", \"-\"]\n",
    "        \n",
    "        self.clave = input(\"Dijite una clave que tenga un minimo de 8 Caracteres y que contenta caracteres especiales (*/!+-)\\n\")\n",
    "        \n",
    "        if len(self.clave) < 7:\n",
    "            print(\"la clave necesita ser de 8 caracteres\\n\")\n",
    "            self.crearClave()\n",
    "        \n",
    "        esValido = False\n",
    "        for i in self.clave:\n",
    "            if i in caracteresEsp:\n",
    "                esValido = True\n",
    "        \n",
    "        if esValido == False:\n",
    "            print(\"la clave necesita tener caracteres especiales\\n\")\n",
    "            self.crearClave()\n",
    "            \n",
    "    def depositar(self):\n",
    "        \n",
    "        if self.clave is None:\n",
    "            print(\"Favor crear clave\\n\")\n",
    "            return\n",
    "        \n",
    "        if self.validarClave():\n",
    "            deposito = int(input(\"Dijite el monto a depositar\\n\"))\n",
    "            \n",
    "            if deposito < 0:\n",
    "                print(\"El deposito no puede ser menor a $1\\n\")\n",
    "                return \n",
    "            \n",
    "            self.balance += deposito\n",
    "            print(\"\\nEl monto depositado es ${}, el total del balance es de ${}\\n\".format(deposito, self.balance))\n",
    "        \n",
    "        else:\n",
    "            print(\"\\nFavor crear clave\\n\")\n",
    "        \n",
    "    def retirar(self):\n",
    "        if self.clave is None:\n",
    "            print(\"\\nFavor crear clave\\n\")\n",
    "            return\n",
    "        \n",
    "        if self.validarClave():\n",
    "            retiro = int(input(\"\\nDijite el monto a retirar\\n\"))\n",
    "            \n",
    "            if retiro > self.balance:\n",
    "                print(\"\\nEl retiro no puede ser mayor al total de la cuenta. Actualmente su balance es de {}\\n\".format(self.balance))\n",
    "                return\n",
    "            \n",
    "            self.balance -= retiro\n",
    "            print(\"\\nEl monto retirado es ${}, el total del balance es de ${}\\n\".format(retiro, self.balance))\n",
    "        else:\n",
    "            print(\"\\nClave invalida\\n\")\n",
    "    \n",
    "    def validarClave(self):\n",
    "        validacion = input(\"\\nIngrese de nuevo su contraseña\\n\")\n",
    "        return validacion == self.clave\n",
    "            "
   ]
  },
  {
   "cell_type": "code",
   "execution_count": 9,
   "metadata": {},
   "outputs": [
    {
     "name": "stdout",
     "output_type": "stream",
     "text": [
      "Hola Ale ¿Que operación desea realizar?\n",
      "1. Crear Clave\n",
      "2. Depositar\n",
      "3. Retirar\n",
      "4. Salir\n",
      "2\n",
      "Favor crear clave\n",
      "\n",
      "Hola Ale ¿Que operación desea realizar?\n",
      "1. Crear Clave\n",
      "2. Depositar\n",
      "3. Retirar\n",
      "4. Salir\n",
      "1\n",
      "Dijite una clave que tenga un minimo de 8 Caracteres y que contenta caracteres especiales (*/!+-)\n",
      "123456789!\n",
      "Hola Ale ¿Que operación desea realizar?\n",
      "1. Crear Clave\n",
      "2. Depositar\n",
      "3. Retirar\n",
      "4. Salir\n",
      "2\n",
      "\n",
      "Ingrese de nuevo su contraseña\n",
      "123456789!\n",
      "Dijite el monto a depositar\n",
      "200\n",
      "\n",
      "El monto depositado es $200, el total del balance es de $1200\n",
      "\n",
      "Hola Ale ¿Que operación desea realizar?\n",
      "1. Crear Clave\n",
      "2. Depositar\n",
      "3. Retirar\n",
      "4. Salir\n",
      "3\n",
      "\n",
      "Ingrese de nuevo su contraseña\n",
      "123456789!\n",
      "\n",
      "Dijite el monto a retirar\n",
      "200\n",
      "\n",
      "El monto retirado es $200, el total del balance es de $1000\n",
      "\n",
      "Hola Ale ¿Que operación desea realizar?\n",
      "1. Crear Clave\n",
      "2. Depositar\n",
      "3. Retirar\n",
      "4. Salir\n",
      "4\n",
      "Gracias!\n",
      "\n"
     ]
    }
   ],
   "source": [
    "b = CuentaBancaria(\"Ale\", 1000)\n",
    "\n",
    "b.menu()"
   ]
  },
  {
   "cell_type": "markdown",
   "metadata": {},
   "source": [
    "## Reto"
   ]
  },
  {
   "cell_type": "markdown",
   "metadata": {},
   "source": [
    "#### Ejercicio 5: Guía telefónica\n",
    "\n",
    "Cree una clase que se llame guía telefónica que guarde instancias de la clase Contactos en un diccionario. La guía telefónica debe tener un método para agregar contactos, para modificar contactos y para eliminar contactos. Ademas, cuando se use print() debería imprimirse en consola una descripción de la guía telefónica.  \n",
    "\n",
    "\n",
    "Cree una clase que se llame \"Contacto\" que cuente con los atributos de:\n",
    "\n",
    "* Nombre\n",
    "* Apellido\n",
    "* Teléfono\n",
    "* Celular\n",
    "* Correo\n",
    "\n",
    "Cada contacto debe tener un método que se llame \"imprimir contacto\" que imprima toda la información de contacto a la consola. \n",
    "\n",
    "**Nota: Este ejercicio es una pregunta bastante abierta con la intención de que se elabore el proyecto tanto como se quiera.**"
   ]
  },
  {
   "cell_type": "code",
   "execution_count": null,
   "metadata": {},
   "outputs": [],
   "source": []
  },
  {
   "cell_type": "code",
   "execution_count": null,
   "metadata": {},
   "outputs": [],
   "source": []
  }
 ],
 "metadata": {
  "kernelspec": {
   "display_name": "Python 3",
   "language": "python",
   "name": "python3"
  },
  "language_info": {
   "codemirror_mode": {
    "name": "ipython",
    "version": 3
   },
   "file_extension": ".py",
   "mimetype": "text/x-python",
   "name": "python",
   "nbconvert_exporter": "python",
   "pygments_lexer": "ipython3",
   "version": "3.7.0"
  }
 },
 "nbformat": 4,
 "nbformat_minor": 2
}
