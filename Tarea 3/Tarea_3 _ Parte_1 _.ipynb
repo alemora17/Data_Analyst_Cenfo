{
 "cells": [
  {
   "cell_type": "markdown",
   "metadata": {},
   "source": [
    "# Parte 1: Funciones\n",
    "\n",
    "**Tiempo Esperado: 30 min**\n",
    "\n"
   ]
  },
  {
   "cell_type": "markdown",
   "metadata": {},
   "source": [
    "#### Ejercicio 1. Maximo de una lista\n",
    "\n",
    "Escriba una función que se llame maximo que devuelva el número más grade de una lista **Sin utilizar el método max()**:\n",
    "\n"
   ]
  },
  {
   "cell_type": "code",
   "execution_count": 38,
   "metadata": {},
   "outputs": [],
   "source": [
    "def maximo(lista):\n",
    "    lista.sort(reverse = True) \n",
    "    return \"El numero mayor de la lista es: {}\".format(lista[0])\n",
    "    "
   ]
  },
  {
   "cell_type": "code",
   "execution_count": 39,
   "metadata": {},
   "outputs": [
    {
     "name": "stdout",
     "output_type": "stream",
     "text": [
      "El numero mayor de la lista es: 3\n",
      "El numero mayor de la lista es: 400\n",
      "El numero mayor de la lista es: 342341324\n"
     ]
    }
   ],
   "source": [
    "#Respuestas esperada\n",
    "print(maximo([1,2,3]))\n",
    "print(maximo([-5,56,1,2,3,400]))\n",
    "print(maximo([123,342341324,121342,2345234]))"
   ]
  },
  {
   "cell_type": "markdown",
   "metadata": {},
   "source": [
    "#### Ejercicio 2. Letras repetidas\n",
    "\n",
    "Escriba una función llamada \"repedidas\" que reciba un texto y cuente la cantidad de veces que hayan letras que se repiten, por ejemplo:\n",
    "\n",
    "La palabra \"carro\" tendría un conteo de 1. \n",
    "\n",
    "La frase \"ruedan las ruedas del ferro carril\" contaria 2."
   ]
  },
  {
   "cell_type": "code",
   "execution_count": 152,
   "metadata": {},
   "outputs": [],
   "source": [
    "def repetidas(frase):\n",
    "    frase_limpia = frase.replace(\" \",\"\").lower()  \n",
    "    reps = set(frase_limpia)\n",
    "    \n",
    "    return len(frase_limpia) - len(reps)"
   ]
  },
  {
   "cell_type": "code",
   "execution_count": 155,
   "metadata": {},
   "outputs": [
    {
     "name": "stdout",
     "output_type": "stream",
     "text": [
      "1\n",
      "3\n",
      "35\n"
     ]
    }
   ],
   "source": [
    "## Resultados Esperados\n",
    "print(repetidas(\"carro\"))\n",
    "print(repetidas(\"Estoy en mi casa\"))\n",
    "print(repetidas(\"ruedan las ruedas de ferrocarril cuando pasa por la calle\"))"
   ]
  },
  {
   "cell_type": "markdown",
   "metadata": {},
   "source": [
    "#### Ejercicio 3. Invertir Palabras\n",
    "\n",
    "Para revertir una palabra en python podríamos usar slicing, como lo hicimos en clase:\n",
    "\n",
    "palabra = \"texto\"\n",
    "palabra_al_reves = palabra[: : -1]\n",
    "\n",
    "\n",
    "Escriba una función llamada \"invertir\" que haga esto, pero **sin hacer uso de slicing** sino que más bien haga uso de loops."
   ]
  },
  {
   "cell_type": "code",
   "execution_count": 64,
   "metadata": {},
   "outputs": [],
   "source": [
    "def invertir(frase):\n",
    "    long_frase = len(frase)\n",
    "    contador = 1\n",
    "    frase_alrevez = \"\"\n",
    "    \n",
    "    while contador <= long_frase:\n",
    "        frase_alrevez += frase[-contador]\n",
    "        contador += 1\n",
    "    return(frase_alrevez)\n",
    "    "
   ]
  },
  {
   "cell_type": "code",
   "execution_count": 66,
   "metadata": {},
   "outputs": [
    {
     "name": "stdout",
     "output_type": "stream",
     "text": [
      "oveun otxet\n",
      "otxeT orto\n",
      "atelpmoc esarf anu se atsE\n"
     ]
    }
   ],
   "source": [
    "## Resultados Esperados\n",
    "print(invertir(\"texto nuevo\"))\n",
    "print(invertir(\"otro Texto\"))\n",
    "print(invertir(\"Esta es una frase completa\"))\n"
   ]
  },
  {
   "cell_type": "markdown",
   "metadata": {},
   "source": [
    "#### Ejercicio 4. Conteo Mayúsculas y minúsculas\n",
    "\n",
    "Escriba una función llamada \"contar_mayusculas\" devuelva el conteo de cuántas mayúsculas y minúsculas se encuentran en una frase.\n",
    "\n",
    "Para esto, se pueden utilizar un método correspondiente a strings que nos dice si un caracter es mayúscula o no. **Nota: La función debería poder ignorar espacios\"**\n"
   ]
  },
  {
   "cell_type": "code",
   "execution_count": 86,
   "metadata": {},
   "outputs": [],
   "source": [
    "def contar_mayusculas(frase):\n",
    "    mayu = 0\n",
    "    minu = 0\n",
    "    \n",
    "    for letra in frase:\n",
    "        if letra != \" \":\n",
    "            if letra.isupper():\n",
    "                mayu += 1\n",
    "            else:\n",
    "                minu += 1\n",
    "        \n",
    "    \n",
    "    return {\"Mayusculas\" : mayu, \"Minusculas\" : minu}\n"
   ]
  },
  {
   "cell_type": "code",
   "execution_count": 87,
   "metadata": {},
   "outputs": [
    {
     "name": "stdout",
     "output_type": "stream",
     "text": [
      "{'Mayusculas': 3, 'Minusculas': 12}\n",
      "{'Mayusculas': 5, 'Minusculas': 4}\n",
      "{'Mayusculas': 14, 'Minusculas': 0}\n"
     ]
    }
   ],
   "source": [
    "print(contar_mayusculas(\"Juan Pérez Segura\"))\n",
    "print(contar_mayusculas(\"HoLa MUnDo\"))\n",
    "print(contar_mayusculas(\"SOLO MAYUSCULAS\"))"
   ]
  },
  {
   "cell_type": "markdown",
   "metadata": {},
   "source": [
    "#### Ejericio 5: Palindromos\n",
    "\n",
    "Un palindromo quiere decir cuando una palabra se escribe igual al derecho que al revés, escriba una función llamada \"es_palindromo\" que reciba una frase y devuelva True si es palindromo y False si no es. \n"
   ]
  },
  {
   "cell_type": "code",
   "execution_count": 124,
   "metadata": {},
   "outputs": [],
   "source": [
    "# Se usó la función definida en el ejercicio 3\n",
    "\n",
    "def invertir(frase):\n",
    "    long_frase = len(frase)\n",
    "    contador = 1\n",
    "    frase_alrevez = \"\"\n",
    "    \n",
    "    while contador <= long_frase:\n",
    "        frase_alrevez += frase[-contador]\n",
    "        contador += 1\n",
    "    return(frase_alrevez)"
   ]
  },
  {
   "cell_type": "code",
   "execution_count": 119,
   "metadata": {},
   "outputs": [],
   "source": [
    "def es_palindromo(frase):\n",
    "    return frase.replace(\" \",\"\") == invertir(frase).replace(\" \",\"\")\n",
    "    \n",
    "    "
   ]
  },
  {
   "cell_type": "code",
   "execution_count": 123,
   "metadata": {},
   "outputs": [
    {
     "name": "stdout",
     "output_type": "stream",
     "text": [
      "True\n",
      "True\n",
      "False\n"
     ]
    }
   ],
   "source": [
    "#Resultados esperados\n",
    "print(es_palindromo(\"sugus\"))\n",
    "print(es_palindromo(\"nurses run\"))\n",
    "print(es_palindromo(\"hola\"))"
   ]
  },
  {
   "cell_type": "markdown",
   "metadata": {},
   "source": [
    "#### Ejericio 6: Edades al revés\n",
    "\n",
    "Hay cierta cantidad de veces en la vida de un padre y de un hijo en que las edades son el opuesto el una de la otra. Por ejemplo que la mamá tenga 53 años y la hija 35. Escriba una función que reciba la diferencia de edades entre el padre y la hija y devuelva del número de veces que se da esta situación. "
   ]
  },
  {
   "cell_type": "code",
   "execution_count": 139,
   "metadata": {},
   "outputs": [],
   "source": [
    "def al_reves(diff,anos_padre):\n",
    "    cont = 0\n",
    "    for h in range(anos_padre):\n",
    "        padre = h + diff \n",
    "        if str(padre)[::-1] == \"{:02}\".format(h):\n",
    "            cont += 1\n",
    "    return cont\n"
   ]
  },
  {
   "cell_type": "code",
   "execution_count": 149,
   "metadata": {},
   "outputs": [
    {
     "name": "stdout",
     "output_type": "stream",
     "text": [
      "5 Lista de edades: [('05', '50'), ('16', '61'), ('27', '72'), ('38', '83'), ('49', '94')]\n",
      "8 Lista de edades: [('02', '20'), ('13', '31'), ('24', '42'), ('35', '53'), ('46', '64'), ('57', '75'), ('68', '86'), ('79', '97')]\n",
      "0 Lista de edades: []\n"
     ]
    }
   ],
   "source": [
    "#Resultados esperados (se agregan la lista de numeros que cumplen con la condición pero la función no tiene que \n",
    "#retornar esta lista)\n",
    "\n",
    "print(al_reves(45,120),\"Lista de edades: [('05', '50'), ('16', '61'), ('27', '72'), ('38', '83'), ('49', '94')]\")\n",
    "print(al_reves(18,120), \"Lista de edades: [('02', '20'), ('13', '31'), ('24', '42'), ('35', '53'), ('46', '64'), ('57', '75'), ('68', '86'), ('79', '97')]\")\n",
    "print(al_reves(20,120), 'Lista de edades: []')"
   ]
  },
  {
   "cell_type": "markdown",
   "metadata": {},
   "source": [
    "## Retos"
   ]
  },
  {
   "cell_type": "markdown",
   "metadata": {},
   "source": [
    "### Reto 1: \n",
    "\n",
    "En el folder existe un archivo que se llama \"libro.txt\" que corresponde al texto de un libro completo. Cree una Función que cargue el libro y  cree una lista de tuples con las cuentas de cada palabra que sale en el libro. Una vez que se logre esto, que devuelva las 10 palabras más comunes en el libro. "
   ]
  },
  {
   "cell_type": "code",
   "execution_count": 7,
   "metadata": {
    "collapsed": true
   },
   "outputs": [],
   "source": [
    "def conteo_palabras(archivo):\n",
    "    pass"
   ]
  },
  {
   "cell_type": "code",
   "execution_count": 7,
   "metadata": {},
   "outputs": [
    {
     "name": "stdout",
     "output_type": "stream",
     "text": [
      "[('to', 3540), ('the', 3396), ('of', 3070), ('and', 2779), ('a', 1653), ('I', 1581), ('was', 1556), ('her', 1550), ('in', 1531), ('that', 1193), ('not', 1189), ('she', 1115), ('be', 1027), ('his', 984), ('had', 975), ('as', 963), ('he', 928), ('with', 871), ('it', 845), ('for', 829), ('you', 825), ('have', 722), ('is', 708), ('at', 650), ('Mr.', 609), ('on', 555), ('by', 539), ('my', 521), ('but', 520), ('were', 470), ('all', 450), ('so', 433), ('him', 432), ('could', 429), ('which', 426), ('been', 419), ('they', 411), ('from', 400), ('very', 391), ('would', 379), ('no', 365), ('what', 337), ('your', 330), ('said', 324), ('will', 323), ('their', 317), ('such', 306), ('an', 289), ('this', 280), ('am', 272), ('are', 263), ('must', 259), ('Mrs.', 259), ('or', 254), ('much', 246), ('more', 245), ('than', 245), ('do', 240), ('Elizabeth', 240), ('when', 237), ('any', 233), ('me', 227), ('them', 227), ('She', 222), ('Miss', 220), ('who', 216), ('if', 216), ('there', 214), ('should', 209), ('one', 195), ('did', 195), ('But', 187), ('has', 185), ('Darcy', 178), ('never', 177), ('only', 177), ('might', 175), ('soon', 173), ('know', 170), ('think', 167), ('though', 166), ('we', 164), ('some', 163), ('can', 163), ('It', 163), ('He', 156), ('may', 150), ('', 150), ('The', 147), ('most', 145), ('every', 143), ('after', 142), ('now', 142), ('make', 140), ('being', 140), ('how', 139), ('shall', 139), ('without', 139), ('Bennet', 138), ('before', 135)]\n"
     ]
    }
   ],
   "source": [
    "print(tuple_count[:100])"
   ]
  },
  {
   "cell_type": "markdown",
   "metadata": {},
   "source": [
    "### Reto 2:\n",
    "\n",
    "Tome el ejercicio de adivinar el número y separe el código en funciones de manera que no sea un solo bloque de código. \n",
    "\n"
   ]
  },
  {
   "cell_type": "code",
   "execution_count": 1,
   "metadata": {
    "collapsed": true
   },
   "outputs": [],
   "source": []
  },
  {
   "cell_type": "code",
   "execution_count": 2,
   "metadata": {
    "collapsed": true
   },
   "outputs": [],
   "source": []
  },
  {
   "cell_type": "code",
   "execution_count": 3,
   "metadata": {
    "collapsed": true
   },
   "outputs": [],
   "source": []
  },
  {
   "cell_type": "code",
   "execution_count": null,
   "metadata": {
    "collapsed": true
   },
   "outputs": [],
   "source": []
  },
  {
   "cell_type": "code",
   "execution_count": null,
   "metadata": {
    "collapsed": true
   },
   "outputs": [],
   "source": []
  },
  {
   "cell_type": "code",
   "execution_count": null,
   "metadata": {
    "collapsed": true
   },
   "outputs": [],
   "source": []
  },
  {
   "cell_type": "code",
   "execution_count": null,
   "metadata": {
    "collapsed": true
   },
   "outputs": [],
   "source": []
  },
  {
   "cell_type": "code",
   "execution_count": null,
   "metadata": {
    "collapsed": true
   },
   "outputs": [],
   "source": []
  },
  {
   "cell_type": "code",
   "execution_count": null,
   "metadata": {
    "collapsed": true
   },
   "outputs": [],
   "source": []
  },
  {
   "cell_type": "code",
   "execution_count": null,
   "metadata": {
    "collapsed": true
   },
   "outputs": [],
   "source": []
  },
  {
   "cell_type": "code",
   "execution_count": null,
   "metadata": {
    "collapsed": true
   },
   "outputs": [],
   "source": []
  },
  {
   "cell_type": "code",
   "execution_count": null,
   "metadata": {
    "collapsed": true
   },
   "outputs": [],
   "source": []
  }
 ],
 "metadata": {
  "kernelspec": {
   "display_name": "Python 3",
   "language": "python",
   "name": "python3"
  },
  "language_info": {
   "codemirror_mode": {
    "name": "ipython",
    "version": 3
   },
   "file_extension": ".py",
   "mimetype": "text/x-python",
   "name": "python",
   "nbconvert_exporter": "python",
   "pygments_lexer": "ipython3",
   "version": "3.7.0"
  }
 },
 "nbformat": 4,
 "nbformat_minor": 2
}
