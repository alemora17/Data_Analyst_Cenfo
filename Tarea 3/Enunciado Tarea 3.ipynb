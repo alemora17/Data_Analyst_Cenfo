{
 "cells": [
  {
   "cell_type": "markdown",
   "metadata": {},
   "source": [
    "# Tarea 3\n",
    "\n",
    "### **Fecha de entrega**: 24 de noviembre 2018\n",
    "\n",
    "Para esta tarea se va a hacer un repaso completo de los diferentes temas que hemos visto hasta el momento, por lo que se van a tener que responder preguntas en diferentes Jupyter Notebooks. Se van a tener dos semanas para finalizar los ejercicios, lo cual les debería dar suficiente tiempo para afinar conceptos y trabajar en el primer proyecto del curso. \n",
    "\n",
    "Algunos de los ejercicios van a requerir que se utilicen métodos nativos de Python, sin embargo <span style=\"color:red\">**TODOS LOS EJERCICIOS SE DEBEN RESOLVER CON PYTHON PURO (UTILIZANDO EL STANDARD LIBRARY) Y SIN CARGAR LIBRERIAS ADICIONALES A MENOS QUE SE SOLICITE EXPLÍCITAMENTE EN EL EJERCICIO**</span>\n",
    "\n",
    "\n",
    "\n",
    "**SOBRE LOS RETOS:**\n",
    "\n",
    "Cada una de las tareas contiene una serie de ejercicios a los que se les suma una sección de **retos** la cual corresponde a ejercicios que no son requeridos para la entrega de la tarea pero son buena práctica para los diferentes\n",
    "temas que se tocan en cada tarea. \n",
    "\n",
    "\n",
    "**FORMA DE ENTREGA:**\n",
    "\n",
    "Las tareas se deben subir al folder de drive de entrega de tareas en forma de folder con el nombre \"Tarea3-Nombre Estudiante\"\n"
   ]
  },
  {
   "cell_type": "markdown",
   "metadata": {},
   "source": [
    "## Parte 1: Funciones\n",
    "\n",
    "Completar el documento llamado **\"Tarea_3 | Parte_1.ipynb\"** que son 5 ejercicios enfocados a cómo crear funciones. En este notebook se van a repasar las bases de cómo crear una función."
   ]
  },
  {
   "cell_type": "markdown",
   "metadata": {},
   "source": [
    "## Parte 2: Análisis Datos Python Puro\n",
    "\n",
    "Completar el documento llamado **\"Tarea_3 | Parte_2.ipynb\"** que contiene  ejercicios enfocados a cómo analizar datos con Python puro. Se van a utilizar un par de bases de datos para buscar respuestas a preguntas.\n"
   ]
  },
  {
   "cell_type": "markdown",
   "metadata": {},
   "source": [
    "## Parte 3: Clases\n",
    "\n",
    "Completar el documento llamado **\"Tarea_3 | Parte_3.ipynb\"** que son 5 ejercicios enfocados a cómo crear y usar Clases y entender atributos y métodos. "
   ]
  },
  {
   "cell_type": "code",
   "execution_count": null,
   "metadata": {},
   "outputs": [],
   "source": []
  }
 ],
 "metadata": {
  "kernelspec": {
   "display_name": "Python 3",
   "language": "python",
   "name": "python3"
  },
  "language_info": {
   "codemirror_mode": {
    "name": "ipython",
    "version": 3
   },
   "file_extension": ".py",
   "mimetype": "text/x-python",
   "name": "python",
   "nbconvert_exporter": "python",
   "pygments_lexer": "ipython3",
   "version": "3.7.0"
  }
 },
 "nbformat": 4,
 "nbformat_minor": 2
}
