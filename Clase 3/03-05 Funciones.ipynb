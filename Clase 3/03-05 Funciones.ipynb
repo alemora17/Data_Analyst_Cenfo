{
 "cells": [
  {
   "cell_type": "markdown",
   "metadata": {},
   "source": [
    "# Funciones\n",
    "\n",
    "Esta hoja cubre las bases de funciones en Python y cómo crearlas. Las funciones son lo que nos permiten junto con las clases en Python descomponer y abstraer el código. \n",
    "\n",
    "Las funciones son contenedores que nos permiten tener bloques de código reutilizables que se puede correr más de una vez. \n",
    "\n",
    "Son:\n",
    "     - Módulos autónomos\n",
    "     - Se utilizan para dividir el código en partes\n",
    "     - Son reutilizables\n",
    "     - Organizan el código\n",
    "     - Mantiene coherencia en el código\n",
    "     - Mejora la lejibilidad del código\n"
   ]
  },
  {
   "cell_type": "markdown",
   "metadata": {},
   "source": [
    "## def\n",
    "\n",
    "Una función se inicializa con la palabra clave **def** que le indica a Python que se está iniciando una función, seguida por el nombre de la función. \n",
    "\n",
    "La forma común de definir una función es la siguiente"
   ]
  },
  {
   "cell_type": "code",
   "execution_count": 4,
   "metadata": {},
   "outputs": [],
   "source": [
    "def nombre_de_la_funcion(parametro1, parametro2):\n",
    "    \"\"\" \n",
    "    Esto sería un docstring \n",
    "    \"\"\"\n",
    "    #Aquí va el código que va a ejecutar la función\n",
    "    #Por último se define qué quiere que se retorne en la función\n",
    "    return \"Esto devuelve\""
   ]
  },
  {
   "cell_type": "markdown",
   "metadata": {},
   "source": [
    "Algo importante de notar es que cuando uno define una función no se ejecuta el código hasta que se llama la función. Una función se llama escribiendo el nombre de la función y agregando paréntesis ```nombre_de_la_funcion()```\n"
   ]
  },
  {
   "cell_type": "code",
   "execution_count": null,
   "metadata": {},
   "outputs": [],
   "source": []
  },
  {
   "cell_type": "markdown",
   "metadata": {},
   "source": [
    "## Ejemplos    "
   ]
  },
  {
   "cell_type": "markdown",
   "metadata": {},
   "source": [
    "### Ejemplo 1:  Un simple print"
   ]
  },
  {
   "cell_type": "code",
   "execution_count": 13,
   "metadata": {},
   "outputs": [],
   "source": [
    "# Defino una función sin paraámetros que al ser llamada va a imprimir un mensaje\n",
    "def decir_algo():\n",
    "    print(\"¡Hola! Soy una función\")\n",
    "    "
   ]
  },
  {
   "cell_type": "code",
   "execution_count": 14,
   "metadata": {},
   "outputs": [
    {
     "name": "stdout",
     "output_type": "stream",
     "text": [
      "¡Hola! Soy una función\n"
     ]
    }
   ],
   "source": [
    "#Para poder ejecutar la función tengo que invocarla:\n",
    "decir_algo()"
   ]
  },
  {
   "cell_type": "markdown",
   "metadata": {},
   "source": [
    "### Ejemplo 2: Incluir un parámetro"
   ]
  },
  {
   "cell_type": "code",
   "execution_count": 15,
   "metadata": {},
   "outputs": [],
   "source": [
    "#Declaremos la misma función pero ahora permitamos que reciba un parámetro:\n",
    "def decir_algo_con_nombre(nombre):\n",
    "    print(\"¡Hola! Soy una función y me llamo {}\".format(nombre))"
   ]
  },
  {
   "cell_type": "code",
   "execution_count": 16,
   "metadata": {},
   "outputs": [
    {
     "name": "stdout",
     "output_type": "stream",
     "text": [
      "¡Hola! Soy una función y me llamo andres\n"
     ]
    }
   ],
   "source": [
    "# Va a\n",
    "decir_algo_con_nombre(\"andres\")"
   ]
  },
  {
   "cell_type": "markdown",
   "metadata": {},
   "source": [
    "### Ejemplo 3: Una función con return"
   ]
  },
  {
   "cell_type": "code",
   "execution_count": 17,
   "metadata": {},
   "outputs": [],
   "source": [
    "#Si declaramos una función podemos usar el return para devolver un resultado\n",
    "def sumar_numeros(n1,n2):\n",
    "    return n1+n2"
   ]
  },
  {
   "cell_type": "code",
   "execution_count": 19,
   "metadata": {},
   "outputs": [
    {
     "data": {
      "text/plain": [
       "3"
      ]
     },
     "execution_count": 19,
     "metadata": {},
     "output_type": "execute_result"
    }
   ],
   "source": [
    "#Se tiene que notar que la forma en que devuelve el resultado es diferente y lo devuelve como un output\n",
    "sumar_numeros(1,2)"
   ]
  },
  {
   "cell_type": "code",
   "execution_count": 5,
   "metadata": {},
   "outputs": [],
   "source": [
    "#Podemos asignar el resultado a una variable\n",
    "resultado = sumar_numeros(1,2)\n"
   ]
  },
  {
   "cell_type": "code",
   "execution_count": 21,
   "metadata": {},
   "outputs": [
    {
     "data": {
      "text/plain": [
       "'andresmasis'"
      ]
     },
     "execution_count": 21,
     "metadata": {},
     "output_type": "execute_result"
    }
   ],
   "source": [
    "# Hay que tener cuidado porque las funciones de python no son como otros lenguajes de programación en los que \n",
    "# se tienen que definir los tipos de los parámetros, en este caso podemos usar strings sin problema\n",
    "sumar_numeros(\"andres\",\"masis\")"
   ]
  },
  {
   "cell_type": "markdown",
   "metadata": {},
   "source": [
    "### Ejemplo 3: Funciones con Booleanos"
   ]
  },
  {
   "cell_type": "code",
   "execution_count": 23,
   "metadata": {},
   "outputs": [],
   "source": [
    "#Definimos una función que nos dice si un número es par o no\n",
    "def es_par(num):\n",
    "    return num%2==0\n"
   ]
  },
  {
   "cell_type": "code",
   "execution_count": 24,
   "metadata": {},
   "outputs": [
    {
     "data": {
      "text/plain": [
       "True"
      ]
     },
     "execution_count": 24,
     "metadata": {},
     "output_type": "execute_result"
    }
   ],
   "source": [
    "es_par(2)"
   ]
  },
  {
   "cell_type": "code",
   "execution_count": 25,
   "metadata": {},
   "outputs": [
    {
     "data": {
      "text/plain": [
       "False"
      ]
     },
     "execution_count": 25,
     "metadata": {},
     "output_type": "execute_result"
    }
   ],
   "source": [
    "es_par(5)"
   ]
  },
  {
   "cell_type": "code",
   "execution_count": 27,
   "metadata": {},
   "outputs": [
    {
     "name": "stdout",
     "output_type": "stream",
     "text": [
      "Si era par el número\n"
     ]
    }
   ],
   "source": [
    "## podríamos usar esto dentro de los control flows para ejecutar operaciones:\n",
    "n = 2\n",
    "if es_par(n):\n",
    "    print(\"Si era par el número\")\n",
    "else:\n",
    "    print(\"El número no era par\")"
   ]
  },
  {
   "cell_type": "markdown",
   "metadata": {},
   "source": [
    "### Ejemplo 4: Funciones con return y sin return"
   ]
  },
  {
   "cell_type": "code",
   "execution_count": 35,
   "metadata": {},
   "outputs": [],
   "source": [
    "#Podríamos crear una función que define si un número es primo o no de una mánera muy básica (revisando si no es\n",
    "#todos los números que lo antecenden)\n",
    "#En este caso como no se tiene un return, se tiene que incluir un \"Break\"\n",
    "\n",
    "\n",
    "def es_primo(num):\n",
    "    for n in range(2,num):\n",
    "        if num%n == 0:\n",
    "            print(num, \" no es primo\")\n",
    "            break\n",
    "        else:\n",
    "            print(num, \" es primo\")\n",
    "            break\n",
    "            "
   ]
  },
  {
   "cell_type": "code",
   "execution_count": 36,
   "metadata": {},
   "outputs": [
    {
     "name": "stdout",
     "output_type": "stream",
     "text": [
      "11  es primo\n"
     ]
    }
   ],
   "source": [
    "#El problema es que este caso no podríamos usar la función en un control flow\n",
    "es_primo(11)"
   ]
  },
  {
   "cell_type": "code",
   "execution_count": 38,
   "metadata": {},
   "outputs": [],
   "source": [
    "#En cambio si utilizamos los \"return\" entonces vamos a poder utilizar el resultado en una variable y en los control flows\n",
    "#además no es necesario el \"break\" ya que una vez que se retorna el valor, se sale de la función. \n",
    "def es_primo2(num):\n",
    "    for n in range(2,num):\n",
    "        if num%n == 0:\n",
    "            return False\n",
    "        else:\n",
    "            return True\n",
    "        \n",
    "            "
   ]
  },
  {
   "cell_type": "code",
   "execution_count": 40,
   "metadata": {},
   "outputs": [
    {
     "data": {
      "text/plain": [
       "True"
      ]
     },
     "execution_count": 40,
     "metadata": {},
     "output_type": "execute_result"
    }
   ],
   "source": [
    "var = es_primo2(5)\n",
    "var"
   ]
  },
  {
   "cell_type": "code",
   "execution_count": 41,
   "metadata": {},
   "outputs": [
    {
     "name": "stdout",
     "output_type": "stream",
     "text": [
      "SI ES PRIMO\n"
     ]
    }
   ],
   "source": [
    "if es_primo2(5):\n",
    "    print(\"SI ES PRIMO\")\n",
    "    \n"
   ]
  },
  {
   "cell_type": "code",
   "execution_count": 43,
   "metadata": {},
   "outputs": [
    {
     "ename": "TypeError",
     "evalue": "es_primo2() missing 1 required positional argument: 'num'",
     "output_type": "error",
     "traceback": [
      "\u001b[0;31m---------------------------------------------------------------------------\u001b[0m",
      "\u001b[0;31mTypeError\u001b[0m                                 Traceback (most recent call last)",
      "\u001b[0;32m<ipython-input-43-8756c7a9a18a>\u001b[0m in \u001b[0;36m<module>\u001b[0;34m()\u001b[0m\n\u001b[0;32m----> 1\u001b[0;31m \u001b[0mes_primo2\u001b[0m\u001b[0;34m(\u001b[0m\u001b[0;34m)\u001b[0m\u001b[0;34m\u001b[0m\u001b[0m\n\u001b[0m",
      "\u001b[0;31mTypeError\u001b[0m: es_primo2() missing 1 required positional argument: 'num'"
     ]
    }
   ],
   "source": [
    "#Si no ponemos la cantidad correcta de parámetros vamos a tener un error\n",
    "es_primo2()"
   ]
  },
  {
   "cell_type": "code",
   "execution_count": null,
   "metadata": {},
   "outputs": [],
   "source": []
  }
 ],
 "metadata": {
  "kernelspec": {
   "display_name": "Python 3",
   "language": "python",
   "name": "python3"
  },
  "language_info": {
   "codemirror_mode": {
    "name": "ipython",
    "version": 3
   },
   "file_extension": ".py",
   "mimetype": "text/x-python",
   "name": "python",
   "nbconvert_exporter": "python",
   "pygments_lexer": "ipython3",
   "version": "3.7.0"
  }
 },
 "nbformat": 4,
 "nbformat_minor": 2
}
