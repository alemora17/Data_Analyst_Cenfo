{
 "cells": [
  {
   "cell_type": "markdown",
   "metadata": {},
   "source": [
    "# Scope\n",
    "\n",
    "Tal vez uno de los conceptos más importantes de entender con las funciones el de \"scope\", ya que es lo que me determina qué pasa con las variables que se asignan y cómo las maneja Python. Cuando yo creo una función se crea un nuevo \"ambiente\" local dentro de la función dentro del cuál se asignan variables específicas para dicho espacio.\n",
    "\n",
    "Cuando yo inicializo un programa, se genera el scope Global, en el cual se asigna todo lo que no esté dentro de funciones: "
   ]
  },
  {
   "cell_type": "code",
   "execution_count": null,
   "metadata": {},
   "outputs": [],
   "source": [
    "# Cuando asigno una variable de esta manera estoy creandola en el scope global\n",
    "x = 2"
   ]
  },
  {
   "cell_type": "code",
   "execution_count": 2,
   "metadata": {},
   "outputs": [
    {
     "name": "stdout",
     "output_type": "stream",
     "text": [
      "2\n"
     ]
    }
   ],
   "source": [
    "print(x)"
   ]
  },
  {
   "cell_type": "code",
   "execution_count": 3,
   "metadata": {},
   "outputs": [],
   "source": [
    "#Cuando creo una función se crea un nuevo ambiente en el que puedo crear nuevas variables\n",
    "#Asigno una variable en scope global\n",
    "x = 50\n",
    "\n",
    "#Defino una función que se llama f(x) que lo que recibe es un parámetro y luego imprime dos veces\n",
    "def f(x):\n",
    "    print(\"x= \", x) # En este momento todavía x no existe pero cuando la invoco con la x del scope global x=50 \n",
    "    x = 2 #Estoy reasignando la x pero dentro del scope de la función\n",
    "    print(\"x= \", x)"
   ]
  },
  {
   "cell_type": "code",
   "execution_count": 6,
   "metadata": {},
   "outputs": [
    {
     "name": "stdout",
     "output_type": "stream",
     "text": [
      "x=  50\n",
      "x=  2\n",
      "X global sigue siendo 50\n"
     ]
    }
   ],
   "source": [
    "f(x)\n",
    "print(\"X global sigue siendo\", x)"
   ]
  },
  {
   "cell_type": "markdown",
   "metadata": {},
   "source": [
    "Existe un orden predefinido de llamado de las variables: \n",
    "\n",
    "    1. Local\n",
    "    2. Funciones envolventes\n",
    "    3. Global\n",
    "    4. Built-In"
   ]
  },
  {
   "cell_type": "markdown",
   "metadata": {},
   "source": [
    "### Local"
   ]
  },
  {
   "cell_type": "code",
   "execution_count": 8,
   "metadata": {},
   "outputs": [
    {
     "data": {
      "text/plain": [
       "10"
      ]
     },
     "execution_count": 8,
     "metadata": {},
     "output_type": "execute_result"
    }
   ],
   "source": [
    "def nueva_funcion():\n",
    "    x = 10 # Estoy definiendo la variable a nivel local de la función\n",
    "    return x\n",
    "\n",
    "nueva_funcion()"
   ]
  },
  {
   "cell_type": "markdown",
   "metadata": {},
   "source": [
    "### Funciones Envolventes"
   ]
  },
  {
   "cell_type": "code",
   "execution_count": 13,
   "metadata": {},
   "outputs": [
    {
     "name": "stdout",
     "output_type": "stream",
     "text": [
      "Este es mi texto a nivel de la función envolvente\n"
     ]
    }
   ],
   "source": [
    "texto = \"Este es mi texto a nivel global\"\n",
    "\n",
    "def imprimir_texto():\n",
    "    texto = \"Este es mi texto a nivel de la función envolvente\"\n",
    "    def imprimir_texto_interno():\n",
    "        print(texto)\n",
    "    imprimir_texto_interno()\n",
    "\n",
    "# Cuando corro la función, como la función interna no tiene la variable texto, se va a buscarla al siguiente nivel\n",
    "imprimir_texto()"
   ]
  },
  {
   "cell_type": "markdown",
   "metadata": {},
   "source": [
    "### Global"
   ]
  },
  {
   "cell_type": "code",
   "execution_count": 16,
   "metadata": {},
   "outputs": [
    {
     "name": "stdout",
     "output_type": "stream",
     "text": [
      "Este es mi texto a nivel global\n"
     ]
    }
   ],
   "source": [
    "#Global es lo que hemos hecho hasta el momento en el curso:\n",
    "texto = \"Este es mi texto a nivel global\"\n",
    "def imprimir_texto_global():\n",
    "    print(texto)\n",
    "\n",
    "imprimir_texto_global() # Como la variable no está dentro de la funciópn sale a buscarla al scope global"
   ]
  },
  {
   "cell_type": "markdown",
   "metadata": {},
   "source": [
    "### Built-in\n",
    "Built in se refiere a los nombres de las funciones predefinidas en python por ejemplo len()"
   ]
  },
  {
   "cell_type": "code",
   "execution_count": 27,
   "metadata": {},
   "outputs": [
    {
     "data": {
      "text/plain": [
       "<function len>"
      ]
     },
     "execution_count": 27,
     "metadata": {},
     "output_type": "execute_result"
    }
   ],
   "source": [
    "len"
   ]
  },
  {
   "cell_type": "markdown",
   "metadata": {},
   "source": [
    "### Variables Locales"
   ]
  },
  {
   "cell_type": "markdown",
   "metadata": {},
   "source": [
    "Cuando se definen variables locales no se ven afectadas por las definiciones de las variables en el resto del programa ya que solamente existen dentro de la función. "
   ]
  },
  {
   "cell_type": "code",
   "execution_count": 24,
   "metadata": {},
   "outputs": [],
   "source": [
    "x = 50\n",
    "\n",
    "def f(y):\n",
    "    print(\"y= \", y) \n",
    "    y = 2 \n",
    "    print(\"y= \", y)"
   ]
  },
  {
   "cell_type": "code",
   "execution_count": 25,
   "metadata": {},
   "outputs": [
    {
     "name": "stdout",
     "output_type": "stream",
     "text": [
      "y=  50\n",
      "y=  2\n"
     ]
    }
   ],
   "source": [
    "f(x)"
   ]
  },
  {
   "cell_type": "code",
   "execution_count": 29,
   "metadata": {},
   "outputs": [
    {
     "ename": "NameError",
     "evalue": "name 'y' is not defined",
     "output_type": "error",
     "traceback": [
      "\u001b[0;31m---------------------------------------------------------------------------\u001b[0m",
      "\u001b[0;31mNameError\u001b[0m                                 Traceback (most recent call last)",
      "\u001b[0;32m<ipython-input-29-1cddae84b151>\u001b[0m in \u001b[0;36m<module>\u001b[0;34m()\u001b[0m\n\u001b[1;32m      1\u001b[0m \u001b[0;31m# SI trato de imprimir y me va a dar un error ya que no existe dentro del scope global\u001b[0m\u001b[0;34m\u001b[0m\u001b[0;34m\u001b[0m\u001b[0m\n\u001b[0;32m----> 2\u001b[0;31m \u001b[0my\u001b[0m\u001b[0;34m\u001b[0m\u001b[0m\n\u001b[0m",
      "\u001b[0;31mNameError\u001b[0m: name 'y' is not defined"
     ]
    }
   ],
   "source": [
    "# SI trato de imprimir y me va a dar un error ya que no existe dentro del scope global\n",
    "y"
   ]
  },
  {
   "cell_type": "code",
   "execution_count": 31,
   "metadata": {},
   "outputs": [
    {
     "name": "stdout",
     "output_type": "stream",
     "text": [
      "5\n",
      "6\n"
     ]
    }
   ],
   "source": [
    "# Si yo defino una variable global, la función puede accesarla sin problema, siempre y cuando se haya asignado antes\n",
    "# de invocar la función\n",
    "\n",
    "def g():\n",
    "    print(w)\n",
    "    print(w+1)\n",
    "w = 5\n",
    "g()\n"
   ]
  },
  {
   "cell_type": "code",
   "execution_count": 32,
   "metadata": {},
   "outputs": [
    {
     "ename": "NameError",
     "evalue": "name 'z' is not defined",
     "output_type": "error",
     "traceback": [
      "\u001b[0;31m---------------------------------------------------------------------------\u001b[0m",
      "\u001b[0;31mNameError\u001b[0m                                 Traceback (most recent call last)",
      "\u001b[0;32m<ipython-input-32-ba9f9a9f0439>\u001b[0m in \u001b[0;36m<module>\u001b[0;34m()\u001b[0m\n\u001b[1;32m      5\u001b[0m     \u001b[0mprint\u001b[0m\u001b[0;34m(\u001b[0m\u001b[0mz\u001b[0m\u001b[0;34m+\u001b[0m\u001b[0;36m1\u001b[0m\u001b[0;34m)\u001b[0m\u001b[0;34m\u001b[0m\u001b[0m\n\u001b[1;32m      6\u001b[0m \u001b[0;34m\u001b[0m\u001b[0m\n\u001b[0;32m----> 7\u001b[0;31m \u001b[0mg\u001b[0m\u001b[0;34m(\u001b[0m\u001b[0;34m)\u001b[0m\u001b[0;34m\u001b[0m\u001b[0m\n\u001b[0m\u001b[1;32m      8\u001b[0m \u001b[0mz\u001b[0m \u001b[0;34m=\u001b[0m \u001b[0;36m5\u001b[0m\u001b[0;34m\u001b[0m\u001b[0m\n",
      "\u001b[0;32m<ipython-input-32-ba9f9a9f0439>\u001b[0m in \u001b[0;36mg\u001b[0;34m()\u001b[0m\n\u001b[1;32m      2\u001b[0m \u001b[0;34m\u001b[0m\u001b[0m\n\u001b[1;32m      3\u001b[0m \u001b[0;32mdef\u001b[0m \u001b[0mg\u001b[0m\u001b[0;34m(\u001b[0m\u001b[0;34m)\u001b[0m\u001b[0;34m:\u001b[0m\u001b[0;34m\u001b[0m\u001b[0m\n\u001b[0;32m----> 4\u001b[0;31m     \u001b[0mprint\u001b[0m\u001b[0;34m(\u001b[0m\u001b[0mz\u001b[0m\u001b[0;34m)\u001b[0m\u001b[0;34m\u001b[0m\u001b[0m\n\u001b[0m\u001b[1;32m      5\u001b[0m     \u001b[0mprint\u001b[0m\u001b[0;34m(\u001b[0m\u001b[0mz\u001b[0m\u001b[0;34m+\u001b[0m\u001b[0;36m1\u001b[0m\u001b[0;34m)\u001b[0m\u001b[0;34m\u001b[0m\u001b[0m\n\u001b[1;32m      6\u001b[0m \u001b[0;34m\u001b[0m\u001b[0m\n",
      "\u001b[0;31mNameError\u001b[0m: name 'z' is not defined"
     ]
    }
   ],
   "source": [
    "#Si invoco antes de definir la variable me va a dar un error:\n",
    "\n",
    "def g():\n",
    "    print(z)\n",
    "    print(z+1)\n",
    "\n",
    "g()\n",
    "z = 5\n"
   ]
  },
  {
   "cell_type": "markdown",
   "metadata": {},
   "source": [
    "### Funciones como argumentos\n",
    "\n",
    "Las funciones pueden tomar cualquier tipo de parámetro que uno decida, inclusive puede recibir otras funciones\n"
   ]
  },
  {
   "cell_type": "code",
   "execution_count": 28,
   "metadata": {},
   "outputs": [
    {
     "name": "stdout",
     "output_type": "stream",
     "text": [
      "dentro de f1\n",
      "None\n",
      "dentro f2\n",
      "7\n",
      "dentro de f3\n",
      "dentro de f1\n",
      "None\n"
     ]
    }
   ],
   "source": [
    "def f1():\n",
    "    print(\"dentro de f1\")\n",
    "    \n",
    "def f2(y):\n",
    "    print('dentro f2')\n",
    "    return y\n",
    "\n",
    "def f3(z):\n",
    "    print('dentro de f3')\n",
    "    return z()\n",
    "\n",
    "print(f1())\n",
    "print(5+f2(2))\n",
    "print(f3(f1))"
   ]
  },
  {
   "cell_type": "markdown",
   "metadata": {},
   "source": [
    "### Acceso de variables globales\n",
    "A pesar de que las funciones pueden accesar variables que están en el scope global, las variables globales no pueden ser modificadas desde dentro de una función a menos que se defina explícitamente con la operación Global"
   ]
  },
  {
   "cell_type": "code",
   "execution_count": 33,
   "metadata": {},
   "outputs": [
    {
     "name": "stdout",
     "output_type": "stream",
     "text": [
      "10\n"
     ]
    }
   ],
   "source": [
    "x = 10\n",
    "def nueva_funcion():\n",
    "    x = 5 #Esta asignación no va a afectar la variable global\n",
    "    return x\n",
    "\n",
    "nueva_funcion()\n",
    "print(x)\n",
    "    "
   ]
  },
  {
   "cell_type": "code",
   "execution_count": 34,
   "metadata": {},
   "outputs": [
    {
     "name": "stdout",
     "output_type": "stream",
     "text": [
      "5\n"
     ]
    }
   ],
   "source": [
    "x = 10\n",
    "def nueva_funcion():\n",
    "    global x\n",
    "    x = 5 #pero si usamos la palabra global, se asigna el número \n",
    "    return x\n",
    "\n",
    "nueva_funcion()\n",
    "print(x)\n",
    "    "
   ]
  },
  {
   "cell_type": "code",
   "execution_count": 9,
   "metadata": {},
   "outputs": [],
   "source": [
    "def f(a=2, b=2 , c=2, d=2):\n",
    "    print(a,b,c,d)\n"
   ]
  },
  {
   "cell_type": "code",
   "execution_count": null,
   "metadata": {},
   "outputs": [],
   "source": []
  },
  {
   "cell_type": "code",
   "execution_count": 63,
   "metadata": {},
   "outputs": [
    {
     "name": "stdout",
     "output_type": "stream",
     "text": [
      "4 2 2 2\n"
     ]
    }
   ],
   "source": [
    "f(a = 4)"
   ]
  },
  {
   "cell_type": "code",
   "execution_count": 14,
   "metadata": {},
   "outputs": [],
   "source": [
    "def printNombres(nombre,apellido,inverso):\n",
    "    if inverso:\n",
    "        print(apellido, ',' ,nombre)\n",
    "    else:\n",
    "        print(nombre,apellido)"
   ]
  },
  {
   "cell_type": "code",
   "execution_count": 16,
   "metadata": {},
   "outputs": [
    {
     "name": "stdout",
     "output_type": "stream",
     "text": [
      "Masis , Andres\n"
     ]
    }
   ],
   "source": [
    "printNombres(\"Andres\",\"Masis\",True)"
   ]
  },
  {
   "cell_type": "code",
   "execution_count": 17,
   "metadata": {},
   "outputs": [
    {
     "name": "stdout",
     "output_type": "stream",
     "text": [
      "Masis , Andres\n"
     ]
    }
   ],
   "source": [
    "printNombres(\"Andres\",\"Masis\",inverso= True)"
   ]
  },
  {
   "cell_type": "code",
   "execution_count": 18,
   "metadata": {},
   "outputs": [
    {
     "ename": "TypeError",
     "evalue": "printNombres() missing 1 required positional argument: 'inverso'",
     "output_type": "error",
     "traceback": [
      "\u001b[0;31m---------------------------------------------------------------------------\u001b[0m",
      "\u001b[0;31mTypeError\u001b[0m                                 Traceback (most recent call last)",
      "\u001b[0;32m<ipython-input-18-aee45320bbe4>\u001b[0m in \u001b[0;36m<module>\u001b[0;34m()\u001b[0m\n\u001b[0;32m----> 1\u001b[0;31m \u001b[0mprintNombres\u001b[0m\u001b[0;34m(\u001b[0m\u001b[0;34m\"Andres\"\u001b[0m\u001b[0;34m,\u001b[0m\u001b[0;34m\"Masis\"\u001b[0m\u001b[0;34m)\u001b[0m\u001b[0;34m\u001b[0m\u001b[0m\n\u001b[0m",
      "\u001b[0;31mTypeError\u001b[0m: printNombres() missing 1 required positional argument: 'inverso'"
     ]
    }
   ],
   "source": [
    "printNombres(\"Andres\",\"Masis\")"
   ]
  },
  {
   "cell_type": "code",
   "execution_count": 29,
   "metadata": {},
   "outputs": [],
   "source": [
    "def printNombres(nombre,apellido,inverso=False):\n",
    "    \"\"\"\n",
    "    input: \n",
    "        nombre: str\n",
    "        apellid: str\n",
    "        inverso: bool (optional)\n",
    "        \n",
    "    output:\n",
    "        devuelve los nombres formateados\n",
    "    \"\"\"\n",
    "    if inverso:\n",
    "        print(apellido, ',' ,nombre)\n",
    "    else:\n",
    "        print(nombre,',',apellido)"
   ]
  },
  {
   "cell_type": "code",
   "execution_count": 24,
   "metadata": {},
   "outputs": [
    {
     "name": "stdout",
     "output_type": "stream",
     "text": [
      "Andres , Masis\n"
     ]
    }
   ],
   "source": [
    "printNombres(\"Andres\",\"Masis\")"
   ]
  },
  {
   "cell_type": "code",
   "execution_count": 25,
   "metadata": {},
   "outputs": [
    {
     "name": "stdout",
     "output_type": "stream",
     "text": [
      "Masis , Andres\n"
     ]
    }
   ],
   "source": [
    "printNombres(\"Andres\",\"Masis\",inverso = True)"
   ]
  },
  {
   "cell_type": "code",
   "execution_count": 27,
   "metadata": {},
   "outputs": [
    {
     "name": "stdout",
     "output_type": "stream",
     "text": [
      "Masis , Andres\n"
     ]
    }
   ],
   "source": [
    "printNombres(inverso = True,nombre = \"Andres\",apellido = \"Masis\")"
   ]
  },
  {
   "cell_type": "code",
   "execution_count": 28,
   "metadata": {},
   "outputs": [],
   "source": [
    "import random"
   ]
  },
  {
   "cell_type": "code",
   "execution_count": 30,
   "metadata": {},
   "outputs": [
    {
     "data": {
      "text/plain": [
       "<function __main__.printNombres>"
      ]
     },
     "execution_count": 30,
     "metadata": {},
     "output_type": "execute_result"
    }
   ],
   "source": [
    "printNombres"
   ]
  },
  {
   "cell_type": "code",
   "execution_count": 32,
   "metadata": {},
   "outputs": [],
   "source": [
    "def f(a, b=2 , c=3, d=4):\n",
    "    print(a,b,c,d)"
   ]
  },
  {
   "cell_type": "code",
   "execution_count": 37,
   "metadata": {},
   "outputs": [
    {
     "ename": "TypeError",
     "evalue": "f() takes from 1 to 4 positional arguments but 5 were given",
     "output_type": "error",
     "traceback": [
      "\u001b[0;31m---------------------------------------------------------------------------\u001b[0m",
      "\u001b[0;31mTypeError\u001b[0m                                 Traceback (most recent call last)",
      "\u001b[0;32m<ipython-input-37-74346b4da336>\u001b[0m in \u001b[0;36m<module>\u001b[0;34m()\u001b[0m\n\u001b[0;32m----> 1\u001b[0;31m \u001b[0mf\u001b[0m\u001b[0;34m(\u001b[0m\u001b[0;36m2\u001b[0m\u001b[0;34m,\u001b[0m\u001b[0;36m4\u001b[0m\u001b[0;34m,\u001b[0m\u001b[0;36m4\u001b[0m\u001b[0;34m,\u001b[0m\u001b[0;36m5\u001b[0m\u001b[0;34m,\u001b[0m\u001b[0;36m6\u001b[0m\u001b[0;34m)\u001b[0m\u001b[0;34m\u001b[0m\u001b[0m\n\u001b[0m",
      "\u001b[0;31mTypeError\u001b[0m: f() takes from 1 to 4 positional arguments but 5 were given"
     ]
    }
   ],
   "source": [
    "f(2,4,4,5,6)\n"
   ]
  },
  {
   "cell_type": "code",
   "execution_count": 47,
   "metadata": {},
   "outputs": [],
   "source": [
    "def mi_func(nombre, apellido, *args):\n",
    "    print(nombre, apellido, args)\n",
    "    return sum(args)"
   ]
  },
  {
   "cell_type": "code",
   "execution_count": 54,
   "metadata": {},
   "outputs": [
    {
     "name": "stdout",
     "output_type": "stream",
     "text": [
      "andres masis (2, 3, 4, 23, 32, 343)\n"
     ]
    },
    {
     "data": {
      "text/plain": [
       "407"
      ]
     },
     "execution_count": 54,
     "metadata": {},
     "output_type": "execute_result"
    }
   ],
   "source": [
    "mi_func(\"andres\",\"masis\",2,3,4,23,32,343 )"
   ]
  },
  {
   "cell_type": "code",
   "execution_count": 55,
   "metadata": {},
   "outputs": [],
   "source": [
    "def mis_kwargs(**kwargs):\n",
    "    print(kwargs)"
   ]
  },
  {
   "cell_type": "code",
   "execution_count": 56,
   "metadata": {},
   "outputs": [
    {
     "name": "stdout",
     "output_type": "stream",
     "text": [
      "{'nombre': 'Andres', 'apellido': 'masis', 'edad': 31}\n"
     ]
    }
   ],
   "source": [
    "mis_kwargs(nombre=\"Andres\",apellido = \"masis\", edad = 31)"
   ]
  },
  {
   "cell_type": "code",
   "execution_count": 66,
   "metadata": {},
   "outputs": [],
   "source": [
    "def mis_args_kwargs(*args, **kwargs):\n",
    "    a,b,c = args\n",
    "    return a"
   ]
  },
  {
   "cell_type": "code",
   "execution_count": 67,
   "metadata": {},
   "outputs": [
    {
     "data": {
      "text/plain": [
       "2"
      ]
     },
     "execution_count": 67,
     "metadata": {},
     "output_type": "execute_result"
    }
   ],
   "source": [
    "mis_args_kwargs(2,3,4, nombre=\"Andres\", apellido = \"masis\")"
   ]
  },
  {
   "cell_type": "code",
   "execution_count": null,
   "metadata": {},
   "outputs": [],
   "source": []
  }
 ],
 "metadata": {
  "kernelspec": {
   "display_name": "Python 3",
   "language": "python",
   "name": "python3"
  },
  "language_info": {
   "codemirror_mode": {
    "name": "ipython",
    "version": 3
   },
   "file_extension": ".py",
   "mimetype": "text/x-python",
   "name": "python",
   "nbconvert_exporter": "python",
   "pygments_lexer": "ipython3",
   "version": "3.7.0"
  }
 },
 "nbformat": 4,
 "nbformat_minor": 2
}
