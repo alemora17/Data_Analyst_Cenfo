{
 "cells": [
  {
   "cell_type": "markdown",
   "metadata": {},
   "source": [
    "# Aproximaciones Numéricas\n",
    "\n",
    "Uno puede desarrollar operaciones que nos ayuden a calcular el resultado de diferentes operaciones matemáticas. Por ejemplo consideremos el código que nos permita aproximar una raíz cuadrada. Para hacer esto, podemos probar todos los resultados de elevar una serie de números al cuadrado hasta que tengamos el resultado que sea equivalente al número que queremos encontrar.\n",
    "\n",
    "En otras palabras, podríamos calcular la raíz cuadrada de 25 elevando al cuadrado todos los números hasta el 25 hasta que un número nos de 25. \n",
    "\n",
    "1<sup>2</sup> = 1\n",
    "\n",
    "2<sup>2</sup> = 4\n",
    "\n",
    "3<sup>2</sup> = 9\n",
    "\n",
    "4<sup>2</sup> = 16\n",
    "\n",
    "5<sup>2</sup> = 25 **Entonces 5 es la raíz cuadrada de 25**\n",
    "\n",
    "En código podría verse algo como esto:"
   ]
  },
  {
   "cell_type": "code",
   "execution_count": 4,
   "metadata": {},
   "outputs": [
    {
     "name": "stdout",
     "output_type": "stream",
     "text": [
      "Digame un número para calcular la raiz cuadrada:100\n",
      "1\n",
      "2\n",
      "3\n",
      "4\n",
      "5\n",
      "6\n",
      "7\n",
      "8\n",
      "9\n",
      "10\n",
      "La raiz cuadrada de 100 es 10\n"
     ]
    }
   ],
   "source": [
    "#Definimos una variable inicial para ir contando y aumentando los números\n",
    "ans = 0\n",
    "alerta = False\n",
    "\n",
    "#Solicitamos el núermo que queremos para calcular la raíz cuadrada\n",
    "x = int(input(\"Digame un número para calcular la raiz cuadrada:\"))\n",
    "\n",
    "#Si x es negativo se activa la alerta de que el número es negativo por lo tanto no va a poder calcularse la raíz\n",
    "if x < 0:\n",
    "    alerta = True\n",
    "    \n",
    "#Se inicia el loop para ir probando los números, básicamente mientras el número que estamos probando elevado al cuadrado\n",
    "#sea menor que el número vamos a seguir sumandole al número y elevando al cuadrado.\n",
    "while ans**2<x:\n",
    "    ans += 1\n",
    "    print(ans)\n",
    "\n",
    "#una vez que el número que se calcula es mayor que x salimos del loop y revisamos si es igual al número\n",
    "if ans**2 == x:\n",
    "    print(\"La raiz cuadrada de {} es {}\".format(x,ans))\n",
    "    \n",
    "#si no es igual entonces quiere decir que la raíz no es exacta\n",
    "else:\n",
    "    print(x, \" no tiene una raiz cuadrada perfecta\")\n",
    "    if alerta:\n",
    "        print(\"Estas seguro que no quisiste decir -x?\")\n"
   ]
  },
  {
   "cell_type": "markdown",
   "metadata": {},
   "source": [
    "Este método no es muy efectivo ya que no me permite calcular las raíces que no sean exactas y además si hacemos esto con un número muy alto, el código podría tardar mucho en calcular. Por esta razón es que podemos utilizar métodos de aproximación más detallados para calcular. \n",
    "\n",
    "Podemos definir una \"tolerancia\" o un error aceptable (epsilon) y realizar el cálculo más exacto. Por ejemplo, en este ejemplo, utilizamos una tolerancia de 0.01, por lo que si la respuesta está cercana a la respuesta real a este número entonces podemos tomarlo como aceptable. \n",
    "\n",
    "Además tenemos que incluir el ritmo al que vamos a querer incrementar las estimaciones (en este caso vamos a aumentar a un ritmo de 0.001)\n",
    "\n",
    "Nos permite aproximar mucho más el resultado de la raíz cuadrada, sin embargo, si hacemos epsilon muy pequeño, se van a aumentar considerablemente la cantidad de predicciones que va a tener que hacer antes de llegar a un resultado. \n"
   ]
  },
  {
   "cell_type": "code",
   "execution_count": 5,
   "metadata": {},
   "outputs": [
    {
     "name": "stdout",
     "output_type": "stream",
     "text": [
      "Intentos:  5196\n",
      "5.19600000000007  es la aproximacion a la raiz cuadrada de  27\n"
     ]
    }
   ],
   "source": [
    "cuadrado = 27\n",
    "epsilon = 0.01\n",
    "estimacion = 0.0\n",
    "incremento = 0.001\n",
    "intentos = 0\n",
    "\n",
    "while abs(estimacion**2 - cuadrado) >= epsilon and estimacion <= cuadrado:\n",
    "    estimacion += incremento\n",
    "    intentos += 1\n",
    "print(\"Intentos: \", intentos)\n",
    "\n",
    "if abs(estimacion**2 - cuadrado) >= epsilon:\n",
    "    print(\"No se encontró la raiz cuadrada de \", cuadrado)\n",
    "\n",
    "else:\n",
    "    print(estimacion, \" es la aproximacion a la raiz cuadrada de \", cuadrado)\n",
    "\n",
    "\n"
   ]
  },
  {
   "cell_type": "code",
   "execution_count": 6,
   "metadata": {},
   "outputs": [
    {
     "data": {
      "text/plain": [
       "5.196152422706632"
      ]
     },
     "execution_count": 6,
     "metadata": {},
     "output_type": "execute_result"
    }
   ],
   "source": [
    "#Si calculamos la raíz cuadrada de 27 podemos ver qué tanto se acerca el resultado\n",
    "27**0.5\n"
   ]
  },
  {
   "cell_type": "code",
   "execution_count": 8,
   "metadata": {},
   "outputs": [
    {
     "name": "stdout",
     "output_type": "stream",
     "text": [
      "Intentos:  51961\n",
      "5.196100000001229  es la aproximacion a la raiz cuadrada de  27\n"
     ]
    }
   ],
   "source": [
    "#Haciendo el mismo calculo pero aumentando el número y disminuyendo epsilon nos damos cuenta que necesitamos más de 51 mil\n",
    "# estimaciones para poder calcular el resultado osea 10 veces más\n",
    "\n",
    "cuadrado = 27\n",
    "epsilon = 0.001\n",
    "estimacion = 0.0\n",
    "incremento = 0.0001\n",
    "intentos = 0\n",
    "\n",
    "while abs(estimacion**2 - cuadrado) >= epsilon and estimacion <= cuadrado:\n",
    "    estimacion += incremento\n",
    "    intentos += 1\n",
    "print(\"Intentos: \", intentos)\n",
    "\n",
    "if abs(estimacion**2 - cuadrado) >= epsilon:\n",
    "    print(\"No se encontró la raiz cuadrada de \", cuadrado)\n",
    "\n",
    "else:\n",
    "    print(estimacion, \" es la aproximacion a la raiz cuadrada de \", cuadrado)\n",
    "    \n",
    "    "
   ]
  },
  {
   "cell_type": "code",
   "execution_count": 9,
   "metadata": {},
   "outputs": [
    {
     "data": {
      "text/plain": [
       "31.622776601683793"
      ]
     },
     "execution_count": 9,
     "metadata": {},
     "output_type": "execute_result"
    }
   ],
   "source": [
    "1000**0.5"
   ]
  },
  {
   "cell_type": "markdown",
   "metadata": {},
   "source": [
    "Por esta razón es que es importante aplicar métodos numéricos que nos puedan ayudar a optimizar nuestros resultados, en este caso podemos verlo implementado con **el Método de Bisección** visto en clase, el cuál nos reduce de 5000 a 11 iteraciones para llegar al resultado."
   ]
  },
  {
   "cell_type": "code",
   "execution_count": 11,
   "metadata": {},
   "outputs": [
    {
     "name": "stdout",
     "output_type": "stream",
     "text": [
      "Intentos:  11\n",
      "5.19580078125 es la estimacion de la raiz cuadrada de 27\n"
     ]
    }
   ],
   "source": [
    "x = 27\n",
    "epsilon = 0.01\n",
    "intentos = 0\n",
    "minimo = 1\n",
    "maximo = x\n",
    "estimacion = (maximo+minimo)/2.0\n",
    "\n",
    "while abs(estimacion**2 - x) >= epsilon:\n",
    "    intentos += 1\n",
    "    if estimacion **2 <x:\n",
    "        minimo = estimacion\n",
    "    else:\n",
    "        maximo = estimacion\n",
    "    estimacion = (maximo+minimo)/2.0\n",
    "print(\"Intentos: \", intentos)\n",
    "print(\"{} es la estimacion de la raiz cuadrada de {}\".format(estimacion,x))\n"
   ]
  },
  {
   "cell_type": "markdown",
   "metadata": {},
   "source": [
    "Y si disminuimos epislon o aumentamos el número no crece en la misma proporción, solamente necesitamos de 4 iteraciones adicionales en este caso:"
   ]
  },
  {
   "cell_type": "code",
   "execution_count": 10,
   "metadata": {},
   "outputs": [
    {
     "name": "stdout",
     "output_type": "stream",
     "text": [
      "Intentos:  15\n",
      "5.196197509765625 es la estimacion de la raiz cuadrada de 27\n"
     ]
    }
   ],
   "source": [
    "x = 27\n",
    "epsilon = 0.001\n",
    "intentos = 0\n",
    "minimo = 1\n",
    "maximo = x\n",
    "estimacion = (maximo+minimo)/2.0\n",
    "\n",
    "while abs(estimacion**2 - x) >= epsilon:\n",
    "    intentos += 1\n",
    "    if estimacion **2 <x:\n",
    "        minimo = estimacion\n",
    "    else:\n",
    "        maximo = estimacion\n",
    "    estimacion = (maximo+minimo)/2.0\n",
    "print(\"Intentos: \", intentos)\n",
    "print(\"{} es la estimacion de la raiz cuadrada de {}\".format(estimacion,x))"
   ]
  },
  {
   "cell_type": "markdown",
   "metadata": {},
   "source": [
    "Si lo hiciéramos utilizando el método de **Newton Raphson** podemos ver que se optimiza aún más el código:"
   ]
  },
  {
   "cell_type": "code",
   "execution_count": 12,
   "metadata": {},
   "outputs": [
    {
     "name": "stdout",
     "output_type": "stream",
     "text": [
      "Intentos:  4\n",
      "La raiz cuadrada de 24 es 5.196176253962744\n"
     ]
    }
   ],
   "source": [
    "# Haciendolo con Newton Raphson\n",
    "\n",
    "epsilon = 0.01\n",
    "y = 27.0\n",
    "estimacion = y/2.0\n",
    "intentos = 0\n",
    "\n",
    "while abs(estimacion*estimacion - y) >= epsilon:\n",
    "    intentos +=1\n",
    "    estimacion = estimacion - (((estimacion**2)-y)/(2*estimacion))\n",
    "print(\"Intentos: \", intentos)\n",
    "print(\"La raiz cuadrada de {} es {}\".format(24,estimacion))\n",
    "\n"
   ]
  },
  {
   "cell_type": "code",
   "execution_count": null,
   "metadata": {},
   "outputs": [],
   "source": []
  }
 ],
 "metadata": {
  "kernelspec": {
   "display_name": "Python 3",
   "language": "python",
   "name": "python3"
  },
  "language_info": {
   "codemirror_mode": {
    "name": "ipython",
    "version": 3
   },
   "file_extension": ".py",
   "mimetype": "text/x-python",
   "name": "python",
   "nbconvert_exporter": "python",
   "pygments_lexer": "ipython3",
   "version": "3.7.0"
  }
 },
 "nbformat": 4,
 "nbformat_minor": 2
}
