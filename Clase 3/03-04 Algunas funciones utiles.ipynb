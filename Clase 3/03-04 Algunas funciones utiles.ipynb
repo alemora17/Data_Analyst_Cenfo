{
 "cells": [
  {
   "cell_type": "markdown",
   "metadata": {},
   "source": [
    "# Funciones útiles\n",
    "\n",
    "Existen una serie de funciones bastante útiles para trabajar con data types que no hemos visto pero que pueden ser muy apropiadas para el primero proyecto del curso."
   ]
  },
  {
   "cell_type": "markdown",
   "metadata": {},
   "source": [
    "# Enumerate"
   ]
  },
  {
   "cell_type": "markdown",
   "metadata": {},
   "source": [
    "Que pasaría si quisieramos imprimir los indices en un loop? Por ejemplo para imprimir la lista con un numero adelante\n",
    "\n",
    "1. Andres\n",
    "2. Felipe\n",
    "3. Carlos\n",
    "4. Juan\n",
    "..etc"
   ]
  },
  {
   "cell_type": "code",
   "execution_count": 2,
   "metadata": {},
   "outputs": [
    {
     "name": "stdout",
     "output_type": "stream",
     "text": [
      "Andres\n",
      "Felipe\n",
      "Juan\n",
      "Pablo\n",
      "Jonathan\n"
     ]
    }
   ],
   "source": [
    "#Podríamos hacer un loop para imprimir los nombres\n",
    "nombres = [\"Andres\", \"Felipe\",\"Juan\",\"Pablo\",\"Jonathan\"]\n",
    "for nombre in nombres:\n",
    "    print(nombre)"
   ]
  },
  {
   "cell_type": "code",
   "execution_count": 3,
   "metadata": {},
   "outputs": [
    {
     "name": "stdout",
     "output_type": "stream",
     "text": [
      "1.Andres\n",
      "2.Felipe\n",
      "3.Juan\n",
      "4.Pablo\n",
      "5.Jonathan\n"
     ]
    }
   ],
   "source": [
    "# Para incluir el número podríamos sumar a un contador cada vez que terminamos una vuelta del loop\n",
    "n = 1\n",
    "for nombre in nombres:\n",
    "    print(\"{n}.{nombre}\".format(n=n,nombre=nombre))\n",
    "    n+=1\n",
    "    "
   ]
  },
  {
   "cell_type": "code",
   "execution_count": 4,
   "metadata": {},
   "outputs": [
    {
     "name": "stdout",
     "output_type": "stream",
     "text": [
      "1.Andres\n",
      "2.Felipe\n",
      "3.Juan\n",
      "4.Pablo\n",
      "5.Jonathan\n"
     ]
    }
   ],
   "source": [
    "# O podríamos hacer el loop por medio de range en lugar de la iteración sobre la lista\n",
    "for i in range(len(nombres)):\n",
    "    print(\"{n}.{nombre}\".format(n=i+1,nombre=nombres[i]))"
   ]
  },
  {
   "cell_type": "code",
   "execution_count": 8,
   "metadata": {},
   "outputs": [
    {
     "data": {
      "text/plain": [
       "<enumerate at 0x109775b88>"
      ]
     },
     "execution_count": 8,
     "metadata": {},
     "output_type": "execute_result"
    }
   ],
   "source": [
    "#Sin embargo, también podemos usar la función enumerate que me devuelve un iterador \n",
    "enumerate(nombres)"
   ]
  },
  {
   "cell_type": "code",
   "execution_count": 9,
   "metadata": {},
   "outputs": [
    {
     "data": {
      "text/plain": [
       "[(0, 'Andres'), (1, 'Felipe'), (2, 'Juan'), (3, 'Pablo'), (4, 'Jonathan')]"
      ]
     },
     "execution_count": 9,
     "metadata": {},
     "output_type": "execute_result"
    }
   ],
   "source": [
    "#Esto quiere decir que puedo iterar sobre el resultado y me va a devolver una respuesta que en este caso es una lista \n",
    "# de tuples con el valor del índice y del valor en cada campo\n",
    "list(enumerate(nombres))"
   ]
  },
  {
   "cell_type": "code",
   "execution_count": 10,
   "metadata": {},
   "outputs": [
    {
     "name": "stdout",
     "output_type": "stream",
     "text": [
      "1.Andres\n",
      "2.Felipe\n",
      "3.Juan\n",
      "4.Pablo\n",
      "5.Jonathan\n"
     ]
    }
   ],
   "source": [
    "#Lo podemos utilizar en un loop para obtener el resiltado deseado\n",
    "for index,value in enumerate(nombres):\n",
    "    print(\"{n}.{nombre}\".format(n=index+1,nombre=value))"
   ]
  },
  {
   "cell_type": "code",
   "execution_count": null,
   "metadata": {},
   "outputs": [],
   "source": []
  },
  {
   "cell_type": "markdown",
   "metadata": {},
   "source": [
    "# items()\n",
    "\n",
    "Items me da algo parecido a Enumerate, pero en este caso me va a devolver los keys y los values del diccionario"
   ]
  },
  {
   "cell_type": "code",
   "execution_count": 11,
   "metadata": {},
   "outputs": [],
   "source": [
    "data = {\n",
    "    \"nombre\":\"Andres\",\n",
    "    \"apellido\":\"Masis\",\n",
    "    \"edad\":17,\n",
    "}"
   ]
  },
  {
   "cell_type": "code",
   "execution_count": 12,
   "metadata": {},
   "outputs": [
    {
     "name": "stdout",
     "output_type": "stream",
     "text": [
      "nombre\n",
      "apellido\n",
      "edad\n"
     ]
    }
   ],
   "source": [
    "for item in data:\n",
    "    print(item)"
   ]
  },
  {
   "cell_type": "code",
   "execution_count": 13,
   "metadata": {},
   "outputs": [
    {
     "name": "stdout",
     "output_type": "stream",
     "text": [
      "0 nombre\n",
      "1 apellido\n",
      "2 edad\n"
     ]
    }
   ],
   "source": [
    "for item, value in enumerate(data):\n",
    "    print(item, value)\n"
   ]
  },
  {
   "cell_type": "code",
   "execution_count": 14,
   "metadata": {},
   "outputs": [
    {
     "name": "stdout",
     "output_type": "stream",
     "text": [
      "nombre | Andres\n",
      "apellido | Masis\n",
      "edad | 17\n"
     ]
    }
   ],
   "source": [
    "for item, value in data.items():\n",
    "    print(\"{} | {}\".format(item,value))"
   ]
  },
  {
   "cell_type": "code",
   "execution_count": 18,
   "metadata": {},
   "outputs": [
    {
     "name": "stdout",
     "output_type": "stream",
     "text": [
      "dict_items([('nombre', 'Andres'), ('apellido', 'Masis'), ('edad', 17)])\n"
     ]
    }
   ],
   "source": [
    "#Importaante, lo que devuelve es un objeto del tipo dict_items que no es indexable como una lista\n",
    "\n",
    "items = data.items()\n",
    "print(items)"
   ]
  },
  {
   "cell_type": "code",
   "execution_count": 19,
   "metadata": {},
   "outputs": [
    {
     "ename": "TypeError",
     "evalue": "'dict_items' object does not support indexing",
     "output_type": "error",
     "traceback": [
      "\u001b[0;31m---------------------------------------------------------------------------\u001b[0m",
      "\u001b[0;31mTypeError\u001b[0m                                 Traceback (most recent call last)",
      "\u001b[0;32m<ipython-input-19-95f461411437>\u001b[0m in \u001b[0;36m<module>\u001b[0;34m()\u001b[0m\n\u001b[0;32m----> 1\u001b[0;31m \u001b[0mitems\u001b[0m\u001b[0;34m[\u001b[0m\u001b[0;36m0\u001b[0m\u001b[0;34m]\u001b[0m\u001b[0;34m\u001b[0m\u001b[0m\n\u001b[0m",
      "\u001b[0;31mTypeError\u001b[0m: 'dict_items' object does not support indexing"
     ]
    }
   ],
   "source": [
    "items[0]"
   ]
  },
  {
   "cell_type": "code",
   "execution_count": 20,
   "metadata": {},
   "outputs": [
    {
     "ename": "TypeError",
     "evalue": "'dict_items' object is not subscriptable",
     "output_type": "error",
     "traceback": [
      "\u001b[0;31m---------------------------------------------------------------------------\u001b[0m",
      "\u001b[0;31mTypeError\u001b[0m                                 Traceback (most recent call last)",
      "\u001b[0;32m<ipython-input-20-21a02b088d79>\u001b[0m in \u001b[0;36m<module>\u001b[0;34m()\u001b[0m\n\u001b[1;32m      1\u001b[0m \u001b[0;31m#Ni tampoco lo puedo accesar como un diccionario\u001b[0m\u001b[0;34m\u001b[0m\u001b[0;34m\u001b[0m\u001b[0m\n\u001b[0;32m----> 2\u001b[0;31m \u001b[0mitems\u001b[0m\u001b[0;34m[\u001b[0m\u001b[0;34m\"nombre\"\u001b[0m\u001b[0;34m]\u001b[0m\u001b[0;34m\u001b[0m\u001b[0m\n\u001b[0m",
      "\u001b[0;31mTypeError\u001b[0m: 'dict_items' object is not subscriptable"
     ]
    }
   ],
   "source": [
    "#Ni tampoco lo puedo accesar como un diccionario\n",
    "items[\"nombre\"]"
   ]
  },
  {
   "cell_type": "code",
   "execution_count": 23,
   "metadata": {},
   "outputs": [],
   "source": [
    "# Para poder accesarlo tengo que convertir el resultado en una lista\n",
    "items = list(items)"
   ]
  },
  {
   "cell_type": "code",
   "execution_count": 24,
   "metadata": {},
   "outputs": [
    {
     "data": {
      "text/plain": [
       "('nombre', 'Andres')"
      ]
     },
     "execution_count": 24,
     "metadata": {},
     "output_type": "execute_result"
    }
   ],
   "source": [
    "items[0]"
   ]
  },
  {
   "cell_type": "code",
   "execution_count": 27,
   "metadata": {},
   "outputs": [],
   "source": [
    "# Y puedo hacer \"Tuple unpacking\" para sacar el key y el value\n",
    "key,value=items[0]"
   ]
  },
  {
   "cell_type": "code",
   "execution_count": 28,
   "metadata": {},
   "outputs": [
    {
     "data": {
      "text/plain": [
       "'nombre'"
      ]
     },
     "execution_count": 28,
     "metadata": {},
     "output_type": "execute_result"
    }
   ],
   "source": [
    "key"
   ]
  },
  {
   "cell_type": "code",
   "execution_count": 29,
   "metadata": {},
   "outputs": [
    {
     "data": {
      "text/plain": [
       "'Andres'"
      ]
     },
     "execution_count": 29,
     "metadata": {},
     "output_type": "execute_result"
    }
   ],
   "source": [
    "value"
   ]
  },
  {
   "cell_type": "markdown",
   "metadata": {},
   "source": [
    "# zip"
   ]
  },
  {
   "cell_type": "code",
   "execution_count": 30,
   "metadata": {},
   "outputs": [
    {
     "data": {
      "text/plain": [
       "[(0, 'a'), (1, 'n'), (2, 'd'), (3, 'r'), (4, 'e'), (5, 's')]"
      ]
     },
     "execution_count": 30,
     "metadata": {},
     "output_type": "execute_result"
    }
   ],
   "source": [
    "#cuando hago una lista en realidad me da una lista de tuples\n",
    "list(enumerate(\"andres\"))"
   ]
  },
  {
   "cell_type": "code",
   "execution_count": 31,
   "metadata": {},
   "outputs": [],
   "source": [
    "# Esta es una estructura muy comun en python, para crearlas se puede utilizar la funcion zip\n",
    "lista_1 = [\"Andres\", \"Felipe\",\"Juan\",\"Pablo\",\"Jonathan\"]\n",
    "lista_2 = [\"Masis\", \"Acuna\",\"Perez\",\"Salazar\",\"Amon\"]\n"
   ]
  },
  {
   "cell_type": "code",
   "execution_count": 32,
   "metadata": {},
   "outputs": [
    {
     "data": {
      "text/plain": [
       "<zip at 0x109770bc8>"
      ]
     },
     "execution_count": 32,
     "metadata": {},
     "output_type": "execute_result"
    }
   ],
   "source": [
    "zip(lista_1,lista_2)"
   ]
  },
  {
   "cell_type": "code",
   "execution_count": 33,
   "metadata": {},
   "outputs": [
    {
     "data": {
      "text/plain": [
       "[('Andres', 'Masis'),\n",
       " ('Felipe', 'Acuna'),\n",
       " ('Juan', 'Perez'),\n",
       " ('Pablo', 'Salazar'),\n",
       " ('Jonathan', 'Amon')]"
      ]
     },
     "execution_count": 33,
     "metadata": {},
     "output_type": "execute_result"
    }
   ],
   "source": [
    "list(zip(lista_1,lista_2))"
   ]
  },
  {
   "cell_type": "code",
   "execution_count": 34,
   "metadata": {},
   "outputs": [
    {
     "name": "stdout",
     "output_type": "stream",
     "text": [
      "El nombre es Andres y su apellido Masis\n",
      "El nombre es Felipe y su apellido Acuna\n",
      "El nombre es Juan y su apellido Perez\n",
      "El nombre es Pablo y su apellido Salazar\n",
      "El nombre es Jonathan y su apellido Amon\n"
     ]
    }
   ],
   "source": [
    "for nombre, apellido in zip(lista_1,lista_2):\n",
    "    print(\"El nombre es {} y su apellido {}\".format(nombre,apellido))"
   ]
  },
  {
   "cell_type": "markdown",
   "metadata": {},
   "source": [
    "# in"
   ]
  },
  {
   "cell_type": "code",
   "execution_count": 35,
   "metadata": {},
   "outputs": [
    {
     "data": {
      "text/plain": [
       "False"
      ]
     },
     "execution_count": 35,
     "metadata": {},
     "output_type": "execute_result"
    }
   ],
   "source": [
    "\"andres\" in lista_1"
   ]
  },
  {
   "cell_type": "code",
   "execution_count": 36,
   "metadata": {},
   "outputs": [
    {
     "data": {
      "text/plain": [
       "True"
      ]
     },
     "execution_count": 36,
     "metadata": {},
     "output_type": "execute_result"
    }
   ],
   "source": [
    "\"Andres\" in lista_1"
   ]
  },
  {
   "cell_type": "code",
   "execution_count": null,
   "metadata": {},
   "outputs": [],
   "source": []
  },
  {
   "cell_type": "markdown",
   "metadata": {},
   "source": [
    "# Random"
   ]
  },
  {
   "cell_type": "code",
   "execution_count": 37,
   "metadata": {},
   "outputs": [],
   "source": [
    "import random"
   ]
  },
  {
   "cell_type": "code",
   "execution_count": 38,
   "metadata": {},
   "outputs": [],
   "source": [
    "# noten que esto cambia la lista original, se conoce como Inplace\n",
    "random.shuffle(lista_1)\n"
   ]
  },
  {
   "cell_type": "code",
   "execution_count": 39,
   "metadata": {},
   "outputs": [
    {
     "data": {
      "text/plain": [
       "['Juan', 'Pablo', 'Jonathan', 'Andres', 'Felipe']"
      ]
     },
     "execution_count": 39,
     "metadata": {},
     "output_type": "execute_result"
    }
   ],
   "source": [
    "lista_1\n"
   ]
  },
  {
   "cell_type": "code",
   "execution_count": 40,
   "metadata": {},
   "outputs": [
    {
     "data": {
      "text/plain": [
       "4"
      ]
     },
     "execution_count": 40,
     "metadata": {},
     "output_type": "execute_result"
    }
   ],
   "source": [
    "random.randint(1,6)\n",
    "\n"
   ]
  },
  {
   "cell_type": "code",
   "execution_count": 56,
   "metadata": {},
   "outputs": [
    {
     "name": "stdout",
     "output_type": "stream",
     "text": [
      "43\n",
      "29\n",
      "12\n",
      "93\n",
      "25\n",
      "18\n",
      "10\n",
      "98\n",
      "54\n",
      "29\n",
      "8\n",
      "97\n",
      "79\n",
      "18\n",
      "84\n",
      "96\n",
      "73\n",
      "10\n",
      "10\n",
      "21\n"
     ]
    }
   ],
   "source": [
    "for i in range(20):\n",
    "    print(random.randint(1,100))"
   ]
  },
  {
   "cell_type": "code",
   "execution_count": 59,
   "metadata": {},
   "outputs": [
    {
     "data": {
      "text/plain": [
       "0"
      ]
     },
     "execution_count": 59,
     "metadata": {},
     "output_type": "execute_result"
    }
   ],
   "source": [
    "random.randrange(100)"
   ]
  },
  {
   "cell_type": "code",
   "execution_count": 61,
   "metadata": {},
   "outputs": [
    {
     "name": "stdout",
     "output_type": "stream",
     "text": [
      "98\n",
      "22\n",
      "82\n",
      "6\n",
      "69\n",
      "44\n",
      "89\n",
      "75\n",
      "88\n",
      "20\n",
      "71\n",
      "19\n",
      "66\n",
      "15\n",
      "40\n",
      "96\n",
      "98\n",
      "80\n",
      "9\n",
      "83\n"
     ]
    }
   ],
   "source": [
    "for i in range(20):\n",
    "    print(random.randrange(100))"
   ]
  },
  {
   "cell_type": "code",
   "execution_count": null,
   "metadata": {},
   "outputs": [],
   "source": []
  }
 ],
 "metadata": {
  "kernelspec": {
   "display_name": "Python 3",
   "language": "python",
   "name": "python3"
  },
  "language_info": {
   "codemirror_mode": {
    "name": "ipython",
    "version": 3
   },
   "file_extension": ".py",
   "mimetype": "text/x-python",
   "name": "python",
   "nbconvert_exporter": "python",
   "pygments_lexer": "ipython3",
   "version": "3.7.0"
  }
 },
 "nbformat": 4,
 "nbformat_minor": 2
}
