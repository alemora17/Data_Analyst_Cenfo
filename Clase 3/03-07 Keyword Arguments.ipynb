{
 "cells": [
  {
   "cell_type": "markdown",
   "metadata": {},
   "source": [
    "# Keyword Arguments & Valores Predefinidos\n",
    "\n",
    "En las funciones de Python yo puedo tener valores que se definan por medio del nombre del parámetro y no necesariamente del orden en que se ingresan los parámetros.\n",
    "\n",
    "Hasta el momento hemos llamado las funciones ingresando los parámetros en el órden que se asignaron los parámetros. En este ejericio tenemos una función que recibe 3 parámetros:\n",
    "\n",
    "nombre: string\n",
    "apellido: string\n",
    "inverso: boolean\n",
    "\n",
    "Básicamente si el inverso es True entonces se va a imprimir el nombre en el formato inverso : apellido primero."
   ]
  },
  {
   "cell_type": "code",
   "execution_count": 1,
   "metadata": {},
   "outputs": [],
   "source": [
    "def printNombres(nombre,apellido,inverso):\n",
    "    if inverso:\n",
    "        print(apellido, ',' ,nombre)\n",
    "    else:\n",
    "        print(nombre,apellido)"
   ]
  },
  {
   "cell_type": "code",
   "execution_count": 2,
   "metadata": {},
   "outputs": [
    {
     "name": "stdout",
     "output_type": "stream",
     "text": [
      "Andres Masis\n"
     ]
    }
   ],
   "source": [
    "# Hata el momento lo que hemos hecho es ingresar las variables en el orden que se asignaron los parámetros:\n",
    "printNombres(\"Andres\",\"Masis\",False)"
   ]
  },
  {
   "cell_type": "code",
   "execution_count": 4,
   "metadata": {},
   "outputs": [
    {
     "name": "stdout",
     "output_type": "stream",
     "text": [
      "Masis , Andres\n"
     ]
    }
   ],
   "source": [
    "printNombres(\"Andres\",\"Masis\",True)"
   ]
  },
  {
   "cell_type": "code",
   "execution_count": null,
   "metadata": {},
   "outputs": [],
   "source": []
  },
  {
   "cell_type": "markdown",
   "metadata": {},
   "source": [
    "### Keyword arguments\n",
    "\n",
    "Los keyword arguments lo que me permiten es definir los parámetros por nombre:"
   ]
  },
  {
   "cell_type": "code",
   "execution_count": 12,
   "metadata": {},
   "outputs": [
    {
     "name": "stdout",
     "output_type": "stream",
     "text": [
      "Masis , Andres\n"
     ]
    }
   ],
   "source": [
    "printNombres(\"Andres\",\"Masis\",inverso=True)"
   ]
  },
  {
   "cell_type": "code",
   "execution_count": 5,
   "metadata": {},
   "outputs": [
    {
     "name": "stdout",
     "output_type": "stream",
     "text": [
      "Masis , Andres\n"
     ]
    }
   ],
   "source": [
    "#Podríamos hacerlo con todos los valores que quisiéramos\n",
    "printNombres(\"Andres\",apellido=\"Masis\",inverso=True)"
   ]
  },
  {
   "cell_type": "code",
   "execution_count": 6,
   "metadata": {},
   "outputs": [
    {
     "name": "stdout",
     "output_type": "stream",
     "text": [
      "Masis , Andres\n"
     ]
    }
   ],
   "source": [
    "printNombres(nombre = \"Andres\",apellido = \"Masis\",inverso=True)"
   ]
  },
  {
   "cell_type": "code",
   "execution_count": 7,
   "metadata": {},
   "outputs": [
    {
     "name": "stdout",
     "output_type": "stream",
     "text": [
      "Masis , Andres\n"
     ]
    }
   ],
   "source": [
    "#Si se hace para todos los parámetros inclusive se pueden escribir en el orden que sea y aún así las función va a correr\n",
    "printNombres(apellido = \"Masis\",inverso=True,nombre = \"Andres\")"
   ]
  },
  {
   "cell_type": "code",
   "execution_count": 10,
   "metadata": {},
   "outputs": [
    {
     "ename": "TypeError",
     "evalue": "printNombres() got multiple values for argument 'nombre'",
     "output_type": "error",
     "traceback": [
      "\u001b[0;31m---------------------------------------------------------------------------\u001b[0m",
      "\u001b[0;31mTypeError\u001b[0m                                 Traceback (most recent call last)",
      "\u001b[0;32m<ipython-input-10-6adb91066b15>\u001b[0m in \u001b[0;36m<module>\u001b[0;34m()\u001b[0m\n\u001b[1;32m      1\u001b[0m \u001b[0;31m#Sin embargo hay que tener cuidado ya que los parámetros que no tengan keyword van a tener que escribirse en el orden\u001b[0m\u001b[0;34m\u001b[0m\u001b[0;34m\u001b[0m\u001b[0m\n\u001b[1;32m      2\u001b[0m \u001b[0;31m#correcto\u001b[0m\u001b[0;34m\u001b[0m\u001b[0;34m\u001b[0m\u001b[0m\n\u001b[0;32m----> 3\u001b[0;31m \u001b[0mprintNombres\u001b[0m\u001b[0;34m(\u001b[0m\u001b[0;34m\"Masis\"\u001b[0m\u001b[0;34m,\u001b[0m\u001b[0mnombre\u001b[0m \u001b[0;34m=\u001b[0m \u001b[0;34m\"Andres\"\u001b[0m\u001b[0;34m,\u001b[0m\u001b[0minverso\u001b[0m\u001b[0;34m=\u001b[0m\u001b[0;32mTrue\u001b[0m\u001b[0;34m)\u001b[0m\u001b[0;34m\u001b[0m\u001b[0m\n\u001b[0m",
      "\u001b[0;31mTypeError\u001b[0m: printNombres() got multiple values for argument 'nombre'"
     ]
    }
   ],
   "source": [
    "#Sin embargo hay que tener cuidado ya que los parámetros que no tengan keyword van a tener que escribirse en el orden \n",
    "#correcto\n",
    "printNombres(\"Masis\",nombre = \"Andres\",inverso=True)"
   ]
  },
  {
   "cell_type": "code",
   "execution_count": null,
   "metadata": {},
   "outputs": [],
   "source": []
  },
  {
   "cell_type": "markdown",
   "metadata": {},
   "source": [
    "### Valores Predefinidos\n",
    "\n",
    "Hay ocasiones en las que queremos que los valores de los parámetros tengan un valor default, esto con el fin de no necesariamente tener que ingresar todos los parámetros para que la función corra"
   ]
  },
  {
   "cell_type": "code",
   "execution_count": 11,
   "metadata": {},
   "outputs": [
    {
     "ename": "TypeError",
     "evalue": "printNombres() missing 1 required positional argument: 'inverso'",
     "output_type": "error",
     "traceback": [
      "\u001b[0;31m---------------------------------------------------------------------------\u001b[0m",
      "\u001b[0;31mTypeError\u001b[0m                                 Traceback (most recent call last)",
      "\u001b[0;32m<ipython-input-11-ec37dcebd10d>\u001b[0m in \u001b[0;36m<module>\u001b[0;34m()\u001b[0m\n\u001b[1;32m      2\u001b[0m \u001b[0;31m# en la creación de la función se asignaron 3\u001b[0m\u001b[0;34m\u001b[0m\u001b[0;34m\u001b[0m\u001b[0m\n\u001b[1;32m      3\u001b[0m \u001b[0;34m\u001b[0m\u001b[0m\n\u001b[0;32m----> 4\u001b[0;31m \u001b[0mprintNombres\u001b[0m\u001b[0;34m(\u001b[0m\u001b[0mapellido\u001b[0m \u001b[0;34m=\u001b[0m \u001b[0;34m\"Masis\"\u001b[0m\u001b[0;34m,\u001b[0m\u001b[0mnombre\u001b[0m \u001b[0;34m=\u001b[0m \u001b[0;34m\"Andres\"\u001b[0m\u001b[0;34m)\u001b[0m\u001b[0;34m\u001b[0m\u001b[0m\n\u001b[0m",
      "\u001b[0;31mTypeError\u001b[0m: printNombres() missing 1 required positional argument: 'inverso'"
     ]
    }
   ],
   "source": [
    "#Aqui por ejemplo aunque tengo todo bien asignado, el código no corre porque solamente tenemos 2 variables pero \n",
    "# en la creación de la función se asignaron 3\n",
    "\n",
    "printNombres(apellido = \"Masis\",nombre = \"Andres\")"
   ]
  },
  {
   "cell_type": "code",
   "execution_count": 13,
   "metadata": {},
   "outputs": [],
   "source": [
    "# Si lo hago desde la definición de mi función puedo dejar valores predefinidos\n",
    "\n",
    "def printNombres(nombre,apellido,inverso=False):\n",
    "    if inverso:\n",
    "        print(apellido, ',' ,nombre)\n",
    "    else:\n",
    "        print(nombre,apellido)"
   ]
  },
  {
   "cell_type": "code",
   "execution_count": 14,
   "metadata": {},
   "outputs": [
    {
     "name": "stdout",
     "output_type": "stream",
     "text": [
      "Andres Masis\n"
     ]
    }
   ],
   "source": [
    "#Ahora el valor de Inverso prefedinido es False\n",
    "printNombres(apellido = \"Masis\",nombre = \"Andres\")"
   ]
  },
  {
   "cell_type": "code",
   "execution_count": null,
   "metadata": {},
   "outputs": [],
   "source": []
  }
 ],
 "metadata": {
  "kernelspec": {
   "display_name": "Python 3",
   "language": "python",
   "name": "python3"
  },
  "language_info": {
   "codemirror_mode": {
    "name": "ipython",
    "version": 3
   },
   "file_extension": ".py",
   "mimetype": "text/x-python",
   "name": "python",
   "nbconvert_exporter": "python",
   "pygments_lexer": "ipython3",
   "version": "3.6.3"
  }
 },
 "nbformat": 4,
 "nbformat_minor": 2
}
