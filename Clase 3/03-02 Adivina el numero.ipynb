{
 "cells": [
  {
   "cell_type": "markdown",
   "metadata": {},
   "source": [
    "# Vamos a Programar un juego"
   ]
  },
  {
   "cell_type": "markdown",
   "metadata": {},
   "source": [
    "**Instrucciones:**\n",
    "\n",
    "Crear un programa que selecciona un número del 1 al 100 y le pide al jugador que adivine el número. \n",
    "\n",
    "Reglas del juego:\n",
    "    1. Si el jugador ingresa un número superior a 100 o menor a 1, se debe imprimr una advertencia\n",
    "    2. Si en el primer turno el jugador adivina y está a 10 numeros de distancia de la respuesta debe indicarle al jugador que está cerca. Sino debe indicarle que está lejos.\n",
    "    3. Si el jugador adivina y se acerca al número debe indicarse \"te estas acercando\" de lo contrario \"te estas alejando\"\n",
    "    4. Si el jugador adivina el número se le debe indicar que acertó y se le debe decir en cuántos turnos logró el resultado.\n",
    "    5. El juego debe iniciar con una introducción al juego y con las instrucciones"
   ]
  },
  {
   "cell_type": "markdown",
   "metadata": {},
   "source": [
    "**PASOS:**\n",
    "\n",
    "    - Hacer que el sistema seleccione un número\n",
    "    - Imprimir la introduccion al juego\n",
    "    - Crear una lista para que guarde los intentos\n",
    "    - Pedirle al usuario que haga un intento (hacer un while loop)\n",
    "    - Revisar si adivinó dentro del rango apropiado\n",
    "    - Escribir el loop que compara la respuesta del jugador y le da indicaciones de como avanzar\n",
    "    \n",
    "\n"
   ]
  },
  {
   "cell_type": "code",
   "execution_count": 2,
   "metadata": {},
   "outputs": [
    {
     "data": {
      "text/plain": [
       "26"
      ]
     },
     "execution_count": 2,
     "metadata": {},
     "output_type": "execute_result"
    }
   ],
   "source": [
    "from random import randint\n",
    "#numero = randint(1,100)\n",
    "numero = 10"
   ]
  },
  {
   "cell_type": "code",
   "execution_count": 3,
   "metadata": {},
   "outputs": [
    {
     "name": "stdout",
     "output_type": "stream",
     "text": [
      "Bienvenido al juego\n",
      "Voy a pensar en un número del 1 al 100\n",
      "Vas a tener que tratar de adivinar el número con las pistas que te voy a dar\n",
      "¡Comencemos!\n"
     ]
    }
   ],
   "source": [
    "print(\"Bienvenido al juego\")\n",
    "print(\"Voy a pensar en un número del 1 al 100\")\n",
    "print(\"Vas a tener que tratar de adivinar el número con las pistas que te voy a dar\")\n",
    "print(\"¡Comencemos!\")"
   ]
  },
  {
   "cell_type": "code",
   "execution_count": 23,
   "metadata": {},
   "outputs": [
    {
     "name": "stdout",
     "output_type": "stream",
     "text": [
      "Bienvenido al juego\n",
      "Voy a pensar en un número del 1 al 100\n",
      "Vas a tener que tratar de adivinar el número con las pistas que te voy a dar\n",
      "¡Comencemos!\n"
     ]
    }
   ],
   "source": [
    "from random import randint\n",
    "#numero = randint(1,100)\n",
    "numero = 10\n",
    "\n",
    "print(\"Bienvenido al juego\")\n",
    "print(\"Voy a pensar en un número del 1 al 100\")\n",
    "print(\"Vas a tener que tratar de adivinar el número con las pistas que te voy a dar\")\n",
    "print(\"¡Comencemos!\")"
   ]
  },
  {
   "cell_type": "code",
   "execution_count": 45,
   "metadata": {},
   "outputs": [
    {
     "name": "stdout",
     "output_type": "stream",
     "text": [
      "¿Cuál es tu predicción?60\n",
      "prediccion afuera: None\n",
      "Qué va...lejos...\n",
      "60\n",
      "¿Cuál es tu predicción?40\n",
      "prediccion afuera: 60\n",
      "dentro del if: 60\n",
      "¡Te estas acercando!\n",
      "¿Cuál es tu predicción?70\n",
      "prediccion afuera: 40\n",
      "dentro del if: 40\n",
      "¡¡Qué mal, te alejaste!!\n",
      "¿Cuál es tu predicción?30\n",
      "prediccion afuera: 70\n",
      "dentro del if: 70\n",
      "¡Te estas acercando!\n",
      "¿Cuál es tu predicción?12\n",
      "prediccion afuera: 30\n",
      "dentro del if: 30\n",
      "¡Te estas acercando!\n",
      "¿Cuál es tu predicción?10\n",
      "¡Adivinaste! Y solo te tomó 6 intentos\n"
     ]
    }
   ],
   "source": [
    "intentos = 0\n",
    "prediccion_pasada = None\n",
    "\n",
    "while True:\n",
    "    prediccion = int(input(\"¿Cuál es tu predicción?\"))\n",
    "\n",
    "    \n",
    "    if prediccion > 100 or intento < 1:\n",
    "        print(\"¡UPS! El número tiene que estar entre 1 y 100, intentá de nuevo\")\n",
    "        continue\n",
    "    \n",
    "    if prediccion == numero:\n",
    "        intentos += 1\n",
    "        print(\"¡Adivinaste! Y solo te tomó {} intentos\".format(intentos))\n",
    "        break\n",
    "    \n",
    "    intentos += 1\n",
    "\n",
    "    print(\"prediccion afuera:\", prediccion_pasada)\n",
    "#   print(\"intentos: %s\"%intentos)\n",
    "#    print(\"prediccion pasada: %s\"%prediccion_pasada)\n",
    "   \n",
    "    if prediccion_pasada:\n",
    "        print(\"dentro del if:\", prediccion_pasada)\n",
    "        if abs(numero-prediccion) < abs(numero-prediccion_pasada):\n",
    "            print(\"¡Te estas acercando!\")\n",
    "            prediccion_pasada = prediccion\n",
    "        else:\n",
    "            print(\"¡¡Qué mal, te alejaste!!\")\n",
    "            prediccion_pasada = prediccion\n",
    "            \n",
    "    else:\n",
    "        if abs(numero-prediccion) <= 10:\n",
    "            print(\"¡¡Uyyy qué cerca estás!! \")\n",
    "            prediccion_pasada = prediccion\n",
    "        else:\n",
    "            print(\"Qué va...lejos...\")\n",
    "            prediccion_pasada = prediccion\n",
    "            print(prediccion_pasada)\n",
    "        \n",
    "        "
   ]
  },
  {
   "cell_type": "code",
   "execution_count": null,
   "metadata": {},
   "outputs": [],
   "source": []
  },
  {
   "cell_type": "code",
   "execution_count": null,
   "metadata": {},
   "outputs": [],
   "source": []
  },
  {
   "cell_type": "code",
   "execution_count": null,
   "metadata": {},
   "outputs": [],
   "source": []
  }
 ],
 "metadata": {
  "kernelspec": {
   "display_name": "Python 3",
   "language": "python",
   "name": "python3"
  },
  "language_info": {
   "codemirror_mode": {
    "name": "ipython",
    "version": 3
   },
   "file_extension": ".py",
   "mimetype": "text/x-python",
   "name": "python",
   "nbconvert_exporter": "python",
   "pygments_lexer": "ipython3",
   "version": "3.7.0"
  }
 },
 "nbformat": 4,
 "nbformat_minor": 2
}
