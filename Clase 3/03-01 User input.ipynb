{
 "cells": [
  {
   "cell_type": "markdown",
   "metadata": {},
   "source": [
    "# User Input"
   ]
  },
  {
   "cell_type": "markdown",
   "metadata": {},
   "source": [
    "Para poder interactuar con la máquina con Python, se utiliza el método input( )\n",
    "\n",
    "Entre los paréntesis, en forma de string agrego el mensaje que indica al usuario qué es lo que estamos solicitando, en esté caso le estamos preguntando cómo se llama.\n"
   ]
  },
  {
   "cell_type": "code",
   "execution_count": 1,
   "metadata": {},
   "outputs": [
    {
     "name": "stdout",
     "output_type": "stream",
     "text": [
      "hola, ¿cómo te llamás?Andres\n"
     ]
    },
    {
     "data": {
      "text/plain": [
       "'Andres'"
      ]
     },
     "execution_count": 1,
     "metadata": {},
     "output_type": "execute_result"
    }
   ],
   "source": [
    "input(\"hola, ¿cómo te llamás?\")"
   ]
  },
  {
   "cell_type": "markdown",
   "metadata": {},
   "source": [
    "El método retorna la respuesta a la pregunta o a la indicación que se esté dando, por lo que el resultado puede guardarse en una variable. \n",
    "\n",
    "Sin embargo, hay que tener cuidado ya que la respuesta se va a guardar como un string y para poder utilizarlo como número se tiene que convertir:"
   ]
  },
  {
   "cell_type": "code",
   "execution_count": 2,
   "metadata": {},
   "outputs": [
    {
     "name": "stdout",
     "output_type": "stream",
     "text": [
      "¿cuál es tu edad?18\n"
     ]
    }
   ],
   "source": [
    "edad = input(\"¿cuál es tu edad?\")"
   ]
  },
  {
   "cell_type": "code",
   "execution_count": 5,
   "metadata": {},
   "outputs": [
    {
     "data": {
      "text/plain": [
       "'18'"
      ]
     },
     "execution_count": 5,
     "metadata": {},
     "output_type": "execute_result"
    }
   ],
   "source": [
    "edad"
   ]
  },
  {
   "cell_type": "code",
   "execution_count": 6,
   "metadata": {},
   "outputs": [
    {
     "data": {
      "text/plain": [
       "'181818181818181818181818'"
      ]
     },
     "execution_count": 6,
     "metadata": {},
     "output_type": "execute_result"
    }
   ],
   "source": [
    "#Si aplico operaciones matemáticas al resultado no nos va a dar el resultado esperado\n",
    "edad*12"
   ]
  },
  {
   "cell_type": "code",
   "execution_count": 7,
   "metadata": {},
   "outputs": [
    {
     "name": "stdout",
     "output_type": "stream",
     "text": [
      "¿cuál es tu edad?10\n"
     ]
    }
   ],
   "source": [
    "#Hay que convertirlo a un número para poder usarlo como tal\n",
    "edad = int(input(\"¿cuál es tu edad?\"))"
   ]
  },
  {
   "cell_type": "code",
   "execution_count": 10,
   "metadata": {},
   "outputs": [
    {
     "data": {
      "text/plain": [
       "50"
      ]
     },
     "execution_count": 10,
     "metadata": {},
     "output_type": "execute_result"
    }
   ],
   "source": [
    "edad*5"
   ]
  },
  {
   "cell_type": "markdown",
   "metadata": {},
   "source": [
    "La respuesta que se dé puede ser de cualquier tipo, ya que va a retornar un string y es trabajo del que esté programando de manejar la información de la manera correcta, por lo que se debe validar además la respuesta antes de utilizarla:\n"
   ]
  },
  {
   "cell_type": "code",
   "execution_count": 18,
   "metadata": {},
   "outputs": [
    {
     "name": "stdout",
     "output_type": "stream",
     "text": [
      "¿Cuáles son tus paises favoritos?Guatemala, Costa Rica, Panamá\n",
      "Guatemala, Costa Rica, Panamá\n"
     ]
    }
   ],
   "source": [
    "paises = input(\"¿Cuáles son tus paises favoritos?\")\n",
    "print(paises)"
   ]
  },
  {
   "cell_type": "code",
   "execution_count": 19,
   "metadata": {},
   "outputs": [
    {
     "name": "stdout",
     "output_type": "stream",
     "text": [
      "no está en el formato correcto\n"
     ]
    }
   ],
   "source": [
    "#Aquí validamos que la respuesta sea una lista, en este caso no es, ya que es un str\n",
    "if type(paises)!=list:\n",
    "    print(\"no está en el formato correcto\")\n"
   ]
  },
  {
   "cell_type": "code",
   "execution_count": 20,
   "metadata": {},
   "outputs": [
    {
     "name": "stdout",
     "output_type": "stream",
     "text": [
      "¿Cuáles son tus paises favoritos? (separados por una comma)Guatemala, Costa Rica, Panamá\n"
     ]
    }
   ],
   "source": [
    "#La mejor forma es especificar al usuario lo que queremos para después trabajarlo:\n",
    "paises = input(\"¿Cuáles son tus paises favoritos? (separados por una comma)\")"
   ]
  },
  {
   "cell_type": "code",
   "execution_count": 21,
   "metadata": {},
   "outputs": [
    {
     "data": {
      "text/plain": [
       "'Guatemala, Costa Rica, Panamá'"
      ]
     },
     "execution_count": 21,
     "metadata": {},
     "output_type": "execute_result"
    }
   ],
   "source": [
    "paises"
   ]
  },
  {
   "cell_type": "code",
   "execution_count": 23,
   "metadata": {},
   "outputs": [
    {
     "data": {
      "text/plain": [
       "['Guatemala', ' Costa Rica', ' Panamá']"
      ]
     },
     "execution_count": 23,
     "metadata": {},
     "output_type": "execute_result"
    }
   ],
   "source": [
    "#Podemos usar split() para dividir las palabras en las comas\n",
    "paises_list = paises.split(\",\")\n",
    "paises_list"
   ]
  },
  {
   "cell_type": "markdown",
   "metadata": {},
   "source": [
    "Otra forma de convertir los datos es utilizando eval() el cual evalua el texto y si tiene el formato correcto devuelve un objeto de python:"
   ]
  },
  {
   "cell_type": "code",
   "execution_count": 1,
   "metadata": {},
   "outputs": [
    {
     "name": "stdout",
     "output_type": "stream",
     "text": [
      "¿Cuáles son tus paises favoritos? (dar una lista de python)[\"Costa Rica\", \"Panama\"]\n"
     ]
    }
   ],
   "source": [
    "lista_paises = input(\"¿Cuáles son tus paises favoritos? (dar una lista de python)\")"
   ]
  },
  {
   "cell_type": "code",
   "execution_count": 2,
   "metadata": {},
   "outputs": [
    {
     "data": {
      "text/plain": [
       "str"
      ]
     },
     "execution_count": 2,
     "metadata": {},
     "output_type": "execute_result"
    }
   ],
   "source": [
    "#La lista tiene el formato correcto de una lista en python pero todavía es string\n",
    "type(lista_paises)"
   ]
  },
  {
   "cell_type": "code",
   "execution_count": 3,
   "metadata": {},
   "outputs": [
    {
     "data": {
      "text/plain": [
       "['Costa Rica', 'Panama']"
      ]
     },
     "execution_count": 3,
     "metadata": {},
     "output_type": "execute_result"
    }
   ],
   "source": [
    "lista_paises = eval(lista_paises)\n",
    "lista_paises"
   ]
  },
  {
   "cell_type": "code",
   "execution_count": 6,
   "metadata": {},
   "outputs": [
    {
     "name": "stdout",
     "output_type": "stream",
     "text": [
      "<class 'int'>\n"
     ]
    }
   ],
   "source": [
    "#type(lista_paises)\n",
    "suma = \"2+2\"\n",
    "resultado = eval(suma)\n",
    "print(type(resultado))\n"
   ]
  },
  {
   "cell_type": "markdown",
   "metadata": {},
   "source": [
    "Todos los resultados de un input se pueden utilizar para realizar operaciones sobre los resultados, incluyento control flows y loops"
   ]
  },
  {
   "cell_type": "code",
   "execution_count": 36,
   "metadata": {},
   "outputs": [
    {
     "name": "stdout",
     "output_type": "stream",
     "text": [
      "Deme un numero del 1 al 103\n",
      "Excelente! vas poder escoger 3 invitados para agregar a tu lista\n",
      "Cual seria el invitado #1Andres\n",
      "Excelente! vas poder escoger 3 invitados para agregar a tu lista\n",
      "Cual seria el invitado #2Juan\n",
      "Excelente! vas poder escoger 3 invitados para agregar a tu lista\n",
      "Cual seria el invitado #3Pedro\n",
      "Esta es tu lista de invitados ['Andres', 'Juan', 'Pedro']\n"
     ]
    }
   ],
   "source": [
    "nombres = []\n",
    "num_invitados = int(input(\"Deme un numero del 1 al 10\"))\n",
    "for i in range(num_invitados):\n",
    "    print(\"Excelente! vas poder escoger {} invitados para agregar a tu lista\".format(num_invitados))\n",
    "    nombre = input(\"Cual seria el invitado #{num}\".format(num = i+1))\n",
    "    nombres.append(nombre)\n",
    "print(\"Esta es tu lista de invitados %s\"%(nombres))"
   ]
  },
  {
   "cell_type": "code",
   "execution_count": null,
   "metadata": {},
   "outputs": [],
   "source": []
  }
 ],
 "metadata": {
  "kernelspec": {
   "display_name": "Python 3",
   "language": "python",
   "name": "python3"
  },
  "language_info": {
   "codemirror_mode": {
    "name": "ipython",
    "version": 3
   },
   "file_extension": ".py",
   "mimetype": "text/x-python",
   "name": "python",
   "nbconvert_exporter": "python",
   "pygments_lexer": "ipython3",
   "version": "3.7.0"
  }
 },
 "nbformat": 4,
 "nbformat_minor": 2
}
