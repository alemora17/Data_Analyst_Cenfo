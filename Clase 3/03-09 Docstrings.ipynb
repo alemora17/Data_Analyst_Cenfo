{
 "cells": [
  {
   "cell_type": "markdown",
   "metadata": {},
   "source": [
    "# Docstrings\n",
    "Los docstrings son los que me van a ayudar a documentar mis funciones para que las demás personas puedan utilizarlas y entender qué hacen y cómo funcionan"
   ]
  },
  {
   "cell_type": "code",
   "execution_count": 6,
   "metadata": {},
   "outputs": [],
   "source": [
    "def printNombres(nombre,apellido,inverso):\n",
    "    \"\"\"\n",
    "    input: \n",
    "        nombre: str (Nombre de la persona)\n",
    "        apellido: str (Apellido de la persona)\n",
    "        inverso: bool (Orden en que se quieren imprimir los nombres)\n",
    "    \n",
    "    retorna un string inverso si inverso es True y al derecho si inverso es False\n",
    "    \n",
    "    \"\"\"\n",
    "    if inverso:\n",
    "        print(apellido, ',' ,nombre)\n",
    "    else:\n",
    "        print(nombre,apellido)"
   ]
  },
  {
   "cell_type": "code",
   "execution_count": 5,
   "metadata": {},
   "outputs": [
    {
     "name": "stdout",
     "output_type": "stream",
     "text": [
      "Help on function printNombres in module __main__:\n",
      "\n",
      "printNombres(nombre, apellido, inverso)\n",
      "    input: \n",
      "        nombre: str\n",
      "        apellido: str\n",
      "        inverso: bool\n",
      "    \n",
      "    retorna un string invers si inverso es True y al derecho si inverso es False\n",
      "\n"
     ]
    }
   ],
   "source": [
    "#Si utilizo la función help, me va a dar información de una función y lo que devuelve es el docstring\n",
    "help(printNombres)"
   ]
  },
  {
   "cell_type": "code",
   "execution_count": 9,
   "metadata": {},
   "outputs": [
    {
     "name": "stdout",
     "output_type": "stream",
     "text": [
      "Help on class enumerate in module builtins:\n",
      "\n",
      "class enumerate(object)\n",
      " |  enumerate(iterable[, start]) -> iterator for index, value of iterable\n",
      " |  \n",
      " |  Return an enumerate object.  iterable must be another object that supports\n",
      " |  iteration.  The enumerate object yields pairs containing a count (from\n",
      " |  start, which defaults to zero) and a value yielded by the iterable argument.\n",
      " |  enumerate is useful for obtaining an indexed list:\n",
      " |      (0, seq[0]), (1, seq[1]), (2, seq[2]), ...\n",
      " |  \n",
      " |  Methods defined here:\n",
      " |  \n",
      " |  __getattribute__(self, name, /)\n",
      " |      Return getattr(self, name).\n",
      " |  \n",
      " |  __iter__(self, /)\n",
      " |      Implement iter(self).\n",
      " |  \n",
      " |  __new__(*args, **kwargs) from builtins.type\n",
      " |      Create and return a new object.  See help(type) for accurate signature.\n",
      " |  \n",
      " |  __next__(self, /)\n",
      " |      Implement next(self).\n",
      " |  \n",
      " |  __reduce__(...)\n",
      " |      Return state information for pickling.\n",
      "\n"
     ]
    }
   ],
   "source": [
    "#Ejemplo de una función de Python:\n",
    "help(enumerate)"
   ]
  },
  {
   "cell_type": "code",
   "execution_count": null,
   "metadata": {},
   "outputs": [],
   "source": []
  },
  {
   "cell_type": "code",
   "execution_count": null,
   "metadata": {},
   "outputs": [],
   "source": []
  }
 ],
 "metadata": {
  "kernelspec": {
   "display_name": "Python 3",
   "language": "python",
   "name": "python3"
  },
  "language_info": {
   "codemirror_mode": {
    "name": "ipython",
    "version": 3
   },
   "file_extension": ".py",
   "mimetype": "text/x-python",
   "name": "python",
   "nbconvert_exporter": "python",
   "pygments_lexer": "ipython3",
   "version": "3.6.3"
  }
 },
 "nbformat": 4,
 "nbformat_minor": 2
}
