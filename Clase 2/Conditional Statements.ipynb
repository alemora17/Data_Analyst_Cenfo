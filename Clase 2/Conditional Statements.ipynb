{
 "cells": [
  {
   "cell_type": "code",
   "execution_count": 9,
   "metadata": {},
   "outputs": [
    {
     "name": "stdout",
     "output_type": "stream",
     "text": [
      "x es un numero postivo\n"
     ]
    }
   ],
   "source": [
    "x = 9\n",
    "if x > 0:\n",
    "    print 'x es un numero postivo'\n",
    "else:\n",
    "    print 'x es un numero negativo'"
   ]
  },
  {
   "cell_type": "code",
   "execution_count": 11,
   "metadata": {},
   "outputs": [
    {
     "name": "stdout",
     "output_type": "stream",
     "text": [
      "x es un numero negativo\n"
     ]
    }
   ],
   "source": [
    "x = 0\n",
    "if x > 0:\n",
    "    print 'x es un numero postivo'\n",
    "else:\n",
    "    print 'x es un numero negativo'"
   ]
  },
  {
   "cell_type": "code",
   "execution_count": 13,
   "metadata": {},
   "outputs": [
    {
     "name": "stdout",
     "output_type": "stream",
     "text": [
      "x es cero\n"
     ]
    }
   ],
   "source": [
    "x = 0\n",
    "if x > 0:\n",
    "    print 'x es un numero postivo'\n",
    "elif x < 0:\n",
    "    print 'x es un numero negativo'\n",
    "else:\n",
    "    print 'x es cero'"
   ]
  },
  {
   "cell_type": "code",
   "execution_count": 35,
   "metadata": {},
   "outputs": [
    {
     "name": "stdout",
     "output_type": "stream",
     "text": [
      "x es un numero negativo e inpar\n"
     ]
    }
   ],
   "source": [
    "x = -3\n",
    "if x > 0:\n",
    "    if x % 2 == 0:\n",
    "        print 'x es un numero positivo'\n",
    "    elif x % 2 != 0:\n",
    "        print 'x es un numero positvio e inpar'\n",
    "elif x < 0:\n",
    "    if x % 2 == 0:\n",
    "        print 'x es un numero negativo y par'\n",
    "    if x % 2 != 0:\n",
    "        print 'x es un numero negativo e inpar'\n",
    "else:\n",
    "    print 'x es cero'"
   ]
  },
  {
   "cell_type": "code",
   "execution_count": 37,
   "metadata": {},
   "outputs": [
    {
     "name": "stdout",
     "output_type": "stream",
     "text": [
      "x es un numero negativo e inpar\n"
     ]
    }
   ],
   "source": [
    "x = -3\n",
    "if x > 0:\n",
    "    print 'x es un numero positivo y par' if x % 2 == 0 else 'x es un numero positvio e inpar'\n",
    "elif x < 0:\n",
    "    print 'x es un numero negativo y par' if x % 2 == 0 else 'x es un numero negativo e inpar'\n",
    "else:\n",
    "    print 'x es cero'"
   ]
  },
  {
   "cell_type": "code",
   "execution_count": null,
   "metadata": {
    "collapsed": true
   },
   "outputs": [],
   "source": [
    "dic = {0: x + x}"
   ]
  }
 ],
 "metadata": {
  "kernelspec": {
   "display_name": "Python 3",
   "language": "python",
   "name": "python3"
  },
  "language_info": {
   "codemirror_mode": {
    "name": "ipython",
    "version": 3
   },
   "file_extension": ".py",
   "mimetype": "text/x-python",
   "name": "python",
   "nbconvert_exporter": "python",
   "pygments_lexer": "ipython3",
   "version": "3.7.0"
  }
 },
 "nbformat": 4,
 "nbformat_minor": 2
}
