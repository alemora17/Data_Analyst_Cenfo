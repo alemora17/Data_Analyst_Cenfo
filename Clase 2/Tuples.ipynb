{
 "cells": [
  {
   "cell_type": "markdown",
   "metadata": {},
   "source": [
    "# Tuples\n",
    "\n",
    "* son iguales a las `listas`\n",
    "* se utilizan ( ) en vez de [ ]\n",
    "* son tipo de data no mutable\n",
    "* son más rápidos que las `listas`"
   ]
  },
  {
   "cell_type": "code",
   "execution_count": 1,
   "metadata": {},
   "outputs": [
    {
     "name": "stdout",
     "output_type": "stream",
     "text": [
      "tuple\n",
      "0.0260498523712\n",
      "lista\n",
      "0.150329113007\n"
     ]
    }
   ],
   "source": [
    "import timeit \n",
    "print \"tuple\"\n",
    "print(timeit.timeit('x=(1,2,3,4,5,6,7,8,9,10,11,12)', number=1000000))\n",
    "print \"lista\"\n",
    "print(timeit.timeit('x=[1,2,3,4,5,6,7,8,9,10,11,12]', number=1000000))"
   ]
  },
  {
   "cell_type": "markdown",
   "metadata": {},
   "source": [
    "* pueden ir vacios\n",
    "* cuando son de un solo valor, utilizar ',' al final\n",
    "* el ( ) puede ser opcional\n",
    "* pueden ser de cualquier tipo de data\n",
    "* pueden ser de tipo de data combinado"
   ]
  },
  {
   "cell_type": "code",
   "execution_count": 2,
   "metadata": {},
   "outputs": [
    {
     "name": "stdout",
     "output_type": "stream",
     "text": [
      "()\n"
     ]
    }
   ],
   "source": [
    "tup = ()\n",
    "print tup"
   ]
  },
  {
   "cell_type": "code",
   "execution_count": 3,
   "metadata": {},
   "outputs": [
    {
     "name": "stdout",
     "output_type": "stream",
     "text": [
      "()\n"
     ]
    }
   ],
   "source": [
    "tup = tuple()\n",
    "print tup"
   ]
  },
  {
   "cell_type": "code",
   "execution_count": 6,
   "metadata": {},
   "outputs": [
    {
     "name": "stdout",
     "output_type": "stream",
     "text": [
      "(1,)\n"
     ]
    }
   ],
   "source": [
    "tup = (1,)\n",
    "print tup"
   ]
  },
  {
   "cell_type": "code",
   "execution_count": 7,
   "metadata": {
    "scrolled": true
   },
   "outputs": [
    {
     "name": "stdout",
     "output_type": "stream",
     "text": [
      "('Hola', 25, 'C')\n"
     ]
    }
   ],
   "source": [
    "tup = \"Hola\",25,\"C\"\n",
    "print tup"
   ]
  },
  {
   "cell_type": "markdown",
   "metadata": {},
   "source": [
    "Los `tuples`, al igual que las `listas`, usan indices para accesar sus elementos:\n",
    "\n",
    "\n",
    "| tup =  |  [a,  |  b, | c,  |  b, | a] |\n",
    "|---|---|---|---|---|---|\n",
    "| index  | 0  |  1 |  2 |  3 |  4 |\n",
    "|  negative index |  -5| -4  | -3  |  -2 |  -1 |"
   ]
  },
  {
   "cell_type": "code",
   "execution_count": 8,
   "metadata": {},
   "outputs": [
    {
     "name": "stdout",
     "output_type": "stream",
     "text": [
      "a\n"
     ]
    }
   ],
   "source": [
    "tup = ('a','b','c','b','a')\n",
    "print tup[0]"
   ]
  },
  {
   "cell_type": "code",
   "execution_count": 9,
   "metadata": {},
   "outputs": [
    {
     "name": "stdout",
     "output_type": "stream",
     "text": [
      "a\n"
     ]
    }
   ],
   "source": [
    "print tup[-5]"
   ]
  },
  {
   "cell_type": "code",
   "execution_count": 10,
   "metadata": {},
   "outputs": [
    {
     "name": "stdout",
     "output_type": "stream",
     "text": [
      "('a', 'b', 'c', 'b')\n"
     ]
    }
   ],
   "source": [
    "print tup[0:4]"
   ]
  },
  {
   "cell_type": "code",
   "execution_count": 11,
   "metadata": {},
   "outputs": [
    {
     "name": "stdout",
     "output_type": "stream",
     "text": [
      "('a', 'b', 'c')\n"
     ]
    }
   ],
   "source": [
    "print tup[-5:-2]"
   ]
  },
  {
   "cell_type": "markdown",
   "metadata": {},
   "source": [
    "Cuando cortamos un `tuple` de la manera lista[x:y] :\n",
    "\n",
    "* x indica el indice donde se empieza, es **inclusivo**\n",
    "* y indica el indice donde se termina, es **exclusivo**\n",
    "\n",
    "* se puede utilizar con los indices positivos tanto como los negativos, pero recordar que siempre se lee de izquierda a derecha"
   ]
  },
  {
   "cell_type": "code",
   "execution_count": 12,
   "metadata": {},
   "outputs": [
    {
     "name": "stdout",
     "output_type": "stream",
     "text": [
      "('a', 'b', 'c')\n"
     ]
    }
   ],
   "source": [
    "print tup[:-2]"
   ]
  },
  {
   "cell_type": "code",
   "execution_count": 13,
   "metadata": {},
   "outputs": [
    {
     "name": "stdout",
     "output_type": "stream",
     "text": [
      "('c', 'b', 'a')\n"
     ]
    }
   ],
   "source": [
    "print tup[2:]"
   ]
  },
  {
   "cell_type": "markdown",
   "metadata": {},
   "source": [
    "Cuando cortamos una lista:\n",
    "de manera lista[:y], se corta desde el principio hasta y, excluyendo y\n",
    "de manera lista[x:], se corta desde x hasta el final, incluyendo x"
   ]
  },
  {
   "cell_type": "markdown",
   "metadata": {},
   "source": [
    "## Funciones\n",
    "\n",
    "* tuple.index(elemento)\n",
    "* tuple.count(elemento)\n",
    "* tuple += otro tuple \\*"
   ]
  },
  {
   "cell_type": "code",
   "execution_count": 23,
   "metadata": {},
   "outputs": [
    {
     "name": "stdout",
     "output_type": "stream",
     "text": [
      "1\n"
     ]
    }
   ],
   "source": [
    "tup = ('hola','adios','python')\n",
    "print tup.count('python')"
   ]
  },
  {
   "cell_type": "code",
   "execution_count": 25,
   "metadata": {},
   "outputs": [
    {
     "name": "stdout",
     "output_type": "stream",
     "text": [
      "(1, 2, 3, 4, 5, 6)\n"
     ]
    }
   ],
   "source": [
    "tup = (1,2,3)\n",
    "tup1 = (4,5,6)\n",
    "tup += tup1\n",
    "print tup"
   ]
  },
  {
   "cell_type": "code",
   "execution_count": null,
   "metadata": {
    "collapsed": true
   },
   "outputs": [],
   "source": [
    "l"
   ]
  }
 ],
 "metadata": {
  "kernelspec": {
   "display_name": "Python 3",
   "language": "python",
   "name": "python3"
  },
  "language_info": {
   "codemirror_mode": {
    "name": "ipython",
    "version": 3
   },
   "file_extension": ".py",
   "mimetype": "text/x-python",
   "name": "python",
   "nbconvert_exporter": "python",
   "pygments_lexer": "ipython3",
   "version": "3.7.0"
  }
 },
 "nbformat": 4,
 "nbformat_minor": 2
}
