{
 "cells": [
  {
   "cell_type": "markdown",
   "metadata": {},
   "source": [
    "# Archivos\n",
    "\n",
    "Para abrir un archivo que no se encuentra en el mismo directorio se utiliza la siguiente función:\n",
    "\n",
    "`archivo = open(r'C:\\Users\\mike\\python101\\L2\\test.txt')`\n",
    "\n",
    "Se utiliza una \"r\" delante del `file path` para indicar que es un `raw string`. Esto es porque el archivo que estamos abriendo empieza con una \"t\". Si no indicamos que es un `raw string`, Python lee esa \"t\" como un tab, ya que el tab se representa con un \"\\\" adelante."
   ]
  },
  {
   "cell_type": "markdown",
   "metadata": {},
   "source": [
    "Para los siguientes ejercicios vamos a manipular un archivo que se encuentra en el mismo directorio.\n",
    "\n",
    "Para abrir archivos que se encuentran en el mismo directorio se utiliza la siguiente función:"
   ]
  },
  {
   "cell_type": "code",
   "execution_count": 2,
   "metadata": {},
   "outputs": [
    {
     "ename": "FileNotFoundError",
     "evalue": "[Errno 2] No such file or directory: 'test.txt'",
     "output_type": "error",
     "traceback": [
      "\u001b[1;31m---------------------------------------------------------------------------\u001b[0m",
      "\u001b[1;31mFileNotFoundError\u001b[0m                         Traceback (most recent call last)",
      "\u001b[1;32m<ipython-input-2-71e2b732b35a>\u001b[0m in \u001b[0;36m<module>\u001b[1;34m()\u001b[0m\n\u001b[1;32m----> 1\u001b[1;33m \u001b[0marchivo\u001b[0m \u001b[1;33m=\u001b[0m \u001b[0mopen\u001b[0m\u001b[1;33m(\u001b[0m\u001b[1;34m'test.txt'\u001b[0m\u001b[1;33m)\u001b[0m\u001b[1;33m\u001b[0m\u001b[0m\n\u001b[0m\u001b[0;32m      2\u001b[0m \u001b[0mprint\u001b[0m \u001b[1;33m(\u001b[0m\u001b[0marchivo\u001b[0m\u001b[1;33m)\u001b[0m\u001b[1;33m\u001b[0m\u001b[0m\n\u001b[0;32m      3\u001b[0m \u001b[0marchivo\u001b[0m\u001b[1;33m.\u001b[0m\u001b[0mclose\u001b[0m\u001b[1;33m(\u001b[0m\u001b[1;33m)\u001b[0m\u001b[1;33m\u001b[0m\u001b[0m\n",
      "\u001b[1;31mFileNotFoundError\u001b[0m: [Errno 2] No such file or directory: 'test.txt'"
     ]
    }
   ],
   "source": [
    "archivo = open('test.txt')\n",
    "print (archivo)\n",
    "archivo.close()"
   ]
  },
  {
   "cell_type": "markdown",
   "metadata": {},
   "source": [
    "Para leer información dentro de un archivo existen tres funciones:\n",
    "\n",
    "* read() --> devuelve todo el texto en formato de `string`\n",
    "* readline() --> devuelve una linea en formato de `string`\n",
    "* readlines() --> devuelve una lista donde cada elemento es una linea en formato de `string`"
   ]
  },
  {
   "cell_type": "code",
   "execution_count": null,
   "metadata": {},
   "outputs": [],
   "source": [
    "archivo = open('test.txt')\n",
    "data = archivo.read()\n",
    "print data\n",
    "archivo.close()"
   ]
  },
  {
   "cell_type": "code",
   "execution_count": null,
   "metadata": {},
   "outputs": [],
   "source": [
    "archivo = open('test.txt')\n",
    "data = archivo.readline()\n",
    "print data"
   ]
  },
  {
   "cell_type": "markdown",
   "metadata": {},
   "source": [
    "Los archivos se leen character por character con un `pointer` que va de principio a fin, dependiendo de el metodo de lectura que se utilice.\n",
    "\n",
    "* read() llega hasta el final del archivo\n",
    "* readline() llega hasta el principio de la siguiente linea\n",
    "* readlines() llega hasta el final del archivo"
   ]
  },
  {
   "cell_type": "code",
   "execution_count": null,
   "metadata": {},
   "outputs": [],
   "source": [
    "archivo.close()\n",
    "archivo = open('test.txt')\n",
    "data = archivo.readline()\n",
    "print data"
   ]
  },
  {
   "cell_type": "code",
   "execution_count": null,
   "metadata": {},
   "outputs": [],
   "source": [
    "data = archivo.readlines()\n",
    "print data"
   ]
  },
  {
   "cell_type": "code",
   "execution_count": null,
   "metadata": {},
   "outputs": [],
   "source": [
    "archivo.write('prueba')"
   ]
  },
  {
   "cell_type": "markdown",
   "metadata": {},
   "source": [
    "Cuando abrimos el archivo solamente indicamos el nombre del archivo que queriamos abrir. Por default, Python siempre habre los archivos con el permiso \"r\" que es solamente para leer información.\n",
    "\n",
    "| |  |\n",
    "|---|---|\n",
    "| r  | read only  |\n",
    "|  r+ | read & write |\n",
    "|  w | write only, si no existe lo crea, si existe overwrites |\n",
    "|  w+ | read & write, si no existe lo crea, si existe overwrites |\n",
    "|  a | append only, si no existe lo crea |\n",
    "|  a+ | append & read, si no existe lo crea |"
   ]
  },
  {
   "cell_type": "code",
   "execution_count": null,
   "metadata": {
    "collapsed": true
   },
   "outputs": [],
   "source": [
    "archivo.close()"
   ]
  },
  {
   "cell_type": "code",
   "execution_count": null,
   "metadata": {},
   "outputs": [],
   "source": [
    "archivo = open('test.txt','a+')\n",
    "archivo.seek(0)\n",
    "data = archivo.read()\n",
    "print data\n",
    "archivo.close()"
   ]
  },
  {
   "cell_type": "markdown",
   "metadata": {},
   "source": [
    "Como se menciono anterior mente, Python lee archivos utilizando un `pointer`. Existen dos funciones para manipular este `pointer`:\n",
    "\n",
    "* `file.tell()` nos dice donde esta el pointer\n",
    "* `file.seek(index)` mueve el pointer a index\n",
    "\n",
    "|||||||||||||||||||\n",
    "|-|-|-|-|-|-|-|-|-|-|-|-|-|-|-|-|-|-|\n",
    "|E|s|t|a| |e|s| |l|a| |l|i|n|e|a| |1|\n",
    "|1|2|3|4|5|6|7|8|9|10|11|12|13|14|15|16|17|18|\n",
    "|E|s|t|a| |e|s| |l|a| |l|i|n|e|a| |2|\n",
    "|20|21|22|23|24|25|26|27|28|29|30|31|32|33|34|35|36|37|\n"
   ]
  },
  {
   "cell_type": "code",
   "execution_count": null,
   "metadata": {},
   "outputs": [],
   "source": [
    "archivo = open('test.txt')\n",
    "print archivo.tell()\n",
    "archivo.readline()\n",
    "print archivo.tell()\n",
    "archivo.seek(8)\n",
    "print archivo.tell()"
   ]
  },
  {
   "cell_type": "code",
   "execution_count": null,
   "metadata": {},
   "outputs": [],
   "source": [
    "print archivo.readline()\n",
    "archivo.close()"
   ]
  },
  {
   "cell_type": "markdown",
   "metadata": {},
   "source": [
    "En los ejercicios anteriores se puede ver como el `pointer` indica el indice anterior al character que se va a leer."
   ]
  }
 ],
 "metadata": {
  "kernelspec": {
   "display_name": "Python 3",
   "language": "python",
   "name": "python3"
  },
  "language_info": {
   "codemirror_mode": {
    "name": "ipython",
    "version": 3
   },
   "file_extension": ".py",
   "mimetype": "text/x-python",
   "name": "python",
   "nbconvert_exporter": "python",
   "pygments_lexer": "ipython3",
   "version": "3.7.0"
  }
 },
 "nbformat": 4,
 "nbformat_minor": 2
}
