{
 "cells": [
  {
   "cell_type": "markdown",
   "metadata": {},
   "source": [
    "# Ejercicio 3: Sentencias Condicionales y Loops\n",
    "Crear un programa que revise si un código ISBN-10 es valido o no. Un códifo ISBN-10 consiste de 10 characteres donde todos son digitos del 0-9, a excepción del último que puede ser un digito o la letra X (que equivale al numero 10). La formula para chequear si es un código valido es la siguiente:\n",
    "\n",
    "(x1 + x2 + x3 + x4 + x5 + x6 + x7 + x8 + x9 + x10) % 11 == 0\n",
    "\n",
    "donde x representa el digito cuando se itera sobre el ISBN-10 de izquierda a derecha."
   ]
  },
  {
   "cell_type": "code",
   "execution_count": 69,
   "metadata": {},
   "outputs": [
    {
     "name": "stdout",
     "output_type": "stream",
     "text": [
      "Digite un codigo ISBN-10123456789X\n",
      "Valid ISBN-10\n"
     ]
    }
   ],
   "source": [
    "isbn= input(\"Digite un codigo ISBN-10\")\n",
    "final_number = 0\n",
    "\n",
    "for i in isbn:\n",
    "    if str.isdigit(i):\n",
    "        final_number+=int(i)\n",
    "    elif isbn[9].upper() == \"X\":\n",
    "        final_number += 10\n",
    "    else:\n",
    "        print(\"Invalid digit, please try again\")\n",
    "        continue \n",
    "\n",
    "if final_number % 11 == 0:\n",
    "    print(\"Valid ISBN-10\")\n",
    "else:\n",
    "    print(\"Invalid ISBN-10\")\n",
    "    \n"
   ]
  },
  {
   "cell_type": "code",
   "execution_count": 50,
   "metadata": {},
   "outputs": [
    {
     "data": {
      "text/plain": [
       "45"
      ]
     },
     "execution_count": 50,
     "metadata": {},
     "output_type": "execute_result"
    }
   ],
   "source": [
    "final_number % 11\n"
   ]
  },
  {
   "cell_type": "code",
   "execution_count": null,
   "metadata": {},
   "outputs": [],
   "source": []
  },
  {
   "cell_type": "code",
   "execution_count": null,
   "metadata": {},
   "outputs": [],
   "source": []
  },
  {
   "cell_type": "code",
   "execution_count": null,
   "metadata": {},
   "outputs": [],
   "source": []
  },
  {
   "cell_type": "code",
   "execution_count": null,
   "metadata": {},
   "outputs": [],
   "source": []
  },
  {
   "cell_type": "code",
   "execution_count": null,
   "metadata": {},
   "outputs": [],
   "source": []
  },
  {
   "cell_type": "code",
   "execution_count": null,
   "metadata": {},
   "outputs": [],
   "source": []
  },
  {
   "cell_type": "code",
   "execution_count": null,
   "metadata": {},
   "outputs": [],
   "source": []
  },
  {
   "cell_type": "code",
   "execution_count": null,
   "metadata": {},
   "outputs": [],
   "source": []
  },
  {
   "cell_type": "code",
   "execution_count": null,
   "metadata": {},
   "outputs": [],
   "source": []
  }
 ],
 "metadata": {
  "kernelspec": {
   "display_name": "Python 3",
   "language": "python",
   "name": "python3"
  },
  "language_info": {
   "codemirror_mode": {
    "name": "ipython",
    "version": 3
   },
   "file_extension": ".py",
   "mimetype": "text/x-python",
   "name": "python",
   "nbconvert_exporter": "python",
   "pygments_lexer": "ipython3",
   "version": "3.7.0"
  }
 },
 "nbformat": 4,
 "nbformat_minor": 2
}
