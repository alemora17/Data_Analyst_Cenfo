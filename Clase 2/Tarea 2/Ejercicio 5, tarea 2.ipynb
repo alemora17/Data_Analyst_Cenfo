{
 "cells": [
  {
   "cell_type": "markdown",
   "metadata": {},
   "source": [
    "## Ejercicio 5: Loops\n",
    "\n",
    "Escribir un programa que imprima lo siguiente:\n",
    "\n",
    "\\*\n",
    "\n",
    "\\*\\*\n",
    "\n",
    "\\*\\*\\*\n",
    "\n",
    "\\*\\*\\*\\*\n",
    "\n",
    "\\*\\*\\*\\*\\*\n",
    "\n",
    "\\*\\*\\*\\*\n",
    "\n",
    "\\*\\*\\*\n",
    "\n",
    "\\*\\*\n",
    "\n",
    "\\*\n",
    "\n",
    "* Hint: Utilizar nested loops, no hacen falta sentencias condicionales."
   ]
  },
  {
   "cell_type": "code",
   "execution_count": 19,
   "metadata": {},
   "outputs": [
    {
     "name": "stdout",
     "output_type": "stream",
     "text": [
      "\n",
      "*\n",
      "**\n",
      "***\n",
      "****\n",
      "*****\n",
      "****\n",
      "***\n",
      "**\n",
      "*\n"
     ]
    }
   ],
   "source": [
    "valor = 0\n",
    "digito = \"*\"\n",
    "largo = 5\n",
    "\n",
    "while valor < largo:\n",
    "    print (digito*valor)\n",
    "    valor += 1\n",
    "    \n",
    "    \n",
    "valor = largo    \n",
    "\n",
    "while valor >= 1:\n",
    "    print(digito*valor)\n",
    "    valor -=1\n",
    "    \n",
    "\n"
   ]
  },
  {
   "cell_type": "code",
   "execution_count": null,
   "metadata": {},
   "outputs": [],
   "source": []
  },
  {
   "cell_type": "code",
   "execution_count": null,
   "metadata": {},
   "outputs": [],
   "source": []
  },
  {
   "cell_type": "code",
   "execution_count": null,
   "metadata": {},
   "outputs": [],
   "source": []
  },
  {
   "cell_type": "code",
   "execution_count": null,
   "metadata": {},
   "outputs": [],
   "source": []
  },
  {
   "cell_type": "code",
   "execution_count": null,
   "metadata": {},
   "outputs": [],
   "source": []
  }
 ],
 "metadata": {
  "kernelspec": {
   "display_name": "Python 3",
   "language": "python",
   "name": "python3"
  },
  "language_info": {
   "codemirror_mode": {
    "name": "ipython",
    "version": 3
   },
   "file_extension": ".py",
   "mimetype": "text/x-python",
   "name": "python",
   "nbconvert_exporter": "python",
   "pygments_lexer": "ipython3",
   "version": "3.7.0"
  }
 },
 "nbformat": 4,
 "nbformat_minor": 2
}
