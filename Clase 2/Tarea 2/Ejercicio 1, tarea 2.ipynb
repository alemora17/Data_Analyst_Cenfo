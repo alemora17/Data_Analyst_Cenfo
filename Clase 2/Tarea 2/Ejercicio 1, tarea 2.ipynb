{
 "cells": [
  {
   "cell_type": "code",
   "execution_count": 1,
   "metadata": {},
   "outputs": [],
   "source": [
    "# abrir el archivo"
   ]
  },
  {
   "cell_type": "code",
   "execution_count": 1,
   "metadata": {},
   "outputs": [],
   "source": [
    "path = \"tarea2.txt\""
   ]
  },
  {
   "cell_type": "code",
   "execution_count": 3,
   "metadata": {},
   "outputs": [
    {
     "name": "stdout",
     "output_type": "stream",
     "text": [
      "['juan: 78 90 88 54 94\\n', 'luis: 56 77 91 100 84\\n', 'ana: 89 91 93 86 89\\n', 'sofia: 78 69 85 90 83\\n', 'julio: 88 93 77 78 81']\n"
     ]
    }
   ],
   "source": [
    "with open(path, \"r\") as file: # with: para manipular elementos de forma eficiente.\n",
    "    students = file.readlines()\n",
    "file.close()\n",
    "print(students)"
   ]
  },
  {
   "cell_type": "code",
   "execution_count": 5,
   "metadata": {},
   "outputs": [],
   "source": [
    "#limpiar las lineas para quitar el salto\n",
    "# lo meti en una lista\n",
    "\n",
    "students_and_grades = [i.replace(\"\\n\", \"\").split(\",\") for i in students]"
   ]
  },
  {
   "cell_type": "code",
   "execution_count": 8,
   "metadata": {},
   "outputs": [
    {
     "name": "stdout",
     "output_type": "stream",
     "text": [
      "[['juan: 78 90 88 54 94'], ['luis: 56 77 91 100 84'], ['ana: 89 91 93 86 89'], ['sofia: 78 69 85 90 83'], ['julio: 88 93 77 78 81']]\n"
     ]
    }
   ],
   "source": [
    "# asi se imprime la lista de listas\n",
    "print(students_and_grades)"
   ]
  },
  {
   "cell_type": "code",
   "execution_count": 9,
   "metadata": {},
   "outputs": [
    {
     "name": "stdout",
     "output_type": "stream",
     "text": [
      "['juan: 78 90 88 54 94']\n",
      "['luis: 56 77 91 100 84']\n",
      "['ana: 89 91 93 86 89']\n",
      "['sofia: 78 69 85 90 83']\n",
      "['julio: 88 93 77 78 81']\n"
     ]
    }
   ],
   "source": [
    "# este codigo solo para imprimir, no tiene relevancia. \n",
    "# para manipular una linea a la vez, imprime todo por linea\n",
    "for line in students_and_grades:\n",
    "        print(line)\n",
    "    "
   ]
  },
  {
   "cell_type": "code",
   "execution_count": 10,
   "metadata": {},
   "outputs": [
    {
     "name": "stdout",
     "output_type": "stream",
     "text": [
      "juan: 78 90 88 54 94\n",
      "luis: 56 77 91 100 84\n",
      "ana: 89 91 93 86 89\n",
      "sofia: 78 69 85 90 83\n",
      "julio: 88 93 77 78 81\n"
     ]
    }
   ],
   "source": [
    "# codigo para imprimir, no tiene relevacia.\n",
    "# para convertir todas las lineas en string\n",
    "# la posicion 0 de cada linea tiene un solo string que \n",
    "# es todo el estudiante con su nota\n",
    "for line in students_and_grades:\n",
    "        print(line[0])"
   ]
  },
  {
   "cell_type": "code",
   "execution_count": 13,
   "metadata": {},
   "outputs": [
    {
     "name": "stdout",
     "output_type": "stream",
     "text": [
      "juan : 80.8 \n",
      "luis : 81.6 \n",
      "ana : 89.6 \n",
      "sofia : 81.0 \n",
      "julio : 83.4 \n",
      "\n"
     ]
    }
   ],
   "source": [
    "# un for que recorre cada lista y toma el valor en la posicion 0 por que \n",
    "# nobre: notas es un solo string\n",
    "# va a divirdir la lista entre nombbre y notas y lo va a meter en una variable\n",
    "\n",
    "new_path = \"students_and_grades.txt\"\n",
    "\n",
    "with open(new_path, \"w+\") as new_file:\n",
    "    for line in students_and_grades:\n",
    "        name = line[0].split(\":\")[0] # separa los nombres de las notas\n",
    "        all_grades = line[0].split(\":\")[1] # separa las notas de los nombres.\n",
    "        idv_grades = all_grades[1:].split(\" \")# separa las notas, pero empieza desde la posicion 1. \n",
    "                                              # posicion 0 es un \" \"\n",
    "        idv_grades = list(map(int, idv_grades))  #se mete en un list() porque el map devuelve un objeto\n",
    "        avg_grades = sum(idv_grades)/len(idv_grades) #en esta variable se va a guardar el promedio. \n",
    "        new_file.write(\"{} : {} \\n\".format(name, avg_grades))  # string formatting \n",
    "        \n",
    "    new_file.seek(0)\n",
    "    print(new_file.read())\n",
    "new_file.close()\n"
   ]
  },
  {
   "cell_type": "code",
   "execution_count": 14,
   "metadata": {},
   "outputs": [],
   "source": [
    "# map: aplicar una funcion a todos los datos de una lista."
   ]
  },
  {
   "cell_type": "markdown",
   "metadata": {},
   "source": [
    "## Ejercicio 2: Manipular Archivos\n",
    "\n",
    "Dentro de este mismo directorio se encuentra un archivo que se llama \"introduccion.txt\". Este archivo contiene tres lineas con frases donde faltan palabras para rellenar. La posicion donde deberían de rellenar las palabras estan marcadas con [ ]. \n",
    "\n",
    "Para este ejercicio deberán de leer el archivo, y escribir sobre el mismo archivo cada vez que pasen por un [ ] con una palabra que complete la frase.\n",
    "\n",
    "* utiliazar la metodologia de \"with\" para abrir el archivo"
   ]
  },
  {
   "cell_type": "code",
   "execution_count": 29,
   "metadata": {},
   "outputs": [],
   "source": [
    "path = \"introduccion.txt\""
   ]
  },
  {
   "cell_type": "code",
   "execution_count": 30,
   "metadata": {},
   "outputs": [
    {
     "name": "stdout",
     "output_type": "stream",
     "text": [
      "['Hola Mundo! Mi nombre es [] y tengo [] aÃ±os. \\n', 'Estoy llevando este curso para []. \\n', 'En la segunda clase aprendimos sobre [] y []. ']\n"
     ]
    }
   ],
   "source": [
    "with open(path, \"r\") as file: # with: para manipular elementos de forma eficiente.\n",
    "    introduccion = file.readlines()\n",
    "file.close()\n",
    "print(introduccion)"
   ]
  },
  {
   "cell_type": "code",
   "execution_count": 31,
   "metadata": {},
   "outputs": [],
   "source": [
    "file_introduccion = [i.replace(\"[]\", \"{}\") for i in introduccion]"
   ]
  },
  {
   "cell_type": "code",
   "execution_count": 32,
   "metadata": {},
   "outputs": [
    {
     "name": "stdout",
     "output_type": "stream",
     "text": [
      "['Hola Mundo! Mi nombre es {} y tengo {} aÃ±os. \\n', 'Estoy llevando este curso para {}. \\n', 'En la segunda clase aprendimos sobre {} y {}. ']\n"
     ]
    }
   ],
   "source": [
    "print(file_introduccion)"
   ]
  },
  {
   "cell_type": "code",
   "execution_count": 33,
   "metadata": {},
   "outputs": [],
   "source": [
    "nombre = \"Alejandra\"\n",
    "edad = 25\n",
    "objetivo = \"Aprender\"\n",
    "tema1 = \"Diccionarios\"\n",
    "tema2 = \"Leer Archivos\"\n"
   ]
  },
  {
   "cell_type": "code",
   "execution_count": 34,
   "metadata": {},
   "outputs": [
    {
     "name": "stdout",
     "output_type": "stream",
     "text": [
      "Hola Mundo! Mi nombre es Alejandra y tengo 25 aÃ±os. \n",
      "Estoy llevando este curso para Aprender. \n",
      "En la segunda clase aprendimos sobre Diccionarios y Leer Archivos. \n"
     ]
    }
   ],
   "source": [
    "with open(path, \"w+\") as file:\n",
    "    file.write(file_introduccion[0].format(nombre, edad))\n",
    "    file.write(file_introduccion[1].format(objetivo))\n",
    "    file.write(file_introduccion[2].format(tema1, tema2))\n",
    "    file.seek(0)\n",
    "    print(file.read())\n",
    "file.close()\n",
    "\n"
   ]
  },
  {
   "cell_type": "code",
   "execution_count": 28,
   "metadata": {},
   "outputs": [
    {
     "name": "stdout",
     "output_type": "stream",
     "text": [
      "<_io.TextIOWrapper name='introduccion.txt' mode='w+' encoding='cp1252'>\n"
     ]
    }
   ],
   "source": []
  },
  {
   "cell_type": "code",
   "execution_count": null,
   "metadata": {},
   "outputs": [],
   "source": []
  }
 ],
 "metadata": {
  "kernelspec": {
   "display_name": "Python 3",
   "language": "python",
   "name": "python3"
  },
  "language_info": {
   "codemirror_mode": {
    "name": "ipython",
    "version": 3
   },
   "file_extension": ".py",
   "mimetype": "text/x-python",
   "name": "python",
   "nbconvert_exporter": "python",
   "pygments_lexer": "ipython3",
   "version": "3.7.0"
  }
 },
 "nbformat": 4,
 "nbformat_minor": 2
}
