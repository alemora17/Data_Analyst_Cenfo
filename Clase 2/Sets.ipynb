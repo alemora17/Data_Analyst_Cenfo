{
 "cells": [
  {
   "cell_type": "markdown",
   "metadata": {},
   "source": [
    "# Sets\n",
    "\n",
    "* los elementos no se repiten\n",
    "* los elementos son inmutables\n",
    "* el set en si, sí es mutable\n",
    "* no hay indices"
   ]
  },
  {
   "cell_type": "code",
   "execution_count": 2,
   "metadata": {},
   "outputs": [
    {
     "name": "stdout",
     "output_type": "stream",
     "text": [
      "set([])\n"
     ]
    }
   ],
   "source": [
    "ejemplo = set()\n",
    "print ejemplo"
   ]
  },
  {
   "cell_type": "code",
   "execution_count": 3,
   "metadata": {},
   "outputs": [
    {
     "name": "stdout",
     "output_type": "stream",
     "text": [
      "set([])\n"
     ]
    }
   ],
   "source": [
    "ejemplo = set([])\n",
    "print ejemplo"
   ]
  },
  {
   "cell_type": "code",
   "execution_count": 4,
   "metadata": {},
   "outputs": [
    {
     "name": "stdout",
     "output_type": "stream",
     "text": [
      "set([1, 2, 3, 4])\n"
     ]
    }
   ],
   "source": [
    "ejemplo = set([1,2,3,4])\n",
    "print ejemplo"
   ]
  },
  {
   "cell_type": "code",
   "execution_count": 6,
   "metadata": {},
   "outputs": [
    {
     "name": "stdout",
     "output_type": "stream",
     "text": [
      "set([1, 2])\n"
     ]
    }
   ],
   "source": [
    "ejemplo = set([1,2,2,2,2])\n",
    "print ejemplo"
   ]
  },
  {
   "cell_type": "code",
   "execution_count": null,
   "metadata": {
    "collapsed": true
   },
   "outputs": [],
   "source": []
  },
  {
   "cell_type": "markdown",
   "metadata": {},
   "source": [
    "## Funciones\n",
    "\n",
    "* set.add(elemento)\n",
    "* set.discard(elemento) \\*\n",
    "* union --> x | y\n",
    "* intersección --> x & y\n",
    "* diferencia --> x - y, y - x\n",
    "* subset y super set --> x >= y, y <= x"
   ]
  },
  {
   "cell_type": "code",
   "execution_count": 10,
   "metadata": {},
   "outputs": [
    {
     "name": "stdout",
     "output_type": "stream",
     "text": [
      "set([1, 2, 3])\n",
      "set([1, 2, 3, 4])\n",
      "set([2, 3, 4])\n"
     ]
    }
   ],
   "source": [
    "s = set([1,2,3])\n",
    "print s\n",
    "s.add(4)\n",
    "print s\n",
    "s.discard(1)\n",
    "print s"
   ]
  },
  {
   "cell_type": "code",
   "execution_count": 15,
   "metadata": {},
   "outputs": [
    {
     "name": "stdout",
     "output_type": "stream",
     "text": [
      "set([1, 2, 3, 4, 5])\n",
      "set([3, 4, 5])\n"
     ]
    }
   ],
   "source": [
    "s = set([1,2,3])\n",
    "s1 = set([3,4,5])\n",
    "s = s | s1\n",
    "print s\n",
    "print s1"
   ]
  },
  {
   "cell_type": "code",
   "execution_count": 17,
   "metadata": {},
   "outputs": [
    {
     "name": "stdout",
     "output_type": "stream",
     "text": [
      "set([3])\n",
      "set([1, 2, 3])\n",
      "set([3, 4, 5])\n"
     ]
    }
   ],
   "source": [
    "s = set([1,2,3])\n",
    "s1 = set([3,4,5])\n",
    "print s & s1\n",
    "print s\n",
    "print s1"
   ]
  },
  {
   "cell_type": "code",
   "execution_count": 19,
   "metadata": {},
   "outputs": [
    {
     "name": "stdout",
     "output_type": "stream",
     "text": [
      "set([1, 2])\n",
      "set([4, 5])\n"
     ]
    }
   ],
   "source": [
    "s = set([1,2,3])\n",
    "s1 = set([3,4,5])\n",
    "print s - s1\n",
    "print s1 - s"
   ]
  },
  {
   "cell_type": "code",
   "execution_count": 20,
   "metadata": {},
   "outputs": [
    {
     "name": "stdout",
     "output_type": "stream",
     "text": [
      "False\n",
      "True\n"
     ]
    }
   ],
   "source": [
    "s = set([1,2,3])\n",
    "s1 = set([1,2,3,4,5])\n",
    "print s >= s1\n",
    "print s1 >= s"
   ]
  }
 ],
 "metadata": {
  "kernelspec": {
   "display_name": "Python 3",
   "language": "python",
   "name": "python3"
  },
  "language_info": {
   "codemirror_mode": {
    "name": "ipython",
    "version": 3
   },
   "file_extension": ".py",
   "mimetype": "text/x-python",
   "name": "python",
   "nbconvert_exporter": "python",
   "pygments_lexer": "ipython3",
   "version": "3.7.0"
  }
 },
 "nbformat": 4,
 "nbformat_minor": 2
}
