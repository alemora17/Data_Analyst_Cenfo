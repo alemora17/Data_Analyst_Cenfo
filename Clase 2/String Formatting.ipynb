{
 "cells": [
  {
   "cell_type": "markdown",
   "metadata": {},
   "source": [
    "# String Formatting"
   ]
  },
  {
   "cell_type": "code",
   "execution_count": 1,
   "metadata": {},
   "outputs": [
    {
     "name": "stdout",
     "output_type": "stream",
     "text": [
      "Hola, me llamo Camila\n"
     ]
    }
   ],
   "source": [
    "ejemplo = \"Hola, me llamo %s\" % \"Camila\"\n",
    "print ejemplo"
   ]
  },
  {
   "cell_type": "markdown",
   "metadata": {},
   "source": [
    "* s es para `strings`\n",
    "* i es para `integets`\n",
    "* f es para `floats`"
   ]
  },
  {
   "cell_type": "code",
   "execution_count": 2,
   "metadata": {},
   "outputs": [
    {
     "name": "stdout",
     "output_type": "stream",
     "text": [
      "Yo tengo 25 años\n"
     ]
    }
   ],
   "source": [
    "suma = \"Yo tengo %i años\" % 25\n",
    "print suma"
   ]
  },
  {
   "cell_type": "code",
   "execution_count": 3,
   "metadata": {},
   "outputs": [
    {
     "name": "stdout",
     "output_type": "stream",
     "text": [
      "Yo mido 1.580000 metros\n"
     ]
    }
   ],
   "source": [
    "altura = \"Yo mido %f metros\" % 1.58\n",
    "print altura"
   ]
  },
  {
   "cell_type": "markdown",
   "metadata": {},
   "source": [
    "los decimales de los `floats` se pueden configurar de la siguiente manera:"
   ]
  },
  {
   "cell_type": "code",
   "execution_count": 5,
   "metadata": {},
   "outputs": [
    {
     "name": "stdout",
     "output_type": "stream",
     "text": [
      "Yo mido 1.580 metros\n"
     ]
    }
   ],
   "source": [
    "altura = \"Yo mido %.3f metros\" % 1.58\n",
    "print altura"
   ]
  },
  {
   "cell_type": "markdown",
   "metadata": {},
   "source": [
    "se pueden formattear mas de un objeto a la vez:"
   ]
  },
  {
   "cell_type": "code",
   "execution_count": 7,
   "metadata": {},
   "outputs": [
    {
     "name": "stdout",
     "output_type": "stream",
     "text": [
      "1 + 2 = 3\n"
     ]
    }
   ],
   "source": [
    "suma = \"%i + %i = %i\" % (1,2,3)\n",
    "print suma"
   ]
  },
  {
   "cell_type": "code",
   "execution_count": 8,
   "metadata": {},
   "outputs": [
    {
     "name": "stdout",
     "output_type": "stream",
     "text": [
      "1 + 2 = 3\n"
     ]
    }
   ],
   "source": [
    "suma = \"%i + %i = %i\" % (1,2,3)\n",
    "print suma"
   ]
  },
  {
   "cell_type": "markdown",
   "metadata": {},
   "source": [
    "también pueden ser de diferentes tipos:"
   ]
  },
  {
   "cell_type": "code",
   "execution_count": 9,
   "metadata": {},
   "outputs": [
    {
     "name": "stdout",
     "output_type": "stream",
     "text": [
      "1 + 1.5 = 2.5\n"
     ]
    }
   ],
   "source": [
    "num1 = 1\n",
    "num2 = 1.5\n",
    "num3 = num1 + num2\n",
    "suma = \"%i + %.1f = %.1f\" % (num1,num2,num3)\n",
    "print suma"
   ]
  },
  {
   "cell_type": "code",
   "execution_count": 10,
   "metadata": {},
   "outputs": [
    {
     "name": "stdout",
     "output_type": "stream",
     "text": [
      "1 + 1.5 = 2.5\n"
     ]
    }
   ],
   "source": [
    "suma = \"%(num1)i + %(num2).1f = %(num3).1f\" % {\"num1\":1,\"num2\":1.5,\"num3\":2.5}\n",
    "print suma"
   ]
  },
  {
   "cell_type": "markdown",
   "metadata": {},
   "source": [
    "esta implementación de formattear strings es el metodo viejo. \n",
    "\n",
    "las nuevas versiones de Python tienen una función para formatear que funciona de la siguiente manera:"
   ]
  },
  {
   "cell_type": "code",
   "execution_count": 11,
   "metadata": {},
   "outputs": [
    {
     "name": "stdout",
     "output_type": "stream",
     "text": [
      "Hola, me llamo Camila\n"
     ]
    }
   ],
   "source": [
    "ejemplo = \"Hola, me llamo {}\".format(\"Camila\")\n",
    "print ejemplo"
   ]
  },
  {
   "cell_type": "code",
   "execution_count": 12,
   "metadata": {},
   "outputs": [
    {
     "name": "stdout",
     "output_type": "stream",
     "text": [
      "10 / 5 = 2\n"
     ]
    }
   ],
   "source": [
    "division = \"{} / {} = {}\".format(10,5,2)\n",
    "print division"
   ]
  },
  {
   "cell_type": "code",
   "execution_count": 14,
   "metadata": {},
   "outputs": [
    {
     "name": "stdout",
     "output_type": "stream",
     "text": [
      "5 / 10 = 2\n"
     ]
    }
   ],
   "source": [
    "division = \"{1} / {0} = {2}\".format(10,5,2)\n",
    "print division"
   ]
  },
  {
   "cell_type": "markdown",
   "metadata": {},
   "source": [
    "esta implementación se puede usar para formattear indentación:"
   ]
  },
  {
   "cell_type": "code",
   "execution_count": 2,
   "metadata": {},
   "outputs": [
    {
     "name": "stdout",
     "output_type": "stream",
     "text": [
      "Titulo: Programación en Python\n",
      "      Tema: Formateo de Strings\n"
     ]
    }
   ],
   "source": [
    "titulo = \"{}Programación en Python\".format('Titulo: ')\n",
    "sub_titulo = \"{:>12}Formateo de Strings\".format('Tema: ')\n",
    "print (titulo)\n",
    "print (sub_titulo)"
   ]
  },
  {
   "cell_type": "markdown",
   "metadata": {},
   "source": [
    "Nada pasó en el ejemplo anterior porque 'Tema: ' tiene 6 indices."
   ]
  },
  {
   "cell_type": "code",
   "execution_count": 27,
   "metadata": {},
   "outputs": [
    {
     "name": "stdout",
     "output_type": "stream",
     "text": [
      "Titulo: Programación en Python\n",
      "       Tema:        Formateo de Strings\n"
     ]
    }
   ],
   "source": [
    "titulo = \"{}Programación en Python\".format('Titulo: ')\n",
    "sub_titulo = \"{:^20}Formateo de Strings\".format('Tema: ')\n",
    "print titulo\n",
    "print sub_titulo"
   ]
  },
  {
   "cell_type": "markdown",
   "metadata": {},
   "source": [
    "dentro de los {} se pueden utilizar comparadores para posicionar characteres adicionales dentro de 'Tema: ':\n",
    "\n",
    "* \\> : los coloca antes de `'Tema: '`\n",
    "* < : los coloca después de `'Tema: '`\n",
    "* ^ : coloca `'Tema: '` en el centro"
   ]
  },
  {
   "cell_type": "code",
   "execution_count": 30,
   "metadata": {},
   "outputs": [
    {
     "name": "stdout",
     "output_type": "stream",
     "text": [
      "Titulo: Programación en Python\n",
      "__Tema: Formateo de Strings\n"
     ]
    }
   ],
   "source": [
    "titulo = \"{}Programación en Python\".format('Titulo: ')\n",
    "sub_titulo = \"{:_>8}Formateo de Strings\".format('Tema: ')\n",
    "print titulo\n",
    "print sub_titulo"
   ]
  },
  {
   "cell_type": "code",
   "execution_count": 31,
   "metadata": {},
   "outputs": [
    {
     "name": "stdout",
     "output_type": "stream",
     "text": [
      "Titulo: Programación en Python\n",
      "Tema: __Formateo de Strings\n"
     ]
    }
   ],
   "source": [
    "titulo = \"{}Programación en Python\".format('Titulo: ')\n",
    "sub_titulo = \"{:_<8}Formateo de Strings\".format('Tema: ')\n",
    "print titulo\n",
    "print sub_titulo"
   ]
  },
  {
   "cell_type": "code",
   "execution_count": 32,
   "metadata": {},
   "outputs": [
    {
     "name": "stdout",
     "output_type": "stream",
     "text": [
      "Titulo: Programación en Python\n",
      "_Tema: _Formateo de Strings\n"
     ]
    }
   ],
   "source": [
    "titulo = \"{}Programación en Python\".format('Titulo: ')\n",
    "sub_titulo = \"{:_^8}Formateo de Strings\".format('Tema: ')\n",
    "print titulo\n",
    "print sub_titulo"
   ]
  },
  {
   "cell_type": "markdown",
   "metadata": {},
   "source": [
    "esta metodología de formattear también funciona para acortar.\n",
    "\n",
    "tomar en cuenta que funciona distinto para `strings` que para `floats`.\n"
   ]
  },
  {
   "cell_type": "code",
   "execution_count": 34,
   "metadata": {},
   "outputs": [
    {
     "name": "stdout",
     "output_type": "stream",
     "text": [
      "El valor de pi es 3.1.\n"
     ]
    }
   ],
   "source": [
    "pi = \"3.141592653589793\"\n",
    "ejemplo = \"El valor de pi es {:.3}.\".format(pi)\n",
    "print ejemplo"
   ]
  },
  {
   "cell_type": "code",
   "execution_count": 35,
   "metadata": {},
   "outputs": [
    {
     "name": "stdout",
     "output_type": "stream",
     "text": [
      "El valor de pi es 3.14.\n"
     ]
    }
   ],
   "source": [
    "pi = 3.141592653589793\n",
    "ejemplo = \"El valor de pi es {:.3}.\".format(pi)\n",
    "print ejemplo"
   ]
  },
  {
   "cell_type": "markdown",
   "metadata": {},
   "source": [
    "y se puede combinar la funcion de acortar con acomodar:"
   ]
  },
  {
   "cell_type": "code",
   "execution_count": 37,
   "metadata": {},
   "outputs": [
    {
     "name": "stdout",
     "output_type": "stream",
     "text": [
      "El valor de pi es 0003.14.\n"
     ]
    }
   ],
   "source": [
    "pi = 3.141592653589793\n",
    "ejemplo = \"El valor de pi es {:0>7.3}.\".format(pi)\n",
    "print ejemplo"
   ]
  }
 ],
 "metadata": {
  "kernelspec": {
   "display_name": "Python 3",
   "language": "python",
   "name": "python3"
  },
  "language_info": {
   "codemirror_mode": {
    "name": "ipython",
    "version": 3
   },
   "file_extension": ".py",
   "mimetype": "text/x-python",
   "name": "python",
   "nbconvert_exporter": "python",
   "pygments_lexer": "ipython3",
   "version": "3.7.0"
  }
 },
 "nbformat": 4,
 "nbformat_minor": 2
}
