{
 "cells": [
  {
   "cell_type": "markdown",
   "metadata": {
    "collapsed": true
   },
   "source": [
    "# For Loop\n",
    "\n",
    "Este tipo de loop itera sobre los elementos dentro de un objeto de izquiera a derecha (al menos que se indique lo contrario). Puede iterar sobre:\n",
    "\n",
    "* los characteres de un string\n",
    "* los elementos de una lista\n",
    "* los elementos de un tuple\n",
    "* los elementos de un set\n",
    "* los key,pair tuples de un diccionario"
   ]
  },
  {
   "cell_type": "code",
   "execution_count": null,
   "metadata": {},
   "outputs": [],
   "source": [
    "# este ejemplo imprime de izquiera a derecha\n",
    "lista = ['a','b','c']\n",
    "for elemento in lista:\n",
    "    print elemento"
   ]
  },
  {
   "cell_type": "code",
   "execution_count": null,
   "metadata": {},
   "outputs": [],
   "source": [
    "# este ejemplo imprime de derecha a izquierda\n",
    "lista = ['a','b','c']\n",
    "negative_range = list(range(-3,0))[::-1]\n",
    "for x in negative_range:\n",
    "    print lista[x]"
   ]
  },
  {
   "cell_type": "markdown",
   "metadata": {},
   "source": [
    "La funcion range(x,y) itera sobre x hasta y, incluyendo x y excluyendo y.\n",
    "La funcion xrange(x,y,i) itera sobre x hasta y, incluyendo x y excluyendo y, saltandose i elementos.\n",
    "\n",
    "* en python 3 se utiliza la funcion range(x,y,i) donde i es un argumento opcional y el default es 1."
   ]
  },
  {
   "cell_type": "code",
   "execution_count": null,
   "metadata": {},
   "outputs": [],
   "source": [
    "for i in range(1,10):\n",
    "    print i"
   ]
  },
  {
   "cell_type": "code",
   "execution_count": null,
   "metadata": {},
   "outputs": [],
   "source": [
    "for i in xrange(1,10,1):\n",
    "    print i"
   ]
  },
  {
   "cell_type": "markdown",
   "metadata": {},
   "source": [
    "# While Loop\n",
    "\n",
    "Este tipo de loop itera siempre que la condicion declarada sea True. Es importante revisar que en algun momento la condicion declarada llegue a ser False, porque si no entramos en un loop infinito que quiebra el programa."
   ]
  },
  {
   "cell_type": "code",
   "execution_count": null,
   "metadata": {},
   "outputs": [],
   "source": [
    "# Ejemplo de loop finito, donde en algun momento la condicion llega a ser False.\n",
    "x = 10\n",
    "while x >= 0:\n",
    "    print x\n",
    "    x -= 1"
   ]
  },
  {
   "cell_type": "code",
   "execution_count": null,
   "metadata": {},
   "outputs": [],
   "source": [
    "# Ejemplo de loop ifinito, donde la condicion nunca llega a ser False.\n",
    "x = 10\n",
    "while x >= 0:\n",
    "    print x\n",
    "    x += 1"
   ]
  },
  {
   "cell_type": "markdown",
   "metadata": {},
   "source": [
    "Existen dos declaraciones que podemos utilizar dentro de los loops:\n",
    "\n",
    "* continue funciona para saltarnos una iteracion del loop.\n",
    "* break funciona para terminar el loop por completo."
   ]
  },
  {
   "cell_type": "code",
   "execution_count": null,
   "metadata": {},
   "outputs": [],
   "source": [
    "# Aquí utilizamos continue para saltarnos las iteraciones donde i sea un numero par.\n",
    "i = 0\n",
    "for i in range(1,10):\n",
    "    if i % 2 == 0:\n",
    "        continue\n",
    "    print i"
   ]
  },
  {
   "cell_type": "code",
   "execution_count": null,
   "metadata": {},
   "outputs": [],
   "source": [
    "# Aquí utilizamos break para terminar el loop cuando \n",
    "# llegamos al primero numero divisible entre 5.\n",
    "i = 0\n",
    "for i in range(1,10):\n",
    "    if i % 5 == 0:\n",
    "        break\n",
    "    print i"
   ]
  },
  {
   "cell_type": "markdown",
   "metadata": {},
   "source": [
    "# Nested for loops"
   ]
  },
  {
   "cell_type": "code",
   "execution_count": null,
   "metadata": {},
   "outputs": [],
   "source": [
    "matrix = [[1,2,3],[4,5,6],[7,8,9]]\n",
    "for fila in matrix:\n",
    "    for columna in fila:\n",
    "        print columna"
   ]
  },
  {
   "cell_type": "markdown",
   "metadata": {},
   "source": [
    "# List Comprehension\n",
    "\n",
    "Python ofrece una metodología especial para crear listas, diccionarios y sets a partir de otra lista, y lo más Python de esta metodología es que se puede escribir en tan solo una linea de código.\n",
    "\n",
    "### Ejercicio\n",
    "\n",
    "Crear una lista de numeros pares a partir de una lista que tiene numeros del 1-10, incluyendo los dos."
   ]
  },
  {
   "cell_type": "code",
   "execution_count": null,
   "metadata": {},
   "outputs": [],
   "source": [
    "# Ejemplo tradicional\n",
    "lista = [1,2,3,4,5,6,7,8,9,10]\n",
    "lista_pares = []\n",
    "for x in lista:\n",
    "    if x % 2 == 0:\n",
    "        lista_pares.append(x)\n",
    "print lista_pares"
   ]
  },
  {
   "cell_type": "code",
   "execution_count": null,
   "metadata": {},
   "outputs": [],
   "source": [
    "# Ejemplo con metodología de list comprehension\n",
    "lista = [1,2,3,4,5,6,7,8,9,10]\n",
    "lista_pares = [x for x in lista if x % 2 == 0]\n",
    "print lista_pares"
   ]
  },
  {
   "cell_type": "code",
   "execution_count": null,
   "metadata": {},
   "outputs": [],
   "source": [
    "# Ejemplo tradicional\n",
    "lista = [1,2,3,4,5,6,7,8,9,10]\n",
    "lista_pares = []\n",
    "for x in lista:\n",
    "    lista_pares.append(x*x)\n",
    "print lista_pares"
   ]
  },
  {
   "cell_type": "code",
   "execution_count": 1,
   "metadata": {},
   "outputs": [
    {
     "ename": "SyntaxError",
     "evalue": "Missing parentheses in call to 'print'. Did you mean print(lista_pares)? (<ipython-input-1-c8a32702a714>, line 4)",
     "output_type": "error",
     "traceback": [
      "\u001b[1;36m  File \u001b[1;32m\"<ipython-input-1-c8a32702a714>\"\u001b[1;36m, line \u001b[1;32m4\u001b[0m\n\u001b[1;33m    print lista_pares\u001b[0m\n\u001b[1;37m                    ^\u001b[0m\n\u001b[1;31mSyntaxError\u001b[0m\u001b[1;31m:\u001b[0m Missing parentheses in call to 'print'. Did you mean print(lista_pares)?\n"
     ]
    }
   ],
   "source": [
    "# Ejemplo con metodología de list comprehension\n",
    "lista = [1,2,3,4,5,6,7,8,9,10]\n",
    "lista_pares = [x*x for x in lista]\n",
    "print lista_pares"
   ]
  },
  {
   "cell_type": "markdown",
   "metadata": {},
   "source": [
    "Esa misma metodología se puede aplicar tambien a diccionarios. Ojo que cuando declaramos una lista nueva utilizamos [ ] después de la declaración. Para crear un diccionario nuevo vamos a utilizar { }."
   ]
  },
  {
   "cell_type": "code",
   "execution_count": null,
   "metadata": {},
   "outputs": [],
   "source": [
    "dic = {'hola':'adios','hello':'goodbye','ciao':'ciao'}\n",
    "alreves = {value:key for key,value in dic.items()}\n",
    "print alreves"
   ]
  },
  {
   "cell_type": "code",
   "execution_count": null,
   "metadata": {},
   "outputs": [],
   "source": [
    "lista = [1,2,3,4]\n",
    "dic = {i:i*i for i in lista}\n",
    "print dic"
   ]
  },
  {
   "cell_type": "markdown",
   "metadata": {},
   "source": [
    "Ahora que ya repasamos loops, esta es la manera correcta de abrir archivos en Python. Esta implementación hace que el código sea mas legible y organizado. Dentro de with, podemos utilizar Loops y Sentencias Condicionales para iterar sobre el texto del archivo.\n",
    "\n",
    "* importante acordarse de cerrar el archivo. SIEMPRE"
   ]
  },
  {
   "cell_type": "code",
   "execution_count": null,
   "metadata": {},
   "outputs": [],
   "source": [
    "with open('test.txt') as archivo:\n",
    "    for linea in archivo.readlines():\n",
    "        print linea.replace('\\n','')\n",
    "archivo.close()"
   ]
  }
 ],
 "metadata": {
  "kernelspec": {
   "display_name": "Python 3",
   "language": "python",
   "name": "python3"
  },
  "language_info": {
   "codemirror_mode": {
    "name": "ipython",
    "version": 3
   },
   "file_extension": ".py",
   "mimetype": "text/x-python",
   "name": "python",
   "nbconvert_exporter": "python",
   "pygments_lexer": "ipython3",
   "version": "3.7.0"
  }
 },
 "nbformat": 4,
 "nbformat_minor": 2
}
