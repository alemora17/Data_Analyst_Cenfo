{
 "cells": [
  {
   "cell_type": "markdown",
   "metadata": {},
   "source": [
    "# Diccionarios\n",
    "\n",
    "* es un mappeo de `keys` a `values`\n",
    "* pueden ser declarados vacios\n",
    "* `keys` pueden ser cualquier tipo de data no mutable\n",
    "* `vlaues` pueden ser cualquier tipo de data"
   ]
  },
  {
   "cell_type": "code",
   "execution_count": 3,
   "metadata": {},
   "outputs": [
    {
     "name": "stdout",
     "output_type": "stream",
     "text": [
      "{}\n"
     ]
    }
   ],
   "source": [
    "dic = dict()\n",
    "print dic"
   ]
  },
  {
   "cell_type": "code",
   "execution_count": 4,
   "metadata": {},
   "outputs": [
    {
     "name": "stdout",
     "output_type": "stream",
     "text": [
      "{'key': 'value'}\n"
     ]
    }
   ],
   "source": [
    "dic = {'key':'value'}\n",
    "print dic"
   ]
  },
  {
   "cell_type": "code",
   "execution_count": 15,
   "metadata": {},
   "outputs": [
    {
     "name": "stdout",
     "output_type": "stream",
     "text": [
      "{'Edad': 25, 'Nombre': 'Camila', (1, 2): {'key': 'value'}}\n"
     ]
    }
   ],
   "source": [
    "dic = {'Nombre': 'Camila', 'Edad': 25, (1,2): {'key':'value'}}\n",
    "print dic"
   ]
  },
  {
   "cell_type": "markdown",
   "metadata": {},
   "source": [
    "Al igual que accesabamos elementos en una `lista`, con diccionarios podemos accesar los `values` utilizando los `keys`."
   ]
  },
  {
   "cell_type": "code",
   "execution_count": 16,
   "metadata": {},
   "outputs": [
    {
     "name": "stdout",
     "output_type": "stream",
     "text": [
      "Camila\n"
     ]
    }
   ],
   "source": [
    "print dic['Nombre']"
   ]
  },
  {
   "cell_type": "markdown",
   "metadata": {},
   "source": [
    "con esa misma implementación podemos:\n",
    "\n",
    "* modificar `values` \n",
    "* agregar mas `key`, `value` pairs"
   ]
  },
  {
   "cell_type": "code",
   "execution_count": 17,
   "metadata": {},
   "outputs": [
    {
     "name": "stdout",
     "output_type": "stream",
     "text": [
      "{'Edad': 25, 'Nombre': 'Maria Camila', (1, 2): {'key': 'value'}}\n"
     ]
    }
   ],
   "source": [
    "dic['Nombre'] = \"Maria Camila\"\n",
    "print dic"
   ]
  },
  {
   "cell_type": "code",
   "execution_count": 18,
   "metadata": {},
   "outputs": [
    {
     "name": "stdout",
     "output_type": "stream",
     "text": [
      "{'Edad': 25, 'Nombre': 'Maria Camila', (1, 2): {'key': 'value'}, 'Hobby': 'Ver tele'}\n"
     ]
    }
   ],
   "source": [
    "dic['Hobby'] = 'Ver tele'\n",
    "print dic"
   ]
  },
  {
   "cell_type": "markdown",
   "metadata": {},
   "source": [
    "## Funciones\n",
    "\n",
    "* dic.update({dic})\n",
    "* del dic.(key)\n",
    "* dic.get(key) \\*\n",
    "* dic.pop(key) --> returns `key`, `value` pair\n",
    "* dic.keys() --> returns lista de `keys`\n",
    "* dic.values() --> returns lista de `values`\n",
    "* dic.items() --> returns lista de `tuples` de `key`, `value` pairs"
   ]
  },
  {
   "cell_type": "code",
   "execution_count": 20,
   "metadata": {},
   "outputs": [
    {
     "name": "stdout",
     "output_type": "stream",
     "text": [
      "{'Edad': 25, 'Nombre': 'Maria Camila', (1, 2): {'key': 'value'}, 'Hobby': 'Ver tele'}\n",
      "{'Edad': 24, 'Nombre': 'Maria Camila', (1, 2): {'key': 'value'}, 'Hobby': 'Ver tele'}\n"
     ]
    }
   ],
   "source": [
    "print dic\n",
    "dic.update({'Edad':24})\n",
    "print dic"
   ]
  },
  {
   "cell_type": "code",
   "execution_count": 27,
   "metadata": {},
   "outputs": [
    {
     "name": "stdout",
     "output_type": "stream",
     "text": [
      "{'Edad': 24, 'Nombre': 'Maria Camila', (1, 2): {'key': 'value'}, 'Hobby': 'Ver tele'}\n",
      "{'Edad': 24, (1, 2): {'key': 'value'}, 'Hobby': 'Ver tele', 'Nombre': 'Maria Camila', 'Altura': 1.58}\n"
     ]
    }
   ],
   "source": [
    "print dic\n",
    "dic.update({'Altura':1.58})\n",
    "print dic"
   ]
  },
  {
   "cell_type": "code",
   "execution_count": 29,
   "metadata": {},
   "outputs": [
    {
     "name": "stdout",
     "output_type": "stream",
     "text": [
      "{'Edad': 24, (1, 2): {'key': 'value'}, 'Hobby': 'Ver tele', 'Nombre': 'Maria Camila'}\n"
     ]
    },
    {
     "ename": "KeyError",
     "evalue": "'Altura'",
     "output_type": "error",
     "traceback": [
      "\u001b[0;31m---------------------------------------------------------------------------\u001b[0m",
      "\u001b[0;31mKeyError\u001b[0m                                  Traceback (most recent call last)",
      "\u001b[0;32m<ipython-input-29-4c4e1a2dee2d>\u001b[0m in \u001b[0;36m<module>\u001b[0;34m()\u001b[0m\n\u001b[1;32m      1\u001b[0m \u001b[0;32mprint\u001b[0m \u001b[0mdic\u001b[0m\u001b[0;34m\u001b[0m\u001b[0m\n\u001b[0;32m----> 2\u001b[0;31m \u001b[0;32mdel\u001b[0m \u001b[0mdic\u001b[0m\u001b[0;34m[\u001b[0m\u001b[0;34m'Altura'\u001b[0m\u001b[0;34m]\u001b[0m\u001b[0;34m\u001b[0m\u001b[0m\n\u001b[0m\u001b[1;32m      3\u001b[0m \u001b[0;32mprint\u001b[0m \u001b[0mdic\u001b[0m\u001b[0;34m\u001b[0m\u001b[0m\n",
      "\u001b[0;31mKeyError\u001b[0m: 'Altura'"
     ]
    }
   ],
   "source": [
    "print dic\n",
    "del dic['Altura']\n",
    "print dic"
   ]
  },
  {
   "cell_type": "code",
   "execution_count": 32,
   "metadata": {},
   "outputs": [
    {
     "name": "stdout",
     "output_type": "stream",
     "text": [
      "24\n",
      "24\n"
     ]
    }
   ],
   "source": [
    "print dic['Edad']\n",
    "print dic.get('Edad')"
   ]
  },
  {
   "cell_type": "code",
   "execution_count": 34,
   "metadata": {},
   "outputs": [
    {
     "ename": "KeyError",
     "evalue": "'Edad'",
     "output_type": "error",
     "traceback": [
      "\u001b[0;31m---------------------------------------------------------------------------\u001b[0m",
      "\u001b[0;31mKeyError\u001b[0m                                  Traceback (most recent call last)",
      "\u001b[0;32m<ipython-input-34-c54b764d6aca>\u001b[0m in \u001b[0;36m<module>\u001b[0;34m()\u001b[0m\n\u001b[0;32m----> 1\u001b[0;31m \u001b[0;32mprint\u001b[0m \u001b[0mdic\u001b[0m\u001b[0;34m[\u001b[0m\u001b[0;34m'Edad'\u001b[0m\u001b[0;34m]\u001b[0m\u001b[0;34m\u001b[0m\u001b[0m\n\u001b[0m\u001b[1;32m      2\u001b[0m \u001b[0;32mprint\u001b[0m \u001b[0mdic\u001b[0m\u001b[0;34m.\u001b[0m\u001b[0mpop\u001b[0m\u001b[0;34m(\u001b[0m\u001b[0;34m'Edad'\u001b[0m\u001b[0;34m)\u001b[0m\u001b[0;34m\u001b[0m\u001b[0m\n",
      "\u001b[0;31mKeyError\u001b[0m: 'Edad'"
     ]
    }
   ],
   "source": [
    "print dic['Edad']\n",
    "print dic.pop('Edad')"
   ]
  },
  {
   "cell_type": "code",
   "execution_count": 40,
   "metadata": {},
   "outputs": [
    {
     "name": "stdout",
     "output_type": "stream",
     "text": [
      "[0, 1, 2]\n"
     ]
    }
   ],
   "source": [
    "dic = {0:'a',1:'b',2:'c'}\n",
    "print dic.keys()"
   ]
  },
  {
   "cell_type": "code",
   "execution_count": 41,
   "metadata": {},
   "outputs": [
    {
     "name": "stdout",
     "output_type": "stream",
     "text": [
      "['a', 'b', 'c']\n"
     ]
    }
   ],
   "source": [
    "print dic.values()"
   ]
  },
  {
   "cell_type": "code",
   "execution_count": 50,
   "metadata": {},
   "outputs": [
    {
     "name": "stdout",
     "output_type": "stream",
     "text": [
      "(1, 'b')\n"
     ]
    }
   ],
   "source": [
    "print dic.items()[1]"
   ]
  }
 ],
 "metadata": {
  "kernelspec": {
   "display_name": "Python 3",
   "language": "python",
   "name": "python3"
  },
  "language_info": {
   "codemirror_mode": {
    "name": "ipython",
    "version": 3
   },
   "file_extension": ".py",
   "mimetype": "text/x-python",
   "name": "python",
   "nbconvert_exporter": "python",
   "pygments_lexer": "ipython3",
   "version": "3.7.0"
  }
 },
 "nbformat": 4,
 "nbformat_minor": 2
}
