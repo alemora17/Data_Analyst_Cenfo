{
 "cells": [
  {
   "cell_type": "markdown",
   "metadata": {},
   "source": [
    "## Ejercicio 1: Manipular Archivos\n",
    "\n",
    "Dentro de este mismo directorio se encuentra un archivo que se llama \"tarea2.txt\". Ese archivo contiene información sobre 5 estudiantes y sus respectivas notas para 5 examenes.\n",
    "\n",
    "Cada linea tiene la siguiente estructura: nombre_estudiante: nota_examen1 nota_examen2 nota_examen3 nota_examen4 nota_examen5\n",
    "\n",
    "Escriban un programa que genere un archivo nuevo donde contenga en nombre de cada estudiante y su respectiva nota promedio de esos 5 examenes.\n",
    "\n",
    "La estrucutra de cada linea en el nuevo archivo debería de ser: nombre_estudiante: nota_promedio\n",
    "\n",
    "* utiliazar la metodologia de \"with\" para abrir el archivo\n"
   ]
  },
  {
   "cell_type": "code",
   "execution_count": 2,
   "metadata": {},
   "outputs": [],
   "source": [
    "## Respuesta Ejercicio 1"
   ]
  },
  {
   "cell_type": "markdown",
   "metadata": {},
   "source": [
    "## Ejercicio 2: Manipular Archivos\n",
    "\n",
    "Dentro de este mismo directorio se encuentra un archivo que se llama \"introduccion.txt\". Este archivo contiene tres lineas con frases donde faltan palabras para rellenar. La posicion donde deberían de rellenar las palabras estan marcadas con [ ]. \n",
    "\n",
    "Para este ejercicio deberán de leer el archivo, y escribir sobre el mismo archivo cada vez que pasen por un [ ] con una palabra que complete la frase.\n",
    "\n",
    "* utiliazar la metodologia de \"with\" para abrir el archivo"
   ]
  },
  {
   "cell_type": "code",
   "execution_count": 3,
   "metadata": {
    "collapsed": true
   },
   "outputs": [],
   "source": [
    "## Respuesta Ejercicio 2"
   ]
  },
  {
   "cell_type": "markdown",
   "metadata": {},
   "source": [
    "## Ejercicio 3: Sentencias Condicionales y Loops\n",
    "\n",
    "Crear un programa que revise si un código ISBN-10 es valido o no. Un códifo ISBN-10 consiste de 10 characteres donde todos son digitos del 0-9, a excepción del último que puede ser un digito o la letra X (que equivale al numero 10). La formula para chequear si es un código valido es la siguiente:\n",
    "\n",
    "(x*1 + x*2 + x*3 + x*4 + x*5 + x*6 + x*7 + x*8 + x*9 + x*10) % 11 == 0\n",
    "\n",
    "donde x representa el digito cuando se itera sobre el ISBN-10 de izquierda a derecha."
   ]
  },
  {
   "cell_type": "code",
   "execution_count": 4,
   "metadata": {
    "collapsed": true
   },
   "outputs": [],
   "source": [
    "## Respuesta Ejercicio 3"
   ]
  },
  {
   "cell_type": "markdown",
   "metadata": {},
   "source": [
    "## Ejercicio 4: List Comprehension\n",
    "\n",
    "Para los siguientes ejercicos tienen que crear una lista o un diccionario nuevo utilizando la metodología de list comprehension.\n",
    "\n",
    "a. Crear una lista de todos los numeros del 1-1000, incluyendo ambos, que sean divisibles entre 7.\n",
    "\n",
    "b. Eliminar todas las vocales de un string.\n",
    "\n",
    "c. Crear un diccionario a partir de un string que contiene una frase. Para cada palabra en la frase crear un key,value pair tuple donde el key sea equivalente a la palabra (string) y el value sea equivalente al largo de la plabra (int). "
   ]
  },
  {
   "cell_type": "code",
   "execution_count": 5,
   "metadata": {
    "collapsed": true
   },
   "outputs": [],
   "source": [
    "## Respuesta Ejercicio 4"
   ]
  },
  {
   "cell_type": "markdown",
   "metadata": {},
   "source": [
    "## Ejercicio 5: Loops\n",
    "\n",
    "Escribir un programa que imprima lo siguiente:\n",
    "\n",
    "\\*\n",
    "\n",
    "\\*\\*\n",
    "\n",
    "\\*\\*\\*\n",
    "\n",
    "\\*\\*\\*\\*\n",
    "\n",
    "\\*\\*\\*\\*\\*\n",
    "\n",
    "\\*\\*\\*\\*\n",
    "\n",
    "\\*\\*\\*\n",
    "\n",
    "\\*\\*\n",
    "\n",
    "\\*\n",
    "\n",
    "* Hint: Utilizar nested loops, no hacen falta sentencias condicionales."
   ]
  },
  {
   "cell_type": "code",
   "execution_count": 6,
   "metadata": {
    "collapsed": true
   },
   "outputs": [],
   "source": [
    "# Respuesta Ejercicio 5"
   ]
  }
 ],
 "metadata": {
  "kernelspec": {
   "display_name": "Python 3",
   "language": "python",
   "name": "python3"
  },
  "language_info": {
   "codemirror_mode": {
    "name": "ipython",
    "version": 3
   },
   "file_extension": ".py",
   "mimetype": "text/x-python",
   "name": "python",
   "nbconvert_exporter": "python",
   "pygments_lexer": "ipython3",
   "version": "3.7.0"
  }
 },
 "nbformat": 4,
 "nbformat_minor": 2
}
