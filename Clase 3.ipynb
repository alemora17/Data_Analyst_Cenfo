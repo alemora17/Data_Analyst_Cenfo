{
 "cells": [
  {
   "cell_type": "code",
   "execution_count": 2,
   "metadata": {},
   "outputs": [],
   "source": [
    "###### Tema 1, String Formating \n",
    "###### Tema 2, Listas \n"
   ]
  },
  {
   "cell_type": "code",
   "execution_count": 4,
   "metadata": {},
   "outputs": [],
   "source": [
    "# Funciones "
   ]
  },
  {
   "cell_type": "code",
   "execution_count": 10,
   "metadata": {},
   "outputs": [
    {
     "name": "stdout",
     "output_type": "stream",
     "text": [
      "0\n",
      "3\n"
     ]
    }
   ],
   "source": [
    "#lista.index(elemento)\n",
    "\n",
    "lista = ['tuanis','hola', 'adios', 'tuanis']\n",
    "print (lista.index('tuanis'))\n",
    "print (lista.index('tuanis', 1)) #me busca a partir del elemento uno "
   ]
  },
  {
   "cell_type": "code",
   "execution_count": 12,
   "metadata": {},
   "outputs": [
    {
     "name": "stdout",
     "output_type": "stream",
     "text": [
      "2\n"
     ]
    }
   ],
   "source": [
    "print (lista.count('tuanis'))"
   ]
  },
  {
   "cell_type": "code",
   "execution_count": 19,
   "metadata": {},
   "outputs": [
    {
     "name": "stdout",
     "output_type": "stream",
     "text": [
      "['x', 'a', 'r', 'a']\n"
     ]
    }
   ],
   "source": [
    "#Reverse=True me devuelve la lista descendiente \n",
    "\n",
    "lista1 = ['x', 'a', 'r', 'a']\n",
    "\n",
    "#print (lista1.sort())  esto no devuelve nada, solo muta la lista print necesita algo para imprimir\n",
    "\n",
    "print (lista1)  "
   ]
  },
  {
   "cell_type": "code",
   "execution_count": 33,
   "metadata": {},
   "outputs": [
    {
     "name": "stdout",
     "output_type": "stream",
     "text": [
      "['x', 'a', 'r', 7, 7, 7, 'a', 4, 4, 4, 4, 4, 4, 4, 4, 4, 4, 4, 4]\n",
      "['x', 'a', 'r', 7, 7, 7, 7, 'a', 4, 4, 4, 4, 4, 4, 4, 4, 4, 4, 4, 4]\n"
     ]
    }
   ],
   "source": [
    "lista1.append(4)\n",
    "\n",
    "print(lista1)  # lo agrega al final de la lista\n",
    "\n",
    "lista1.insert(3,7)  #para agregar un elemento despues de una determinada posicion\n",
    "\n",
    "print  (lista1)\n"
   ]
  },
  {
   "cell_type": "code",
   "execution_count": 50,
   "metadata": {},
   "outputs": [
    {
     "name": "stdout",
     "output_type": "stream",
     "text": [
      "['a', 'r', 7]\n",
      "['a', 7, 'r', 7]\n"
     ]
    }
   ],
   "source": [
    "elemento = lista1.pop() #si lo le pongo ningun # dentro de los () me va a eliminar el ultimo de la lista por default\n",
    "print(lista1)\n",
    "lista1.insert(1,elemento)\n",
    "print (lista1)"
   ]
  },
  {
   "cell_type": "code",
   "execution_count": 57,
   "metadata": {},
   "outputs": [
    {
     "name": "stdout",
     "output_type": "stream",
     "text": [
      "[1, 2, 3, 4, 5, 6]\n",
      "[4, 5, 6]\n"
     ]
    }
   ],
   "source": [
    "lista2 = [1, 2, 3]\n",
    "lista3 = [4, 5, 6]\n",
    "lista2 += lista3  \n",
    "print (lista2) # solo la lista 3 se modifico\n",
    "print (lista3) # no se modifico"
   ]
  },
  {
   "cell_type": "code",
   "execution_count": 71,
   "metadata": {},
   "outputs": [
    {
     "name": "stdout",
     "output_type": "stream",
     "text": [
      "1\n",
      "2\n",
      "hola\n",
      "(1, 2, 3, 4, 5, 6)\n",
      "['hola', 'adios', 'python']\n"
     ]
    }
   ],
   "source": [
    "#los tuples son listas no mutable, o sea solo son de lecturas\n",
    "# una vez que declaro el tuple con los elementos que le meti, no puedo modificarlo: no se pueden borrar,\n",
    "#no se pueden agregar elementos \n",
    "#puedo crear otro tuple a apartir de mi tuple original \n",
    "\n",
    "\n",
    "tup = ('hola', 'adios', 'python')\n",
    "print (tup.count('python')) #me cuenta cuantos elementos 'python' hay en el tuple\n",
    "print (tup.index('python')) #me indica en cual index se encuentra el elemento 'python'\n",
    "print (tup[0]) # puedo iidentificar que valor se encuentra en la posicion 0 \n",
    "\n",
    "tup1 = (1, 2, 3)\n",
    "tup2 = (4, 5, 6)\n",
    "tup1 += tup2\n",
    "print (tup1)  #me crea un nuevo tuple pero con un base en uno ya existente \n",
    "\n",
    "\n",
    "# puedo convertir una lista a un  tuple?\n",
    "\n",
    "# puedo converir un tuple en una lista?\n",
    "\n",
    "tup3 = (1, 3, 4)\n",
    "lista4 = list(tup)\n",
    "print (lista4)\n",
    "\n",
    "\n"
   ]
  },
  {
   "cell_type": "code",
   "execution_count": 90,
   "metadata": {},
   "outputs": [
    {
     "name": "stdout",
     "output_type": "stream",
     "text": [
      "{1, 2, 3, 4, 5}\n",
      "{1, 2, 3, 4, 5}\n",
      "{2, 3, 4, 5}\n",
      "{3, 4, 5}\n",
      "{2, 3, 4, 5}\n",
      "{2}\n",
      "set()\n",
      "True\n",
      "False\n"
     ]
    }
   ],
   "source": [
    "#sets \n",
    "\n",
    "#sets solo se pueden declarar con la funcion set, para que python no confunda que son listas.\n",
    "\n",
    "#eleementos dentro del set son inmutables , pero si le puedo agregar nuevos elementos. \n",
    "\n",
    "#Los sets no tienen indices, por que no se pueden modificar los elementos una vez que los agregue \n",
    "\n",
    "s = set([1,2,3, 3, 3, 3, 3, 3, 4, 5])\n",
    "print (s)\n",
    "\n",
    "s.add(4)\n",
    "print (s)\n",
    "s.discard(1)\n",
    "print (s)\n",
    "\n",
    "s2 = set([3, 4, 5])\n",
    "print (s2)\n",
    "\n",
    "#Union:\n",
    "print (s | s2)  #une dos sets, pero no agrega elementos que estan repetidos\n",
    "\n",
    "#interserccion   ***REVISAR, ME DA DIFERENTE**\n",
    "print(s - s2)\n",
    "print (s2 - s)\n",
    "\n",
    "\n",
    "print ( s >= s2)  #s es un super set de s2?\n",
    "print (s2 >= s)"
   ]
  },
  {
   "cell_type": "code",
   "execution_count": 96,
   "metadata": {},
   "outputs": [],
   "source": [
    "# Diccionarios \n",
    "\n",
    "# son manipulables \n",
    "# uno tiene un control mayor sobre los indices \n",
    "# se usan keys y values\n",
    "# pueden ser declarados vacios \n",
    "# no estan amarrados a un order estrictor \n",
    "\n",
    "dic = {'Edad': 25, 'Nombre': 'Camia', 12345: 'no tiene'}\n",
    "\n",
    "#puede tener cualquier tipo de data\n",
    "\n"
   ]
  },
  {
   "cell_type": "code",
   "execution_count": 111,
   "metadata": {},
   "outputs": [
    {
     "name": "stdout",
     "output_type": "stream",
     "text": [
      "{'Edad': 24, 'Nombre': 'Camia', 12345: 'no tiene', 'Altura': 1.58}\n",
      "{'Edad': 24, 'Nombre': 'Camia', 12345: 'no tiene', 'Altura': 1.58}\n",
      "{'Edad': 24, 'Nombre': 'Camia', 12345: 'no tiene', 'Altura': 1.58}\n",
      "24\n",
      "24\n"
     ]
    }
   ],
   "source": [
    "print (dic)\n",
    "dic.update({'Edad':24}) #modifica el elemento existente\n",
    "print (dic)\n",
    "dic.update({'Altura': 1.58})  # agrega un elemento que no existe\n",
    "print (dic)\n",
    "#del dic['Altura']\n",
    "#print (dic)\n",
    "\n",
    "#get \n",
    "\n",
    "print (dic['Edad'])\n",
    "print (dic.get('Edad'))\n",
    "\n",
    "# --- imprime lo mismo ---\n",
    "\n"
   ]
  },
  {
   "cell_type": "code",
   "execution_count": 115,
   "metadata": {},
   "outputs": [
    {
     "name": "stdout",
     "output_type": "stream",
     "text": [
      "dict_keys(['Edad', 'Nombre', 12345, 'Altura'])\n"
     ]
    }
   ],
   "source": [
    "print (dic.keys()) #imprime todos los keys del diccionario "
   ]
  },
  {
   "cell_type": "code",
   "execution_count": 117,
   "metadata": {},
   "outputs": [
    {
     "name": "stdout",
     "output_type": "stream",
     "text": [
      "dict_values([24, 'Camia', 'no tiene', 1.58])\n"
     ]
    }
   ],
   "source": [
    "print (dic.values()) #imprime solos los valures del diccionario \n"
   ]
  },
  {
   "cell_type": "code",
   "execution_count": 120,
   "metadata": {},
   "outputs": [
    {
     "name": "stdout",
     "output_type": "stream",
     "text": [
      "dict_items([('Edad', 24), ('Nombre', 'Camia'), (12345, 'no tiene'), ('Altura', 1.58)])\n"
     ]
    }
   ],
   "source": [
    "print (dic.items()) #key value pairs tuple , me imprime un objecto "
   ]
  },
  {
   "cell_type": "code",
   "execution_count": 122,
   "metadata": {},
   "outputs": [
    {
     "name": "stdout",
     "output_type": "stream",
     "text": [
      "['Edad', 'Nombre', 12345, 'Altura']\n"
     ]
    }
   ],
   "source": [
    "print (list(dic.keys()))  # meter los keys en una lista "
   ]
  },
  {
   "cell_type": "code",
   "execution_count": 132,
   "metadata": {},
   "outputs": [
    {
     "name": "stdout",
     "output_type": "stream",
     "text": [
      "('Edad', 24)\n"
     ]
    }
   ],
   "source": [
    "print (list (dic.items())[0])  # convertimos los diccionarios en lista y luego metemos el value"
   ]
  },
  {
   "cell_type": "code",
   "execution_count": 135,
   "metadata": {},
   "outputs": [],
   "source": [
    "#Archivos \n",
    "#archivo = open(r'ruta archivo')\n",
    "# print (archivo)\n",
    "#archivo.close() SIEMPRE HAY QUE CERRARLO!!\n",
    "\n",
    "\n",
    "# tres funciones para leer el archivo:\n",
    "#data = archivo.read()  **todo se devuelve con el formato string***\n",
    "# data = archivo.readline() *** me lee la primera linea**\n",
    "\n",
    "# readlines()  *** me devuelve una lista \n",
    "\n",
    "\n",
    "# archivo.write('prubea')  ##permismo : r (only read)\n",
    "\n",
    "\n",
    "#w --> elimina todo lo que hay y sobreescribe\n",
    "#a --> empieza a escribir con el pointer abajo \n",
    "#archivo.tell() me indica donde esta el pointer. si no le indico el tipo de permismo, por default sera 'r'\n",
    "\n",
    "#archivo.seek() --> para indicar a donde colocar el pointer.\n"
   ]
  },
  {
   "cell_type": "code",
   "execution_count": 137,
   "metadata": {},
   "outputs": [],
   "source": [
    "#Logical Statements "
   ]
  },
  {
   "cell_type": "code",
   "execution_count": 138,
   "metadata": {},
   "outputs": [],
   "source": [
    "#Loops\n",
    "\n",
    "# itera sobre algun elemento que le doy al loop\n",
    "\n",
    "    \n",
    "    "
   ]
  },
  {
   "cell_type": "code",
   "execution_count": 142,
   "metadata": {},
   "outputs": [
    {
     "name": "stdout",
     "output_type": "stream",
     "text": [
      "a\n",
      "b\n",
      "c\n"
     ]
    }
   ],
   "source": [
    "lista = ['a', 'b', 'c']\n",
    "\n",
    "for elemento in lista:\n",
    "    print (elemento)\n"
   ]
  },
  {
   "cell_type": "code",
   "execution_count": 146,
   "metadata": {},
   "outputs": [
    {
     "name": "stdout",
     "output_type": "stream",
     "text": [
      "1\n",
      "2\n",
      "3\n",
      "4\n",
      "5\n",
      "6\n",
      "7\n",
      "8\n",
      "9\n"
     ]
    }
   ],
   "source": [
    "# contar del uno aL 10\n",
    "\n",
    "for i in range(1, 10):  #el segundo numero es exclusiv\n",
    "    print (i) "
   ]
  },
  {
   "cell_type": "code",
   "execution_count": 155,
   "metadata": {},
   "outputs": [
    {
     "name": "stdout",
     "output_type": "stream",
     "text": [
      "1\n",
      "3\n",
      "5\n",
      "7\n",
      "9\n"
     ]
    }
   ],
   "source": [
    "for i in range(1,10,2): #empieza en el 1, termina en el 10, cada dos numeros\n",
    "    print (i)"
   ]
  },
  {
   "cell_type": "code",
   "execution_count": 159,
   "metadata": {},
   "outputs": [
    {
     "name": "stdout",
     "output_type": "stream",
     "text": [
      "10\n",
      "9\n",
      "8\n",
      "7\n",
      "6\n",
      "5\n",
      "4\n",
      "3\n",
      "2\n",
      "1\n"
     ]
    }
   ],
   "source": [
    "#while loops\n",
    "\n",
    "#no olvidar la condicion de paradam en los loops!!!\n",
    "\n",
    "x = 10\n",
    "while x > 0:\n",
    "    print (x)\n",
    "    x -= 1\n",
    "\n",
    "    \n",
    "    "
   ]
  },
  {
   "cell_type": "code",
   "execution_count": 162,
   "metadata": {},
   "outputs": [],
   "source": [
    "#condiciones de parada: break & continue "
   ]
  },
  {
   "cell_type": "code",
   "execution_count": 164,
   "metadata": {},
   "outputs": [
    {
     "name": "stdout",
     "output_type": "stream",
     "text": [
      "0\n",
      "1\n",
      "2\n",
      "3\n",
      "4\n",
      "5\n",
      "6\n",
      "7\n",
      "8\n",
      "9\n"
     ]
    }
   ],
   "source": [
    "x = 0 \n",
    "while True:\n",
    "    if x >= 10:\n",
    "        break\n",
    "    print (x)\n",
    "    x +=1"
   ]
  },
  {
   "cell_type": "code",
   "execution_count": 166,
   "metadata": {},
   "outputs": [],
   "source": [
    "# nested loops "
   ]
  },
  {
   "cell_type": "code",
   "execution_count": 169,
   "metadata": {},
   "outputs": [
    {
     "name": "stdout",
     "output_type": "stream",
     "text": [
      "1\n",
      "2\n",
      "3\n",
      "4\n",
      "5\n",
      "6\n",
      "7\n",
      "8\n",
      "9\n"
     ]
    }
   ],
   "source": [
    "matrix = [[1, 2, 3], [4, 5, 6], [7, 8, 9]]\n",
    "\n",
    "for fila in matrix:\n",
    "    for columna in fila:\n",
    "        print (columna)"
   ]
  },
  {
   "cell_type": "code",
   "execution_count": 173,
   "metadata": {},
   "outputs": [
    {
     "name": "stdout",
     "output_type": "stream",
     "text": [
      "{'adios': 'hola', 'goodbye': 'hello', 'ciao': 'ciao'}\n"
     ]
    }
   ],
   "source": [
    "#lists comprenhension \n",
    "\n",
    "diccionario = {'hola': 'adios', 'hello' : 'goodbye', 'ciao': 'ciao'}\n",
    "alreves = {value:key for key, value in diccionario.items()}\n",
    "print (alreves)"
   ]
  },
  {
   "cell_type": "code",
   "execution_count": 178,
   "metadata": {},
   "outputs": [],
   "source": [
    "lis = [1, 2, 3, 4]\n",
    "di = {1 : 1, 2 : 4, 3 : 9, 4 : 6}"
   ]
  },
  {
   "cell_type": "code",
   "execution_count": 179,
   "metadata": {},
   "outputs": [],
   "source": [
    "#abrir archivos"
   ]
  },
  {
   "cell_type": "code",
   "execution_count": 183,
   "metadata": {},
   "outputs": [],
   "source": [
    "#with open(file..txt) as archivo: \n",
    "    #data = archivo.readlines()  #por que devueve todas la lineas como una lista. \n",
    "    #print linea.replace ('\\n', '') \n",
    "#archivo.close "
   ]
  },
  {
   "cell_type": "code",
   "execution_count": null,
   "metadata": {},
   "outputs": [],
   "source": []
  },
  {
   "cell_type": "code",
   "execution_count": null,
   "metadata": {},
   "outputs": [],
   "source": []
  }
 ],
 "metadata": {
  "kernelspec": {
   "display_name": "Python 3",
   "language": "python",
   "name": "python3"
  },
  "language_info": {
   "codemirror_mode": {
    "name": "ipython",
    "version": 3
   },
   "file_extension": ".py",
   "mimetype": "text/x-python",
   "name": "python",
   "nbconvert_exporter": "python",
   "pygments_lexer": "ipython3",
   "version": "3.7.0"
  }
 },
 "nbformat": 4,
 "nbformat_minor": 2
}
