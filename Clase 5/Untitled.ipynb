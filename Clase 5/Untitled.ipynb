{
 "cells": [
  {
   "cell_type": "code",
   "execution_count": null,
   "metadata": {},
   "outputs": [],
   "source": [
    "import requests \n",
    "\n",
    "responses = requests.get('https://swapi.co/api/people')\n",
    "\n",
    "res = responses.json()\n",
    "print(res)"
   ]
  },
  {
   "cell_type": "code",
   "execution_count": null,
   "metadata": {},
   "outputs": [],
   "source": [
    "male_Blonde = []\n",
    "\n",
    "while(res['next'] != None):\n",
    "\n",
    "    for dic in res['results']:\n",
    "        if (dic['hair_color'] == 'blond'  and dic['gender'] == 'male'):\n",
    "            male_Blonde.append(dic['name'])\n",
    "\n",
    "    res = requests.get(res['next'])\n",
    "        \n",
    "print (male_Blonde)\n",
    "    "
   ]
  }
 ],
 "metadata": {
  "kernelspec": {
   "display_name": "Python 3",
   "language": "python",
   "name": "python3"
  },
  "language_info": {
   "codemirror_mode": {
    "name": "ipython",
    "version": 3
   },
   "file_extension": ".py",
   "mimetype": "text/x-python",
   "name": "python",
   "nbconvert_exporter": "python",
   "pygments_lexer": "ipython3",
   "version": "3.7.0"
  }
 },
 "nbformat": 4,
 "nbformat_minor": 2
}
