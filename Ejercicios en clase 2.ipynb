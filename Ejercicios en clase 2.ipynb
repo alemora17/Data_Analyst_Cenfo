{
 "cells": [
  {
   "cell_type": "code",
   "execution_count": 4,
   "metadata": {},
   "outputs": [
    {
     "name": "stdout",
     "output_type": "stream",
     "text": [
      "[2002, 2009, 2016, 2023, 2037, 2044, 2051, 2058, 2072, 2079, 2086, 2093, 2107, 2114, 2121, 2128, 2142, 2149, 2156, 2163, 2177, 2184, 2191, 2198, 2212, 2219, 2226, 2233, 2247, 2254, 2261, 2268, 2282, 2289, 2296, 2303, 2317, 2324, 2331, 2338, 2352, 2359, 2366, 2373, 2387, 2394, 2401, 2408, 2422, 2429, 2436, 2443, 2457, 2464, 2471, 2478, 2492, 2499, 2506, 2513, 2527, 2534, 2541, 2548, 2562, 2569, 2576, 2583, 2597, 2604, 2611, 2618, 2632, 2639, 2646, 2653, 2667, 2674, 2681, 2688, 2702, 2709, 2716, 2723, 2737, 2744, 2751, 2758, 2772, 2779, 2786, 2793, 2807, 2814, 2821, 2828, 2842, 2849, 2856, 2863, 2877, 2884, 2891, 2898, 2912, 2919, 2926, 2933, 2947, 2954, 2961, 2968, 2982, 2989, 2996, 3003, 3017, 3024, 3031, 3038, 3052, 3059, 3066, 3073, 3087, 3094, 3101, 3108, 3122, 3129, 3136, 3143, 3157, 3164, 3171, 3178, 3192, 3199]\n"
     ]
    }
   ],
   "source": [
    "resultado = []\n",
    "\n",
    "for i in range (2000, 3201):\n",
    "    # queremos encontrar los numeros divisibles entre 7 pero no multiplos de 7\n",
    "    if i % 7 == 0 and i % 5 != 0:\n",
    "            resultado.append(i)\n",
    "print (resultado)"
   ]
  },
  {
   "cell_type": "code",
   "execution_count": 7,
   "metadata": {},
   "outputs": [
    {
     "name": "stdout",
     "output_type": "stream",
     "text": [
      "['34', ' 67', ' 32', ' 56', ' 89']\n",
      "('34', ' 67', ' 32', ' 56', ' 89')\n"
     ]
    }
   ],
   "source": [
    "# un programa que genere una lista y un tuple \n",
    "\n",
    "variable  = '34, 67, 32, 56, 89'  # meter estos valores dentro de de una lista y un tup\n",
    "\n",
    "lista = variable.split(',')\n",
    "tup = tuple(lista)\n",
    "            \n",
    "print (lista)\n",
    "print (tup)\n"
   ]
  },
  {
   "cell_type": "code",
   "execution_count": 10,
   "metadata": {},
   "outputs": [
    {
     "name": "stdout",
     "output_type": "stream",
     "text": [
      "['400', '402', '404', '406', '408', '420', '422', '424', '426', '428', '440', '442', '444', '446', '448', '460', '462', '464', '466', '468', '480', '482', '484', '486', '488']\n"
     ]
    }
   ],
   "source": [
    "# 3\n",
    "\n",
    "resultado = []\n",
    "for i in range (399, 501):  #recordar que el ultimo numero es exclusivo\n",
    "    s = str(i)  #convertirlo en in string para poder iterar sobre cada caracter\n",
    "    if (int (s[0]) %2 == 0) and int(s[1]) %2 == 0 and (int(s[2]) %2==0):\n",
    "        resultado.append(s)\n",
    "print (resultado)\n",
    "            "
   ]
  },
  {
   "cell_type": "code",
   "execution_count": 18,
   "metadata": {},
   "outputs": [
    {
     "name": "stdout",
     "output_type": "stream",
     "text": [
      "3\n",
      "8\n"
     ]
    }
   ],
   "source": [
    "#cuantos caracteres y digitos en pura vida 506\n",
    "\n",
    "variable = 'Pura Vida 506' #recordar que las listas son caracteres \n",
    "digitos = [str(x) for x in range (0,10)]\n",
    "count_num = 0\n",
    "count_let = 0\n",
    "\n",
    "for char in variable.replace(' ', ''):\n",
    "    count_num = count_num + 1 if char in digitos else count_num\n",
    "    count_let = count_let + 1 if char not in digitos else count_let\n",
    "    \n",
    "\n",
    "'''\n",
    "for char in variable.replace(' ', ''): \n",
    "    count_num += 1 \n",
    "else:\n",
    "    count_let += 1\n",
    "'''\n",
    "\n",
    "print(count_num)\n",
    "print (count_let)\n"
   ]
  },
  {
   "cell_type": "code",
   "execution_count": null,
   "metadata": {},
   "outputs": [],
   "source": []
  }
 ],
 "metadata": {
  "kernelspec": {
   "display_name": "Python 3",
   "language": "python",
   "name": "python3"
  },
  "language_info": {
   "codemirror_mode": {
    "name": "ipython",
    "version": 3
   },
   "file_extension": ".py",
   "mimetype": "text/x-python",
   "name": "python",
   "nbconvert_exporter": "python",
   "pygments_lexer": "ipython3",
   "version": "3.7.0"
  }
 },
 "nbformat": 4,
 "nbformat_minor": 2
}
