{
 "cells": [
  {
   "cell_type": "markdown",
   "metadata": {},
   "source": [
    "# Proyecto 1: Tic Tac Toe\n",
    "\n",
    "Para el primer proyecto del curso, se pretende explotar las habilidades adquiridas en programación básica de Python y en la creación de funciones para agrupar código. \n",
    "\n",
    "Para esta tarea van a haber 2 niveles: \n",
    "\n",
    "    - Nivel 1: Realizar el proyecto con solamente este enunciado y crear sus propios pasos de principio a fin\n",
    "   \n",
    "    - Nivel 2: La próxima semana voy a subir una hoja que se llama \"Proyecto 1 Guiado\" que describe los pasos del proyecto con más detalle para aquellos que sientan que necesitan de una ayuda adicional\n",
    "    \n",
    "    \n",
    "### Instrucciones: \n",
    "\n",
    "El proyecto se trata de crear un juego de tic tac toe, para los que no sabe qué es aquí están las [reglas](https://www.exploratorium.edu/brain_explorer/tictactoe.html).\n",
    "\n",
    "El juego debe seguir las reglas del Tic Tac Toe tradicional y tiene los siguientes requerimientos: \n",
    "\n",
    "* El juego debe ser para dos jugadores que jueguen en la mísma máquina\n",
    "* El juego debe tener dos formatos de juego: Contra un humano y contra la computadora\n",
    "* En el caso de la computadora, se debería programar para que la máquina pueda hacer jugadas aleatorias\n",
    "* Se debe imprimir un \"tablero\" de juego que muestre el estado actual del juego (puntos extra para el que logre hacer que el tablero se actualice sin tener que repetirse en pantalla).\n",
    "* Se debe aceptar las entradas de los jugadores, quienes van a escoger un cuadrante donde quieren poner su figura. \n",
    "* Cada jugador debe poder seleccionar si quiere jugar con \"X\" o con \"O\"\n",
    "* Idealmente el juego debe ser contruido por medio de funciones (modular)\n",
    "\n",
    "**En internet van a poder encontrar muchas implementaciones de este juego, pueden buscar en google ayuda, pero NO buscar \"juego de tic tac toe python\" o algo similar ya que no van a aprender nada. Recuerden que este ejercicio es para mejorar sus habilidades de código**\n",
    "\n",
    "Les recomiendo intentar hacer el juego sin ver la solución guiada y una vez que tengan dudas revisarla. De esta manera van a sacarle mayor provecho al proyecto. \n",
    "\n",
    "**Para muchos el ejercicio va a ser dificil, ¡no se frustren! Es normal, especialmente para los que nunca han programado. Busquen ayuda de sus compañeros (sin copiar) y traten de apoyarse en ellos.**"
   ]
  },
  {
   "cell_type": "code",
   "execution_count": 3,
   "metadata": {},
   "outputs": [],
   "source": [
    "class Tictactoe:\n",
    "    \n",
    "    def __init__(self):\n",
    "        self.tablero = [\n",
    "            [None, None, None],\n",
    "            [None, None, None],\n",
    "            [None, None, None]\n",
    "        ]\n",
    "        self.listaJugadores = {}\n",
    "        self.jugadorActual = None\n",
    "        self.diccionarioCoordenadas = construirCoordenadas()\n",
    "        self.juegoFinalizado = False\n",
    "    \n",
    "    def construirCoordenadas(self):\n",
    "        pass\n",
    "    \n",
    "    def revisarVertical(self):\n",
    "        pass\n",
    "    \n",
    "    def revisarHorizontal(self):\n",
    "        pass\n",
    "    \n",
    "    def revisarDiagonal(self):\n",
    "        pass\n",
    "    \n",
    "    def revisarEstadoJuego(self):\n",
    "        pass\n",
    "    \n",
    "    def hacerJugada(self, jugada):\n",
    "        pass\n",
    "    \n",
    "    def ingresarJugador(self):\n",
    "        pass\n",
    "    \n",
    "    def inicioJuego(self):\n",
    "        pass\n",
    "    \n",
    "    def jugar(self):\n",
    "        pass\n",
    "    \n",
    "    def finalizarJuego(self):\n",
    "        pass "
   ]
  },
  {
   "cell_type": "code",
   "execution_count": null,
   "metadata": {},
   "outputs": [],
   "source": [
    "class Jugador():\n",
    "    \n",
    "    def __init__(self, nombre, ficha, esComputadora = False):\n",
    "        self.nombre = nombre\n",
    "        self.ficha = ficha \n",
    "        self.esComputadora = esComputadora\n",
    "        \n",
    "    def __str__(self):\n",
    "        pass"
   ]
  },
  {
   "cell_type": "code",
   "execution_count": null,
   "metadata": {},
   "outputs": [],
   "source": [
    "## Aqui va el juego\n",
    "instanciaJuego = Tictactoe()\n",
    "\n",
    "instanciaJuego.inicioJuego()"
   ]
  }
 ],
 "metadata": {
  "kernelspec": {
   "display_name": "Python 3",
   "language": "python",
   "name": "python3"
  },
  "language_info": {
   "codemirror_mode": {
    "name": "ipython",
    "version": 3
   },
   "file_extension": ".py",
   "mimetype": "text/x-python",
   "name": "python",
   "nbconvert_exporter": "python",
   "pygments_lexer": "ipython3",
   "version": "3.7.0"
  }
 },
 "nbformat": 4,
 "nbformat_minor": 2
}
