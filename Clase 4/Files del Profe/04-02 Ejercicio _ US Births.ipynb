{
 "cells": [
  {
   "cell_type": "markdown",
   "metadata": {},
   "source": [
    "# Ejercicio 1: Básico de análisis de datos\n",
    "\n",
    "Para este ejercicio vamos a utilizar el archivo que se llama \"us_births.csv\" que está en la carpeta que se llama \"datasets\" para realizar un análisis básico. "
   ]
  },
  {
   "cell_type": "markdown",
   "metadata": {},
   "source": [
    "#### 1. Cargue el archivo a una variable que se llama births"
   ]
  },
  {
   "cell_type": "code",
   "execution_count": 4,
   "metadata": {},
   "outputs": [],
   "source": [
    "dir_dataset = \"datasets/us_births.csv\""
   ]
  },
  {
   "cell_type": "code",
   "execution_count": 5,
   "metadata": {},
   "outputs": [],
   "source": [
    "with open(dir_dataset) as f:\n",
    "    births = f.readlines()\n",
    "f.close()"
   ]
  },
  {
   "cell_type": "code",
   "execution_count": 6,
   "metadata": {},
   "outputs": [
    {
     "data": {
      "text/plain": [
       "['year,month,date_of_month,day_of_week,births\\n',\n",
       " '1994,1,1,6,8096\\n',\n",
       " '1994,1,2,7,7772\\n',\n",
       " '1994,1,3,1,10142\\n',\n",
       " '1994,1,4,2,11248\\n',\n",
       " '1994,1,5,3,11053\\n',\n",
       " '1994,1,6,4,11406\\n',\n",
       " '1994,1,7,5,11251\\n',\n",
       " '1994,1,8,6,8653\\n',\n",
       " '1994,1,9,7,7910\\n']"
      ]
     },
     "execution_count": 6,
     "metadata": {},
     "output_type": "execute_result"
    }
   ],
   "source": [
    "births[:10]"
   ]
  },
  {
   "cell_type": "markdown",
   "metadata": {},
   "source": [
    "#### 2. Separe el resultado en una lista de listas y separe la fila de nombres de columna"
   ]
  },
  {
   "cell_type": "code",
   "execution_count": 7,
   "metadata": {},
   "outputs": [],
   "source": [
    "births = [i.replace(\"\\n\",\"\").split(\",\") for i in births]"
   ]
  },
  {
   "cell_type": "code",
   "execution_count": 8,
   "metadata": {},
   "outputs": [
    {
     "data": {
      "text/plain": [
       "[['year', 'month', 'date_of_month', 'day_of_week', 'births'],\n",
       " ['1994', '1', '1', '6', '8096'],\n",
       " ['1994', '1', '2', '7', '7772'],\n",
       " ['1994', '1', '3', '1', '10142'],\n",
       " ['1994', '1', '4', '2', '11248'],\n",
       " ['1994', '1', '5', '3', '11053'],\n",
       " ['1994', '1', '6', '4', '11406'],\n",
       " ['1994', '1', '7', '5', '11251'],\n",
       " ['1994', '1', '8', '6', '8653'],\n",
       " ['1994', '1', '9', '7', '7910']]"
      ]
     },
     "execution_count": 8,
     "metadata": {},
     "output_type": "execute_result"
    }
   ],
   "source": [
    "births[:10]"
   ]
  },
  {
   "cell_type": "markdown",
   "metadata": {},
   "source": [
    "#### 3. Quítele el encabezado a la tabla: "
   ]
  },
  {
   "cell_type": "code",
   "execution_count": 9,
   "metadata": {},
   "outputs": [],
   "source": [
    "headers = births[0]\n",
    "births = births[1:]"
   ]
  },
  {
   "cell_type": "markdown",
   "metadata": {},
   "source": [
    "#### 4. Cree una función que se encargue de cargar los datos\n",
    "\n",
    "La función debe:\n",
    "    - Cargar un archivo como parámetro\n",
    "    - Convierte el archivo en una lista de listas\n",
    "    - Convierte los números a ints\n",
    "    - Crea una nueva lista de listas pero con números\n",
    "    - Devuelve una lista\n",
    "    "
   ]
  },
  {
   "cell_type": "code",
   "execution_count": 10,
   "metadata": {},
   "outputs": [
    {
     "data": {
      "text/plain": [
       "[[1994, 1, 1, 6, 8096],\n",
       " [1994, 1, 2, 7, 7772],\n",
       " [1994, 1, 3, 1, 10142],\n",
       " [1994, 1, 4, 2, 11248],\n",
       " [1994, 1, 5, 3, 11053]]"
      ]
     },
     "execution_count": 10,
     "metadata": {},
     "output_type": "execute_result"
    }
   ],
   "source": [
    "#Version 1\n",
    "\n",
    "def read_csv(archivo):\n",
    "    #Cargar el archivo\n",
    "    str_data = open(archivo).read()\n",
    "    #Convertir el archivo a una lista de listas\n",
    "    str_list = str_data.split(\"\\n\")[1:]\n",
    "    #print(str_list)\n",
    "    lista_final = []\n",
    "    #Convertir números a ints\n",
    "    for row in str_list:\n",
    "        new_row = row.split(\",\")\n",
    "        int_fields = []\n",
    "        for value in new_row:\n",
    "            int_fields.append(int(value))\n",
    "    #Crear nueva lista de listas pero con números\n",
    "        lista_final.append(int_fields)\n",
    "    #Devolver una nueva lista de listas\n",
    "    return lista_final\n",
    "\n",
    "births = read_csv(dir_dataset)\n",
    "births[:5]"
   ]
  },
  {
   "cell_type": "code",
   "execution_count": 16,
   "metadata": {},
   "outputs": [
    {
     "data": {
      "text/plain": [
       "[[1994, 1, 1, 6, 8096],\n",
       " [1994, 1, 2, 7, 7772],\n",
       " [1994, 1, 3, 1, 10142],\n",
       " [1994, 1, 4, 2, 11248],\n",
       " [1994, 1, 5, 3, 11053]]"
      ]
     },
     "execution_count": 16,
     "metadata": {},
     "output_type": "execute_result"
    }
   ],
   "source": [
    "#Version 2\n",
    "def read_csv2(archivo):\n",
    "    with open(archivo) as f:\n",
    "        births = f.readlines()\n",
    "    f.close()\n",
    "    header = births[0]\n",
    "    lista_str = [i.replace(\"\\n\",\"\").split(\",\") for i in births][1:]\n",
    "    lista_final = []\n",
    "    for row in lista_str:\n",
    "        nueva_lista = [int(i) for i in row]\n",
    "        lista_final.append(nueva_lista)\n",
    "    return lista_final\n",
    "\n",
    "    \n",
    "\n",
    "births = read_csv2(dir_dataset)\n",
    "births[:5]"
   ]
  },
  {
   "cell_type": "markdown",
   "metadata": {},
   "source": [
    "#### 5. Cree una función que calcule los nacimientos por mes\n",
    "    - Recibe una lista de listas\n",
    "    - Crea un diccionario vacío\n",
    "    - Crea un diccionario que devuelve los nacimientos por mes"
   ]
  },
  {
   "cell_type": "code",
   "execution_count": 25,
   "metadata": {},
   "outputs": [
    {
     "data": {
      "text/plain": [
       "{1: 3232517,\n",
       " 2: 3018140,\n",
       " 3: 3322069,\n",
       " 4: 3185314,\n",
       " 5: 3350907,\n",
       " 6: 3296530,\n",
       " 7: 3498783,\n",
       " 8: 3525858,\n",
       " 9: 3439698,\n",
       " 10: 3378814,\n",
       " 11: 3171647,\n",
       " 12: 3301860}"
      ]
     },
     "execution_count": 25,
     "metadata": {},
     "output_type": "execute_result"
    }
   ],
   "source": [
    "def nacimientos_mensuales(data):\n",
    "    \"\"\"\n",
    "    Recibe una lista de listas y lo convierte en un diccionario\n",
    "    \"\"\"\n",
    "    nacimientos_por_mes = {}\n",
    "    for row in data:\n",
    "        #print(row)\n",
    "        mes = row[1]\n",
    "        nacimientos = row[4]\n",
    "        if mes in nacimientos_por_mes:\n",
    "            nacimientos_por_mes[mes] = nacimientos_por_mes[mes] + nacimientos\n",
    "        else:\n",
    "            nacimientos_por_mes[mes] = nacimientos\n",
    "    return nacimientos_por_mes\n",
    "\n",
    "nacimientos_por_mes = nacimientos_mensuales(births)\n",
    "nacimientos_por_mes"
   ]
  },
  {
   "cell_type": "markdown",
   "metadata": {},
   "source": [
    "#### 6. Cree una función que calcule los nacimientos por semana\n",
    "    - Recibe una lista de listas\n",
    "    - Crea un diccionario vacío\n",
    "    - Crea un diccionario que devuelve los nacimientos por semana"
   ]
  },
  {
   "cell_type": "code",
   "execution_count": 26,
   "metadata": {},
   "outputs": [
    {
     "data": {
      "text/plain": [
       "{1: 5789166,\n",
       " 2: 6446196,\n",
       " 3: 6322855,\n",
       " 4: 6288429,\n",
       " 5: 6233657,\n",
       " 6: 4562111,\n",
       " 7: 4079723}"
      ]
     },
     "execution_count": 26,
     "metadata": {},
     "output_type": "execute_result"
    }
   ],
   "source": [
    "def nacimientos_semanales(data):\n",
    "    \"\"\"\n",
    "    Recibe una lista de listas y lo convierte en un diccionario\n",
    "    \"\"\"\n",
    "    nacimientos_por_semana = {}\n",
    "    for row in data:\n",
    "        #print(row)\n",
    "        semana = row[3]\n",
    "        nacimientos = row[4]\n",
    "        if semana in nacimientos_por_semana:\n",
    "            nacimientos_por_semana[semana] = nacimientos_por_semana[semana] + nacimientos\n",
    "        else:\n",
    "            nacimientos_por_semana[semana] = nacimientos\n",
    "    return nacimientos_por_semana\n",
    "\n",
    "nacimientos_por_semana = nacimientos_semanales(births)\n",
    "nacimientos_por_semana"
   ]
  },
  {
   "cell_type": "markdown",
   "metadata": {},
   "source": [
    "#### 6. Generalizemos la función\n",
    "    - Recibe una lista de listas\n",
    "    - Crea un diccionario vacío\n",
    "    - Crea un diccionario que devuelve los nacimientos por semana"
   ]
  },
  {
   "cell_type": "code",
   "execution_count": 28,
   "metadata": {},
   "outputs": [],
   "source": [
    "def calcular_conteos(data,periodo):\n",
    "    \"\"\"\n",
    "    input: \n",
    "        data: list of lists con ints\n",
    "        intervalo: indice de columna para el intervalo que se quiere calcular (semana, mes, año)\n",
    "    output:\n",
    "        Diccionario de conteos en el intervalo seleccionado\n",
    "    \"\"\"\n",
    "    nacimientos_periodo = {}\n",
    "    for row in data:\n",
    "        intervalo = row[periodo]\n",
    "        nacimientos = row[4]\n",
    "        if intervalo in nacimientos_periodo:\n",
    "            nacimientos_periodo[intervalo] = nacimientos_periodo[intervalo] + nacimientos\n",
    "        else:\n",
    "            nacimientos_periodo[intervalo] = nacimientos\n",
    "    return nacimientos_periodo\n",
    "\n",
    "nac_semanales = calcular_conteos(births,3)\n",
    "nac_mensuales = calcular_conteos(births,1)\n",
    "nac_dia_mes = calcular_conteos(births,2)\n",
    "nac_anuales = calcular_conteos(births,0)\n",
    "    "
   ]
  },
  {
   "cell_type": "code",
   "execution_count": 29,
   "metadata": {},
   "outputs": [
    {
     "data": {
      "text/plain": [
       "{1: 3232517,\n",
       " 2: 3018140,\n",
       " 3: 3322069,\n",
       " 4: 3185314,\n",
       " 5: 3350907,\n",
       " 6: 3296530,\n",
       " 7: 3498783,\n",
       " 8: 3525858,\n",
       " 9: 3439698,\n",
       " 10: 3378814,\n",
       " 11: 3171647,\n",
       " 12: 3301860}"
      ]
     },
     "execution_count": 29,
     "metadata": {},
     "output_type": "execute_result"
    }
   ],
   "source": [
    "nac_mensuales"
   ]
  },
  {
   "cell_type": "code",
   "execution_count": 30,
   "metadata": {},
   "outputs": [
    {
     "data": {
      "text/plain": [
       "{1: 5789166,\n",
       " 2: 6446196,\n",
       " 3: 6322855,\n",
       " 4: 6288429,\n",
       " 5: 6233657,\n",
       " 6: 4562111,\n",
       " 7: 4079723}"
      ]
     },
     "execution_count": 30,
     "metadata": {},
     "output_type": "execute_result"
    }
   ],
   "source": [
    "nac_semanales"
   ]
  },
  {
   "cell_type": "code",
   "execution_count": 31,
   "metadata": {},
   "outputs": [
    {
     "data": {
      "text/plain": [
       "{1994: 3952767,\n",
       " 1995: 3899589,\n",
       " 1996: 3891494,\n",
       " 1997: 3880894,\n",
       " 1998: 3941553,\n",
       " 1999: 3959417,\n",
       " 2000: 4058814,\n",
       " 2001: 4025933,\n",
       " 2002: 4021726,\n",
       " 2003: 4089950}"
      ]
     },
     "execution_count": 31,
     "metadata": {},
     "output_type": "execute_result"
    }
   ],
   "source": [
    "nac_anuales"
   ]
  },
  {
   "cell_type": "code",
   "execution_count": 32,
   "metadata": {},
   "outputs": [
    {
     "data": {
      "text/plain": [
       "{1: 1276557,\n",
       " 2: 1288739,\n",
       " 3: 1304499,\n",
       " 4: 1288154,\n",
       " 5: 1299953,\n",
       " 6: 1304474,\n",
       " 7: 1310459,\n",
       " 8: 1312297,\n",
       " 9: 1303292,\n",
       " 10: 1320764,\n",
       " 11: 1314361,\n",
       " 12: 1318437,\n",
       " 13: 1277684,\n",
       " 14: 1320153,\n",
       " 15: 1319171,\n",
       " 16: 1315192,\n",
       " 17: 1324953,\n",
       " 18: 1326855,\n",
       " 19: 1318727,\n",
       " 20: 1324821,\n",
       " 21: 1322897,\n",
       " 22: 1317381,\n",
       " 23: 1293290,\n",
       " 24: 1288083,\n",
       " 25: 1272116,\n",
       " 26: 1284796,\n",
       " 27: 1294395,\n",
       " 28: 1307685,\n",
       " 29: 1223161,\n",
       " 30: 1202095,\n",
       " 31: 746696}"
      ]
     },
     "execution_count": 32,
     "metadata": {},
     "output_type": "execute_result"
    }
   ],
   "source": [
    "nac_dia_mes"
   ]
  },
  {
   "cell_type": "code",
   "execution_count": 12,
   "metadata": {},
   "outputs": [
    {
     "data": {
      "text/plain": [
       "[[1994, 1, 1, 6, 8096],\n",
       " [1994, 1, 2, 7, 7772],\n",
       " [1994, 1, 3, 1, 10142],\n",
       " [1994, 1, 4, 2, 11248],\n",
       " [1994, 1, 5, 3, 11053],\n",
       " [1994, 1, 6, 4, 11406],\n",
       " [1994, 1, 7, 5, 11251],\n",
       " [1994, 1, 8, 6, 8653],\n",
       " [1994, 1, 9, 7, 7910],\n",
       " [1994, 1, 10, 1, 10498],\n",
       " [1994, 1, 11, 2, 11706],\n",
       " [1994, 1, 12, 3, 11567],\n",
       " [1994, 1, 13, 4, 11212],\n",
       " [1994, 1, 14, 5, 11570],\n",
       " [1994, 1, 15, 6, 8660],\n",
       " [1994, 1, 16, 7, 8123],\n",
       " [1994, 1, 17, 1, 10567],\n",
       " [1994, 1, 18, 2, 11541],\n",
       " [1994, 1, 19, 3, 11257],\n",
       " [1994, 1, 20, 4, 11682],\n",
       " [1994, 1, 21, 5, 11811],\n",
       " [1994, 1, 22, 6, 8833],\n",
       " [1994, 1, 23, 7, 8310],\n",
       " [1994, 1, 24, 1, 11125],\n",
       " [1994, 1, 25, 2, 11981],\n",
       " [1994, 1, 26, 3, 11514],\n",
       " [1994, 1, 27, 4, 11702],\n",
       " [1994, 1, 28, 5, 11666],\n",
       " [1994, 1, 29, 6, 8988],\n",
       " [1994, 1, 30, 7, 8096],\n",
       " [1994, 1, 31, 1, 10765],\n",
       " [1994, 2, 1, 2, 11755],\n",
       " [1994, 2, 2, 3, 11483],\n",
       " [1994, 2, 3, 4, 11523],\n",
       " [1994, 2, 4, 5, 11677],\n",
       " [1994, 2, 5, 6, 8991],\n",
       " [1994, 2, 6, 7, 8309],\n",
       " [1994, 2, 7, 1, 10984],\n",
       " [1994, 2, 8, 2, 12152],\n",
       " [1994, 2, 9, 3, 11515],\n",
       " [1994, 2, 10, 4, 11623],\n",
       " [1994, 2, 11, 5, 11517],\n",
       " [1994, 2, 12, 6, 8945],\n",
       " [1994, 2, 13, 7, 8171],\n",
       " [1994, 2, 14, 1, 11551],\n",
       " [1994, 2, 15, 2, 12164],\n",
       " [1994, 2, 16, 3, 12009],\n",
       " [1994, 2, 17, 4, 11674],\n",
       " [1994, 2, 18, 5, 11887],\n",
       " [1994, 2, 19, 6, 8946],\n",
       " [1994, 2, 20, 7, 8402],\n",
       " [1994, 2, 21, 1, 10617],\n",
       " [1994, 2, 22, 2, 11810],\n",
       " [1994, 2, 23, 3, 11776],\n",
       " [1994, 2, 24, 4, 11667],\n",
       " [1994, 2, 25, 5, 11905],\n",
       " [1994, 2, 26, 6, 8988],\n",
       " [1994, 2, 27, 7, 8195],\n",
       " [1994, 2, 28, 1, 11091],\n",
       " [1994, 3, 1, 2, 12127],\n",
       " [1994, 3, 2, 3, 11735],\n",
       " [1994, 3, 3, 4, 11984],\n",
       " [1994, 3, 4, 5, 12066],\n",
       " [1994, 3, 5, 6, 9215],\n",
       " [1994, 3, 6, 7, 8389],\n",
       " [1994, 3, 7, 1, 10996],\n",
       " [1994, 3, 8, 2, 12275],\n",
       " [1994, 3, 9, 3, 11780],\n",
       " [1994, 3, 10, 4, 11792],\n",
       " [1994, 3, 11, 5, 11939],\n",
       " [1994, 3, 12, 6, 9087],\n",
       " [1994, 3, 13, 7, 8248],\n",
       " [1994, 3, 14, 1, 11092],\n",
       " [1994, 3, 15, 2, 12298],\n",
       " [1994, 3, 16, 3, 11865],\n",
       " [1994, 3, 17, 4, 11976],\n",
       " [1994, 3, 18, 5, 11799],\n",
       " [1994, 3, 19, 6, 8944],\n",
       " [1994, 3, 20, 7, 8243],\n",
       " [1994, 3, 21, 1, 11140],\n",
       " [1994, 3, 22, 2, 11964],\n",
       " [1994, 3, 23, 3, 11637],\n",
       " [1994, 3, 24, 4, 11904],\n",
       " [1994, 3, 25, 5, 11568],\n",
       " [1994, 3, 26, 6, 8957],\n",
       " [1994, 3, 27, 7, 8189],\n",
       " [1994, 3, 28, 1, 11051],\n",
       " [1994, 3, 29, 2, 12154],\n",
       " [1994, 3, 30, 3, 11540],\n",
       " [1994, 3, 31, 4, 11782],\n",
       " [1994, 4, 1, 5, 10630],\n",
       " [1994, 4, 2, 6, 8782],\n",
       " [1994, 4, 3, 7, 7530],\n",
       " [1994, 4, 4, 1, 10909],\n",
       " [1994, 4, 5, 2, 11876],\n",
       " [1994, 4, 6, 3, 11811],\n",
       " [1994, 4, 7, 4, 11718],\n",
       " [1994, 4, 8, 5, 11532],\n",
       " [1994, 4, 9, 6, 8791],\n",
       " [1994, 4, 10, 7, 8183],\n",
       " [1994, 4, 11, 1, 11060],\n",
       " [1994, 4, 12, 2, 12146],\n",
       " [1994, 4, 13, 3, 11428],\n",
       " [1994, 4, 14, 4, 11709],\n",
       " [1994, 4, 15, 5, 11753],\n",
       " [1994, 4, 16, 6, 8790],\n",
       " [1994, 4, 17, 7, 7867],\n",
       " [1994, 4, 18, 1, 11094],\n",
       " [1994, 4, 19, 2, 11966],\n",
       " [1994, 4, 20, 3, 11585],\n",
       " [1994, 4, 21, 4, 11509],\n",
       " [1994, 4, 22, 5, 11553],\n",
       " [1994, 4, 23, 6, 8613],\n",
       " [1994, 4, 24, 7, 8089],\n",
       " [1994, 4, 25, 1, 10909],\n",
       " [1994, 4, 26, 2, 12236],\n",
       " [1994, 4, 27, 3, 11701],\n",
       " [1994, 4, 28, 4, 11527],\n",
       " [1994, 4, 29, 5, 11474],\n",
       " [1994, 4, 30, 6, 8621],\n",
       " [1994, 5, 1, 7, 8145],\n",
       " [1994, 5, 2, 1, 11169],\n",
       " [1994, 5, 3, 2, 12023],\n",
       " [1994, 5, 4, 3, 11754],\n",
       " [1994, 5, 5, 4, 11958],\n",
       " [1994, 5, 6, 5, 11904],\n",
       " [1994, 5, 7, 6, 8641],\n",
       " [1994, 5, 8, 7, 8203],\n",
       " [1994, 5, 9, 1, 10914],\n",
       " [1994, 5, 10, 2, 11771],\n",
       " [1994, 5, 11, 3, 11278],\n",
       " [1994, 5, 12, 4, 11822],\n",
       " [1994, 5, 13, 5, 11085],\n",
       " [1994, 5, 14, 6, 8830],\n",
       " [1994, 5, 15, 7, 8253],\n",
       " [1994, 5, 16, 1, 11103],\n",
       " [1994, 5, 17, 2, 12289],\n",
       " [1994, 5, 18, 3, 11668],\n",
       " [1994, 5, 19, 4, 11411],\n",
       " [1994, 5, 20, 5, 11645],\n",
       " [1994, 5, 21, 6, 8830],\n",
       " [1994, 5, 22, 7, 8449],\n",
       " [1994, 5, 23, 1, 11434],\n",
       " [1994, 5, 24, 2, 12562],\n",
       " [1994, 5, 25, 3, 12005],\n",
       " [1994, 5, 26, 4, 11979],\n",
       " [1994, 5, 27, 5, 12132],\n",
       " [1994, 5, 28, 6, 8840],\n",
       " [1994, 5, 29, 7, 8205],\n",
       " [1994, 5, 30, 1, 8468],\n",
       " [1994, 5, 31, 2, 11525],\n",
       " [1994, 6, 1, 3, 12349],\n",
       " [1994, 6, 2, 4, 12166],\n",
       " [1994, 6, 3, 5, 11799],\n",
       " [1994, 6, 4, 6, 9182],\n",
       " [1994, 6, 5, 7, 8289],\n",
       " [1994, 6, 6, 1, 11130],\n",
       " [1994, 6, 7, 2, 12145],\n",
       " [1994, 6, 8, 3, 11784],\n",
       " [1994, 6, 9, 4, 11648],\n",
       " [1994, 6, 10, 5, 12006],\n",
       " [1994, 6, 11, 6, 8618],\n",
       " [1994, 6, 12, 7, 8171],\n",
       " [1994, 6, 13, 1, 10692],\n",
       " [1994, 6, 14, 2, 12074],\n",
       " [1994, 6, 15, 3, 11954],\n",
       " [1994, 6, 16, 4, 11852],\n",
       " [1994, 6, 17, 5, 11744],\n",
       " [1994, 6, 18, 6, 8907],\n",
       " [1994, 6, 19, 7, 8302],\n",
       " [1994, 6, 20, 1, 11337],\n",
       " [1994, 6, 21, 2, 12182],\n",
       " [1994, 6, 22, 3, 12213],\n",
       " [1994, 6, 23, 4, 11939],\n",
       " [1994, 6, 24, 5, 11979],\n",
       " [1994, 6, 25, 6, 9047],\n",
       " [1994, 6, 26, 7, 8306],\n",
       " [1994, 6, 27, 1, 11309],\n",
       " [1994, 6, 28, 2, 12211],\n",
       " [1994, 6, 29, 3, 12245],\n",
       " [1994, 6, 30, 4, 12157],\n",
       " [1994, 7, 1, 5, 12454],\n",
       " [1994, 7, 2, 6, 9268],\n",
       " [1994, 7, 3, 7, 8298],\n",
       " [1994, 7, 4, 1, 8564],\n",
       " [1994, 7, 5, 2, 11609],\n",
       " [1994, 7, 6, 3, 13086],\n",
       " [1994, 7, 7, 4, 13049],\n",
       " [1994, 7, 8, 5, 12623],\n",
       " [1994, 7, 9, 6, 9325],\n",
       " [1994, 7, 10, 7, 8684],\n",
       " [1994, 7, 11, 1, 11567],\n",
       " [1994, 7, 12, 2, 12507],\n",
       " [1994, 7, 13, 3, 12134],\n",
       " [1994, 7, 14, 4, 12485],\n",
       " [1994, 7, 15, 5, 12691],\n",
       " [1994, 7, 16, 6, 9547],\n",
       " [1994, 7, 17, 7, 8848],\n",
       " [1994, 7, 18, 1, 11561],\n",
       " [1994, 7, 19, 2, 12583],\n",
       " [1994, 7, 20, 3, 12378],\n",
       " [1994, 7, 21, 4, 12447],\n",
       " [1994, 7, 22, 5, 12486],\n",
       " [1994, 7, 23, 6, 9463],\n",
       " [1994, 7, 24, 7, 8734],\n",
       " [1994, 7, 25, 1, 11757],\n",
       " [1994, 7, 26, 2, 12591],\n",
       " [1994, 7, 27, 3, 12423],\n",
       " [1994, 7, 28, 4, 12539],\n",
       " [1994, 7, 29, 5, 12231],\n",
       " [1994, 7, 30, 6, 9340],\n",
       " [1994, 7, 31, 7, 8590],\n",
       " [1994, 8, 1, 1, 11428],\n",
       " [1994, 8, 2, 2, 12622],\n",
       " [1994, 8, 3, 3, 12147],\n",
       " [1994, 8, 4, 4, 12601],\n",
       " [1994, 8, 5, 5, 12251],\n",
       " [1994, 8, 6, 6, 9336],\n",
       " [1994, 8, 7, 7, 8517],\n",
       " [1994, 8, 8, 1, 11528],\n",
       " [1994, 8, 9, 2, 12643],\n",
       " [1994, 8, 10, 3, 12525],\n",
       " [1994, 8, 11, 4, 12147],\n",
       " [1994, 8, 12, 5, 12479],\n",
       " [1994, 8, 13, 6, 9474],\n",
       " [1994, 8, 14, 7, 8926],\n",
       " [1994, 8, 15, 1, 11391],\n",
       " [1994, 8, 16, 2, 12605],\n",
       " [1994, 8, 17, 3, 12344],\n",
       " [1994, 8, 18, 4, 12313],\n",
       " [1994, 8, 19, 5, 12227],\n",
       " [1994, 8, 20, 6, 9646],\n",
       " [1994, 8, 21, 7, 8663],\n",
       " [1994, 8, 22, 1, 11489],\n",
       " [1994, 8, 23, 2, 12284],\n",
       " [1994, 8, 24, 3, 12176],\n",
       " [1994, 8, 25, 4, 12076],\n",
       " [1994, 8, 26, 5, 12122],\n",
       " [1994, 8, 27, 6, 9171],\n",
       " [1994, 8, 28, 7, 8779],\n",
       " [1994, 8, 29, 1, 11560],\n",
       " [1994, 8, 30, 2, 12431],\n",
       " [1994, 8, 31, 3, 12272],\n",
       " [1994, 9, 1, 4, 12183],\n",
       " [1994, 9, 2, 5, 12099],\n",
       " [1994, 9, 3, 6, 9042],\n",
       " [1994, 9, 4, 7, 8420],\n",
       " [1994, 9, 5, 1, 8378],\n",
       " [1994, 9, 6, 2, 11448],\n",
       " [1994, 9, 7, 3, 12660],\n",
       " [1994, 9, 8, 4, 12693],\n",
       " [1994, 9, 9, 5, 12811],\n",
       " [1994, 9, 10, 6, 9424],\n",
       " [1994, 9, 11, 7, 8373],\n",
       " [1994, 9, 12, 1, 11500],\n",
       " [1994, 9, 13, 2, 12560],\n",
       " [1994, 9, 14, 3, 12566],\n",
       " [1994, 9, 15, 4, 12655],\n",
       " [1994, 9, 16, 5, 12884],\n",
       " [1994, 9, 17, 6, 9779],\n",
       " [1994, 9, 18, 7, 8603],\n",
       " [1994, 9, 19, 1, 11659],\n",
       " [1994, 9, 20, 2, 12584],\n",
       " [1994, 9, 21, 3, 12468],\n",
       " [1994, 9, 22, 4, 12590],\n",
       " [1994, 9, 23, 5, 12522],\n",
       " [1994, 9, 24, 6, 9597],\n",
       " [1994, 9, 25, 7, 8754],\n",
       " [1994, 9, 26, 1, 11597],\n",
       " [1994, 9, 27, 2, 12591],\n",
       " [1994, 9, 28, 3, 12405],\n",
       " [1994, 9, 29, 4, 12288],\n",
       " [1994, 9, 30, 5, 12090],\n",
       " [1994, 10, 1, 6, 9351],\n",
       " [1994, 10, 2, 7, 8477],\n",
       " [1994, 10, 3, 1, 11437],\n",
       " [1994, 10, 4, 2, 12378],\n",
       " [1994, 10, 5, 3, 12061],\n",
       " [1994, 10, 6, 4, 12017],\n",
       " [1994, 10, 7, 5, 12050],\n",
       " [1994, 10, 8, 6, 8981],\n",
       " [1994, 10, 9, 7, 8038],\n",
       " [1994, 10, 10, 1, 11110],\n",
       " [1994, 10, 11, 2, 12236],\n",
       " [1994, 10, 12, 3, 11846],\n",
       " [1994, 10, 13, 4, 11398],\n",
       " [1994, 10, 14, 5, 11959],\n",
       " [1994, 10, 15, 6, 9077],\n",
       " [1994, 10, 16, 7, 8022],\n",
       " [1994, 10, 17, 1, 11127],\n",
       " [1994, 10, 18, 2, 11888],\n",
       " [1994, 10, 19, 3, 11533],\n",
       " [1994, 10, 20, 4, 11876],\n",
       " [1994, 10, 21, 5, 11562],\n",
       " [1994, 10, 22, 6, 9086],\n",
       " [1994, 10, 23, 7, 7914],\n",
       " [1994, 10, 24, 1, 11068],\n",
       " [1994, 10, 25, 2, 12019],\n",
       " [1994, 10, 26, 3, 11683],\n",
       " [1994, 10, 27, 4, 11420],\n",
       " [1994, 10, 28, 5, 11608],\n",
       " [1994, 10, 29, 6, 8855],\n",
       " [1994, 10, 30, 7, 8262],\n",
       " [1994, 10, 31, 1, 9833],\n",
       " [1994, 11, 1, 2, 12316],\n",
       " [1994, 11, 2, 3, 11736],\n",
       " [1994, 11, 3, 4, 11703],\n",
       " [1994, 11, 4, 5, 11956],\n",
       " [1994, 11, 5, 6, 8826],\n",
       " [1994, 11, 6, 7, 8100],\n",
       " [1994, 11, 7, 1, 11283],\n",
       " [1994, 11, 8, 2, 11999],\n",
       " [1994, 11, 9, 3, 11811],\n",
       " [1994, 11, 10, 4, 11728],\n",
       " [1994, 11, 11, 5, 11533],\n",
       " [1994, 11, 12, 6, 8672],\n",
       " [1994, 11, 13, 7, 8093],\n",
       " [1994, 11, 14, 1, 11044],\n",
       " [1994, 11, 15, 2, 11985],\n",
       " [1994, 11, 16, 3, 11634],\n",
       " [1994, 11, 17, 4, 11703],\n",
       " [1994, 11, 18, 5, 11826],\n",
       " [1994, 11, 19, 6, 8771],\n",
       " [1994, 11, 20, 7, 8133],\n",
       " [1994, 11, 21, 1, 11807],\n",
       " [1994, 11, 22, 2, 12764],\n",
       " [1994, 11, 23, 3, 11332],\n",
       " [1994, 11, 24, 4, 8036],\n",
       " [1994, 11, 25, 5, 9419],\n",
       " [1994, 11, 26, 6, 8427],\n",
       " [1994, 11, 27, 7, 7937],\n",
       " [1994, 11, 28, 1, 11003],\n",
       " [1994, 11, 29, 2, 12177],\n",
       " [1994, 11, 30, 3, 11643],\n",
       " [1994, 12, 1, 4, 11681],\n",
       " [1994, 12, 2, 5, 11379],\n",
       " [1994, 12, 3, 6, 8585],\n",
       " [1994, 12, 4, 7, 7980],\n",
       " [1994, 12, 5, 1, 10772],\n",
       " [1994, 12, 6, 2, 11923],\n",
       " [1994, 12, 7, 3, 11335],\n",
       " [1994, 12, 8, 4, 11337],\n",
       " [1994, 12, 9, 5, 11205],\n",
       " [1994, 12, 10, 6, 8461],\n",
       " [1994, 12, 11, 7, 7936],\n",
       " [1994, 12, 12, 1, 11106],\n",
       " [1994, 12, 13, 2, 11884],\n",
       " [1994, 12, 14, 3, 11716],\n",
       " [1994, 12, 15, 4, 11962],\n",
       " [1994, 12, 16, 5, 12144],\n",
       " [1994, 12, 17, 6, 8726],\n",
       " [1994, 12, 18, 7, 8130],\n",
       " [1994, 12, 19, 1, 11502],\n",
       " [1994, 12, 20, 2, 12880],\n",
       " [1994, 12, 21, 3, 12391],\n",
       " [1994, 12, 22, 4, 11504],\n",
       " [1994, 12, 23, 5, 10087],\n",
       " [1994, 12, 24, 6, 7898],\n",
       " [1994, 12, 25, 7, 7192],\n",
       " [1994, 12, 26, 1, 8454],\n",
       " [1994, 12, 27, 2, 11131],\n",
       " [1994, 12, 28, 3, 12398],\n",
       " [1994, 12, 29, 4, 12189],\n",
       " [1994, 12, 30, 5, 12051],\n",
       " [1994, 12, 31, 6, 8809]]"
      ]
     },
     "execution_count": 12,
     "metadata": {},
     "output_type": "execute_result"
    }
   ],
   "source": [
    "list(filter(lambda x: x[0]==1994, births))"
   ]
  },
  {
   "cell_type": "code",
   "execution_count": 15,
   "metadata": {},
   "outputs": [
    {
     "data": {
      "text/plain": [
       "365"
      ]
     },
     "execution_count": 15,
     "metadata": {},
     "output_type": "execute_result"
    }
   ],
   "source": [
    "len(list(filter(lambda x: x[0]==1994, births)))"
   ]
  },
  {
   "cell_type": "code",
   "execution_count": null,
   "metadata": {},
   "outputs": [],
   "source": []
  },
  {
   "cell_type": "code",
   "execution_count": null,
   "metadata": {},
   "outputs": [],
   "source": []
  }
 ],
 "metadata": {
  "kernelspec": {
   "display_name": "Python 3",
   "language": "python",
   "name": "python3"
  },
  "language_info": {
   "codemirror_mode": {
    "name": "ipython",
    "version": 3
   },
   "file_extension": ".py",
   "mimetype": "text/x-python",
   "name": "python",
   "nbconvert_exporter": "python",
   "pygments_lexer": "ipython3",
   "version": "3.6.3"
  }
 },
 "nbformat": 4,
 "nbformat_minor": 2
}
