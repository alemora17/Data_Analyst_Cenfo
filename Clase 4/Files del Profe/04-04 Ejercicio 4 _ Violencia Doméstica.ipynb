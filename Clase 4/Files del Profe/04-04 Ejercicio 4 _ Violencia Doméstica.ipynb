{
 "cells": [
  {
   "cell_type": "markdown",
   "metadata": {},
   "source": [
    "# Ejericio Clases con Datos\n",
    "\n",
    "Para este ejercicio vamos a utilizar los datos en el archivo \"nfl-suspensions-data.csv\" para analizar la violencia doméstica causada por los jugadores de la NFL."
   ]
  },
  {
   "cell_type": "code",
   "execution_count": 16,
   "metadata": {},
   "outputs": [],
   "source": [
    "#Imports\n",
    "import csv"
   ]
  },
  {
   "cell_type": "code",
   "execution_count": 17,
   "metadata": {},
   "outputs": [],
   "source": [
    "dir_dataset = \"Python-Cenfotec-oct2018/Materiales/Lecciones/L4/Ejercicios/datasets/nfl-suspensions-data.csv\"\n",
    "\n",
    "def read_csv(file):\n",
    "    with open(file, \"r\") as f:\n",
    "        reader = csv.reader(f)\n",
    "        raw_data = list(reader)\n",
    "        headers = raw_data[0]\n",
    "        data = raw_data[1:]\n",
    "    return((headers, data))\n",
    "\n",
    "headers,raw_data = read_csv(dir_dataset)"
   ]
  },
  {
   "cell_type": "code",
   "execution_count": 18,
   "metadata": {},
   "outputs": [
    {
     "data": {
      "text/plain": [
       "['name', 'team', 'games', 'category', 'desc.', 'year', 'source']"
      ]
     },
     "execution_count": 18,
     "metadata": {},
     "output_type": "execute_result"
    }
   ],
   "source": [
    "headers"
   ]
  },
  {
   "cell_type": "code",
   "execution_count": 19,
   "metadata": {},
   "outputs": [
    {
     "data": {
      "text/plain": [
       "[['F. Davis',\n",
       "  'WAS',\n",
       "  'Indef.',\n",
       "  'Substance abuse, repeated offense',\n",
       "  'Marijuana-related',\n",
       "  '2014',\n",
       "  'http://www.cbssports.com/nfl/eye-on-football/24448694/redskins-te-fred-davis-suspended-Indefiniteinitely-by-nfl'],\n",
       " ['J. Blackmon',\n",
       "  'JAX',\n",
       "  'Indef.',\n",
       "  'Substance abuse, repeated offense',\n",
       "  '',\n",
       "  '2014',\n",
       "  'http://espn.go.com/nfl/story/_/id/11257934/justin-blackmon-jacksonville-jaguars-arrested-marijuana-possession'],\n",
       " ['L. Brazill',\n",
       "  'IND',\n",
       "  'Indef.',\n",
       "  'Substance abuse, repeated offense',\n",
       "  '',\n",
       "  '2014',\n",
       "  'http://www.nfl.com/news/story/0ap2000000364622/article/lavon-brazill-released-by-colts-in-wake-of-suspension'],\n",
       " ['T. Jackson',\n",
       "  'WAS',\n",
       "  'Indef.',\n",
       "  'Substance abuse, repeated offense',\n",
       "  '',\n",
       "  '2014',\n",
       "  'http://www.nfl.com/news/story/0ap2000000364087/article/tanard-jackson-suspended-Indefiniteinitely-by-nfl'],\n",
       " ['M. Hapes',\n",
       "  'NYG',\n",
       "  'Indef.',\n",
       "  'Personal conduct',\n",
       "  'Gambling-related',\n",
       "  '1946',\n",
       "  'http://espn.go.com/blog/nflnation/tag/_/name/frank-filchock']]"
      ]
     },
     "execution_count": 19,
     "metadata": {},
     "output_type": "execute_result"
    }
   ],
   "source": [
    "raw_data[:5]"
   ]
  },
  {
   "cell_type": "markdown",
   "metadata": {},
   "source": [
    "#### Contar cuántas veces se encuentra un año en los datos"
   ]
  },
  {
   "cell_type": "code",
   "execution_count": 20,
   "metadata": {},
   "outputs": [],
   "source": [
    "yrs = {}\n",
    "for row in raw_data:\n",
    "    row_yr = row[5]\n",
    "    if row_yr in yrs:\n",
    "        yrs[row_yr]+=1\n",
    "    else:\n",
    "        yrs[row_yr]=1\n"
   ]
  },
  {
   "cell_type": "code",
   "execution_count": 22,
   "metadata": {},
   "outputs": [
    {
     "data": {
      "text/plain": [
       "{'   ': 1,\n",
       " '1946': 1,\n",
       " '1947': 1,\n",
       " '1963': 1,\n",
       " '1983': 1,\n",
       " '1986': 1,\n",
       " '1989': 17,\n",
       " '1990': 3,\n",
       " '1993': 1,\n",
       " '1994': 1,\n",
       " '1995': 1,\n",
       " '1997': 3,\n",
       " '1998': 2,\n",
       " '1999': 5,\n",
       " '2000': 1,\n",
       " '2001': 3,\n",
       " '2002': 7,\n",
       " '2003': 9,\n",
       " '2004': 6,\n",
       " '2005': 8,\n",
       " '2006': 11,\n",
       " '2007': 17,\n",
       " '2008': 10,\n",
       " '2009': 10,\n",
       " '2010': 21,\n",
       " '2011': 13,\n",
       " '2012': 45,\n",
       " '2013': 40,\n",
       " '2014': 29}"
      ]
     },
     "execution_count": 22,
     "metadata": {},
     "output_type": "execute_result"
    }
   ],
   "source": [
    "yrs"
   ]
  },
  {
   "cell_type": "markdown",
   "metadata": {},
   "source": [
    "#### Sacar una lista de equipos únicos en los datos"
   ]
  },
  {
   "cell_type": "code",
   "execution_count": 23,
   "metadata": {},
   "outputs": [
    {
     "data": {
      "text/plain": [
       "{'ARI',\n",
       " 'ATL',\n",
       " 'BAL',\n",
       " 'BUF',\n",
       " 'CAR',\n",
       " 'CHI',\n",
       " 'CIN',\n",
       " 'CLE',\n",
       " 'DAL',\n",
       " 'DEN',\n",
       " 'DET',\n",
       " 'FREE',\n",
       " 'GB',\n",
       " 'HOU',\n",
       " 'IND',\n",
       " 'JAX',\n",
       " 'KC',\n",
       " 'LA',\n",
       " 'MIA',\n",
       " 'MIN',\n",
       " 'NE',\n",
       " 'NO',\n",
       " 'NYG',\n",
       " 'NYJ',\n",
       " 'OAK',\n",
       " 'PHI',\n",
       " 'PIT',\n",
       " 'SD',\n",
       " 'SEA',\n",
       " 'SF',\n",
       " 'STL',\n",
       " 'TB',\n",
       " 'TEN',\n",
       " 'WAS'}"
      ]
     },
     "execution_count": 23,
     "metadata": {},
     "output_type": "execute_result"
    }
   ],
   "source": [
    "teams = [row[1] for row in raw_data]\n",
    "unique_teams = set(teams)\n",
    "unique_teams"
   ]
  },
  {
   "cell_type": "markdown",
   "metadata": {},
   "source": [
    "#### Sacar una lista de partidos únicos en los datos"
   ]
  },
  {
   "cell_type": "code",
   "execution_count": 24,
   "metadata": {},
   "outputs": [],
   "source": [
    "games = [row[1] for row in raw_data]\n",
    "unique_games = set(games)"
   ]
  },
  {
   "cell_type": "code",
   "execution_count": 25,
   "metadata": {},
   "outputs": [
    {
     "data": {
      "text/plain": [
       "{'ARI',\n",
       " 'ATL',\n",
       " 'BAL',\n",
       " 'BUF',\n",
       " 'CAR',\n",
       " 'CHI',\n",
       " 'CIN',\n",
       " 'CLE',\n",
       " 'DAL',\n",
       " 'DEN',\n",
       " 'DET',\n",
       " 'FREE',\n",
       " 'GB',\n",
       " 'HOU',\n",
       " 'IND',\n",
       " 'JAX',\n",
       " 'KC',\n",
       " 'LA',\n",
       " 'MIA',\n",
       " 'MIN',\n",
       " 'NE',\n",
       " 'NO',\n",
       " 'NYG',\n",
       " 'NYJ',\n",
       " 'OAK',\n",
       " 'PHI',\n",
       " 'PIT',\n",
       " 'SD',\n",
       " 'SEA',\n",
       " 'SF',\n",
       " 'STL',\n",
       " 'TB',\n",
       " 'TEN',\n",
       " 'WAS'}"
      ]
     },
     "execution_count": 25,
     "metadata": {},
     "output_type": "execute_result"
    }
   ],
   "source": [
    "unique_games"
   ]
  },
  {
   "cell_type": "markdown",
   "metadata": {},
   "source": [
    "#### Vamos a crear una clase de suspenciones"
   ]
  },
  {
   "cell_type": "code",
   "execution_count": 30,
   "metadata": {},
   "outputs": [
    {
     "data": {
      "text/plain": [
       "<__main__.Suspension at 0x10950eef0>"
      ]
     },
     "execution_count": 30,
     "metadata": {},
     "output_type": "execute_result"
    }
   ],
   "source": [
    "class Suspension():\n",
    "    def __init__(self, row):\n",
    "        self.name = row[0]\n",
    "        self.team = row[1]\n",
    "        self.games = row[2]\n",
    "        self.year  = row[5]\n",
    "tercera = Suspension(raw_data[2])\n",
    "tercera\n"
   ]
  },
  {
   "cell_type": "code",
   "execution_count": 29,
   "metadata": {},
   "outputs": [
    {
     "data": {
      "text/plain": [
       "'IND'"
      ]
     },
     "execution_count": 29,
     "metadata": {},
     "output_type": "execute_result"
    }
   ],
   "source": [
    "tercera.team"
   ]
  },
  {
   "cell_type": "code",
   "execution_count": 31,
   "metadata": {},
   "outputs": [],
   "source": [
    "del(Suspension)\n",
    "class Suspension():\n",
    "    def __init__(self, row):\n",
    "        self.name = row[0]\n",
    "        self.team = row[1]\n",
    "        self.games = row[2]\n",
    "        try:\n",
    "            self.year  = int(row[5])\n",
    "        except Exception:\n",
    "            self.year = 0\n",
    "    \n",
    "    def get_year(self):\n",
    "        return(self.year)"
   ]
  },
  {
   "cell_type": "code",
   "execution_count": 32,
   "metadata": {},
   "outputs": [],
   "source": [
    "sin_ano = Suspension(raw_data[22])\n",
    "ano_22 = sin_ano.get_year()"
   ]
  },
  {
   "cell_type": "code",
   "execution_count": 33,
   "metadata": {},
   "outputs": [
    {
     "data": {
      "text/plain": [
       "0"
      ]
     },
     "execution_count": 33,
     "metadata": {},
     "output_type": "execute_result"
    }
   ],
   "source": [
    "ano_22"
   ]
  },
  {
   "cell_type": "code",
   "execution_count": null,
   "metadata": {},
   "outputs": [],
   "source": []
  }
 ],
 "metadata": {
  "kernelspec": {
   "display_name": "Python 3",
   "language": "python",
   "name": "python3"
  },
  "language_info": {
   "codemirror_mode": {
    "name": "ipython",
    "version": 3
   },
   "file_extension": ".py",
   "mimetype": "text/x-python",
   "name": "python",
   "nbconvert_exporter": "python",
   "pygments_lexer": "ipython3",
   "version": "3.6.3"
  }
 },
 "nbformat": 4,
 "nbformat_minor": 2
}
