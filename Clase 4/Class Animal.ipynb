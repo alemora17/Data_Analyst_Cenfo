{
 "cells": [
  {
   "cell_type": "code",
   "execution_count": 2,
   "metadata": {},
   "outputs": [],
   "source": [
    "class Animal:\n",
    "    def __init__(self):\n",
    "        print(\"Se creo un animal\")\n",
    "        \n",
    "    def soy(self):\n",
    "        print(\"soy animal\")\n",
    "        \n",
    "    def comer(self):\n",
    "        print(\"Estoy comiendo\")\n",
    "        "
   ]
  },
  {
   "cell_type": "code",
   "execution_count": 3,
   "metadata": {},
   "outputs": [
    {
     "name": "stdout",
     "output_type": "stream",
     "text": [
      "Se creo un animal\n"
     ]
    }
   ],
   "source": [
    "a = Animal()"
   ]
  },
  {
   "cell_type": "code",
   "execution_count": 4,
   "metadata": {},
   "outputs": [
    {
     "name": "stdout",
     "output_type": "stream",
     "text": [
      "soy animal\n"
     ]
    }
   ],
   "source": [
    "a.soy()"
   ]
  },
  {
   "cell_type": "code",
   "execution_count": 5,
   "metadata": {},
   "outputs": [
    {
     "name": "stdout",
     "output_type": "stream",
     "text": [
      "Estoy comiendo\n"
     ]
    }
   ],
   "source": [
    "a.comer()"
   ]
  },
  {
   "cell_type": "code",
   "execution_count": 20,
   "metadata": {},
   "outputs": [],
   "source": [
    "del(Perro)\n",
    "class Perro(Animal): #perro hereedia de Animal\n",
    "    def __init__(self):\n",
    "        Animal.__init__(self) # el init de perro hereda el init de animal. \n",
    "        self.raza = \"\"\n",
    "        print(\"Se creo un perro\")\n",
    "        \n",
    "    def comer(self):\n",
    "        print(\"Estoy comiendo Superperro\")  ## voy a sobreescribir lo que viene en la funcion de comer "
   ]
  },
  {
   "cell_type": "code",
   "execution_count": 18,
   "metadata": {},
   "outputs": [
    {
     "name": "stdout",
     "output_type": "stream",
     "text": [
      "Se creo un animal\n",
      "Se creo un perro\n"
     ]
    }
   ],
   "source": [
    "d = Perro()  #primero va a llamar el init del animal y luego el del perro"
   ]
  },
  {
   "cell_type": "code",
   "execution_count": 19,
   "metadata": {},
   "outputs": [
    {
     "name": "stdout",
     "output_type": "stream",
     "text": [
      "Estoy comiendo Superperro\n"
     ]
    }
   ],
   "source": [
    "d.comer()"
   ]
  },
  {
   "cell_type": "code",
   "execution_count": null,
   "metadata": {},
   "outputs": [],
   "source": []
  },
  {
   "cell_type": "code",
   "execution_count": null,
   "metadata": {},
   "outputs": [],
   "source": []
  },
  {
   "cell_type": "code",
   "execution_count": null,
   "metadata": {},
   "outputs": [],
   "source": []
  }
 ],
 "metadata": {
  "kernelspec": {
   "display_name": "Python 3",
   "language": "python",
   "name": "python3"
  },
  "language_info": {
   "codemirror_mode": {
    "name": "ipython",
    "version": 3
   },
   "file_extension": ".py",
   "mimetype": "text/x-python",
   "name": "python",
   "nbconvert_exporter": "python",
   "pygments_lexer": "ipython3",
   "version": "3.7.0"
  }
 },
 "nbformat": 4,
 "nbformat_minor": 2
}
